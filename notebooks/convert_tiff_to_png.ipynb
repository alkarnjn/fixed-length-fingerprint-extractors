{
 "cells": [
  {
   "cell_type": "code",
   "execution_count": 7,
   "metadata": {},
   "outputs": [
    {
     "name": "stdout",
     "output_type": "stream",
     "text": [
      "Conversion completed. TIFF files replaced with PNG in /home/rs/21CS91R01/research/fixed-length-fingerprint-extractors/notebooks/fvc_dataset/FVC2006DB2_A\n"
     ]
    }
   ],
   "source": [
    "from PIL import Image\n",
    "import os\n",
    "\n",
    "def convert_images(folder_path):\n",
    "    # Loop through all files in the input folder\n",
    "    for filename in os.listdir(folder_path):\n",
    "        if filename.endswith('.bmp'):\n",
    "            # Open the TIFF image\n",
    "            input_path = os.path.join(folder_path, filename)\n",
    "            img = Image.open(input_path)\n",
    "\n",
    "            # Convert and save as PNG in the same folder\n",
    "            output_filename = os.path.splitext(filename)[0] + '.png'\n",
    "            output_path = os.path.join(folder_path, output_filename)\n",
    "            img.save(output_path, 'PNG')\n",
    "\n",
    "            # Remove the original TIFF file\n",
    "            os.remove(input_path)\n",
    "\n",
    "    print(f\"Conversion completed. TIFF files replaced with PNG in {folder_path}\")\n",
    "\n",
    "\n",
    "\n",
    "if __name__ == \"__main__\":\n",
    "    \n",
    "    convert_images(\"/home/rs/21CS91R01/research/fixed-length-fingerprint-extractors/notebooks/fvc_dataset/FVC2006DB2_A\")\n"
   ]
  },
  {
   "cell_type": "code",
   "execution_count": null,
   "metadata": {},
   "outputs": [],
   "source": []
  }
 ],
 "metadata": {
  "kernelspec": {
   "display_name": "flx",
   "language": "python",
   "name": "python3"
  },
  "language_info": {
   "codemirror_mode": {
    "name": "ipython",
    "version": 3
   },
   "file_extension": ".py",
   "mimetype": "text/x-python",
   "name": "python",
   "nbconvert_exporter": "python",
   "pygments_lexer": "ipython3",
   "version": "3.10.13"
  }
 },
 "nbformat": 4,
 "nbformat_minor": 2
}
