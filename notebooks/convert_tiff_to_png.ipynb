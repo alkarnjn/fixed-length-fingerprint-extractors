{
 "cells": [
  {
   "cell_type": "code",
   "execution_count": 4,
   "metadata": {},
   "outputs": [
    {
     "name": "stdout",
     "output_type": "stream",
     "text": [
      "Conversion completed. TIFF files from /home/rs/21CS91R01/datasets/anguli_imagenet replaced with PNG in /home/rs/21CS91R01/research/fixed-length-fingerprint-extractors/flx/data/iso_encoder_decoder/anguli_imagenet_ist\n"
     ]
    }
   ],
   "source": [
    "from PIL import Image\n",
    "import os\n",
    "from pathlib import Path\n",
    "\n",
    "def convert_images(in_folder: Path,out_folder):\n",
    "    # Loop through all files in the input folder\n",
    "    for in_file in in_folder.glob(\"*.tiff\"):\n",
    "        # if filename.endswith('.tiff'):\n",
    "            # Open the TIFF image\n",
    "        # in_file = os.path.join(in_folder, filename)\n",
    "        img = Image.open(in_file.as_posix())\n",
    "        out_file = out_folder/Path(in_file.name).with_suffix('.png')\n",
    "        # Convert and save as PNG in the same folder\n",
    "        # output_filename = os.path.splitext(filename)[0] + '.png'\n",
    "        # output_path = os.path.join(in_folder, output_filename)\n",
    "        img.save(out_file, 'PNG')\n",
    "\n",
    "        # Remove the original TIFF file\n",
    "        # os.remove(in_file)\n",
    "\n",
    "    print(f\"Conversion completed. TIFF files from {in_folder} replaced with PNG in {out_folder}\")\n",
    "\n",
    "\n",
    "if __name__ == \"__main__\":\n",
    "    in_folder = Path(\"/home/rs/21CS91R01/datasets/anguli_imagenet/\")\n",
    "    out_folder = Path(\"/home/rs/21CS91R01/research/fixed-length-fingerprint-extractors/flx/data/iso_encoder_decoder/anguli_imagenet_ist/\")\n",
    "    # convert_images(\"/home/rs/21CS91R01/research/fixed-length-fingerprint-extractors/notebooks/fvc_dataset/FVC2006DB2_A\")\n",
    "    convert_images(in_folder,out_folder)\n"
   ]
  },
  {
   "cell_type": "code",
   "execution_count": null,
   "metadata": {},
   "outputs": [],
   "source": []
  }
 ],
 "metadata": {
  "kernelspec": {
   "display_name": "flx",
   "language": "python",
   "name": "python3"
  },
  "language_info": {
   "codemirror_mode": {
    "name": "ipython",
    "version": 3
   },
   "file_extension": ".py",
   "mimetype": "text/x-python",
   "name": "python",
   "nbconvert_exporter": "python",
   "pygments_lexer": "ipython3",
   "version": "3.10.13"
  }
 },
 "nbformat": 4,
 "nbformat_minor": 2
}
