{
 "cells": [
  {
   "cell_type": "markdown",
   "id": "09f0c027",
   "metadata": {},
   "source": [
    "In this tutorial we will learn to:\n",
    "- Instantiate a DeepPrintExtractor\n",
    "- Prepare a training dataset\n",
    "- Train a DeepPrintExtractor"
   ]
  },
  {
   "cell_type": "markdown",
   "id": "5a3b5048",
   "metadata": {},
   "source": [
    "## Instantiate a DeepPrintExtractor\n",
    "\n",
    "This package implements a number of variants of the DeepPrint architecture. The wrapper class for all these variants is called `DeepPrintExtractor`.\n",
    "It has a `fit` method to train (and save) the model as well as an `extract` method to extract the DeepPrint features for fingerprint images. \n",
    "\n",
    "You can also try to implement your own models, but currently this is not directly supported by the package."
   ]
  },
  {
   "cell_type": "code",
   "execution_count": 4,
   "id": "9cdc3357",
   "metadata": {},
   "outputs": [
    {
     "name": "stdout",
     "output_type": "stream",
     "text": [
      "Created IdentifierSet with 10 subjects and a total of 80 samples.\n"
     ]
    }
   ],
   "source": [
    "from flx.data.dataset import IdentifierSet, Identifier\n",
    "from flx.extractor.fixed_length_extractor import get_DeepPrint_TexMinu, DeepPrintExtractor\n",
    "\n",
    "# We will use the example dataset with 10 subjects and 10 impression per subject\n",
    "training_ids: IdentifierSet = IdentifierSet([Identifier(i, j) for i in range(100,110) for j in range(8)])\n",
    "\n",
    "# We choose a dimension of 512 for the fixed-length representation (TexMinu has two outputs num_dims)\n",
    "extractor: DeepPrintExtractor = get_DeepPrint_TexMinu(num_training_subjects=training_ids.num_subjects, num_dims=256)"
   ]
  },
  {
   "cell_type": "code",
   "execution_count": 2,
   "id": "b0ba71af",
   "metadata": {},
   "outputs": [
    {
     "data": {
      "text/plain": [
       "<flx.data.dataset.IdentifierSet at 0x7fd5cdbb2320>"
      ]
     },
     "execution_count": 2,
     "metadata": {},
     "output_type": "execute_result"
    }
   ],
   "source": [
    "training_ids"
   ]
  },
  {
   "cell_type": "markdown",
   "id": "dc9687ae",
   "metadata": {},
   "source": [
    "## Training the model\n",
    "\n",
    "Instantiating the model was easy. To train it, first we will load the training data (see the [data tutorial](./dataset_tutorial.ipynb) for how to implement your own dataset).\n",
    "\n",
    "Besides the fingerprint images, we also need a mapping from subjects to integer labels (for pytorch). For some variants we also need minutiae data. To see how a more complex dataset can be loaded, have a look at `flx/setup/datasets.py`.\n",
    "\n",
    "Finally, we call the `fit` method, which trains the model and saves it to the specified path.\n",
    "\n",
    "There is also the option to add a validation set, which will be used to evaluate the embeddings during training. This is useful to monitor the training progress and to avoid overfitting.\n",
    "In this example we will not use a validation set for simplicity."
   ]
  },
  {
   "cell_type": "code",
   "execution_count": 5,
   "id": "bf461144",
   "metadata": {},
   "outputs": [
    {
     "name": "stdout",
     "output_type": "stream",
     "text": [
      "Created IdentifierSet with 10 subjects and a total of 80 samples.\n",
      "10\n",
      "Dataset with 10 subjects and a total of 80 samples.\n",
      "Created IdentifierSet with 10 subjects and a total of 80 samples.\n",
      "Using device cpu\n",
      "Loaded existing model from /home/rs/21CS91R01/research/fixed-length-fingerprint-extractors/notebooks/fvc2002_model/model.pyt\n",
      "\n",
      "\n",
      " --- Starting Epoch 51 of 250 ---\n",
      "\n",
      "Training:\n"
     ]
    },
    {
     "name": "stderr",
     "output_type": "stream",
     "text": [
      "100%|██████████| 5/5 [08:26<00:00, 101.33s/it]\n"
     ]
    },
    {
     "name": "stdout",
     "output_type": "stream",
     "text": [
      "Average Loss: 10.805987285971643\n",
      "Multiclass accuracy: 0.5\n",
      "TrainingLogEntry(\n",
      "    epoch=51,\n",
      "    training_loss=10.805987285971643,\n",
      "    loss_statistics={'texture_loss': {'crossent_loss_sum': 0.10373715162277222, 'center_loss_sum': 0.003941927850246429}, 'minutia_loss': {'crossent_loss_sum': 0.1282074436545372, 'center_loss_sum': 0.0037042201962321996}, 'minutia_map_loss': 0.435783462189138},\n",
      "    training_accuracy=0.5,\n",
      "    validation_equal_error_rate=0.5,\n",
      "}\n",
      "\n",
      "\n",
      " --- Starting Epoch 52 of 250 ---\n",
      "\n",
      "Training:\n"
     ]
    },
    {
     "name": "stderr",
     "output_type": "stream",
     "text": [
      "100%|██████████| 5/5 [09:11<00:00, 110.22s/it]\n"
     ]
    },
    {
     "name": "stdout",
     "output_type": "stream",
     "text": [
      "Average Loss: 10.687256256341934\n",
      "Multiclass accuracy: 0.3875000476837158\n",
      "TrainingLogEntry(\n",
      "    epoch=52,\n",
      "    training_loss=10.687256256341934,\n",
      "    loss_statistics={'texture_loss': {'crossent_loss_sum': 0.054192842543125154, 'center_loss_sum': 0.0017288472736254334}, 'minutia_loss': {'crossent_loss_sum': 0.06615822613239289, 'center_loss_sum': 0.001697778911329806}, 'minutia_map_loss': 0.2101990645006299},\n",
      "    training_accuracy=0.3875000476837158,\n",
      "    validation_equal_error_rate=0.3875000476837158,\n",
      "}\n",
      "\n",
      "\n",
      " --- Starting Epoch 53 of 250 ---\n",
      "\n",
      "Training:\n"
     ]
    },
    {
     "name": "stderr",
     "output_type": "stream",
     "text": [
      "100%|██████████| 5/5 [08:45<00:00, 105.12s/it]\n"
     ]
    },
    {
     "name": "stdout",
     "output_type": "stream",
     "text": [
      "Average Loss: 10.299588839411735\n",
      "Multiclass accuracy: 0.38750001788139343\n",
      "TrainingLogEntry(\n",
      "    epoch=53,\n",
      "    training_loss=10.299588839411735,\n",
      "    loss_statistics={'texture_loss': {'crossent_loss_sum': 0.03476083328326543, 'center_loss_sum': 0.0008566114585846663}, 'minutia_loss': {'crossent_loss_sum': 0.0431393434604009, 'center_loss_sum': 0.0012222837035854657}, 'minutia_map_loss': 0.13459569547325373},\n",
      "    training_accuracy=0.38750001788139343,\n",
      "    validation_equal_error_rate=0.38750001788139343,\n",
      "}\n",
      "\n",
      "\n",
      " --- Starting Epoch 54 of 250 ---\n",
      "\n",
      "Training:\n"
     ]
    },
    {
     "name": "stderr",
     "output_type": "stream",
     "text": [
      "100%|██████████| 5/5 [09:22<00:00, 112.47s/it]\n"
     ]
    },
    {
     "name": "stdout",
     "output_type": "stream",
     "text": [
      "Average Loss: 10.120456816554071\n",
      "Multiclass accuracy: 0.4125000238418579\n",
      "TrainingLogEntry(\n",
      "    epoch=54,\n",
      "    training_loss=10.120456816554071,\n",
      "    loss_statistics={'texture_loss': {'crossent_loss_sum': 0.025592613965272903, 'center_loss_sum': 0.0006806622550357133}, 'minutia_loss': {'crossent_loss_sum': 0.031973375380039214, 'center_loss_sum': 0.0009791636024601758}, 'minutia_map_loss': 0.09890632222406567},\n",
      "    training_accuracy=0.4125000238418579,\n",
      "    validation_equal_error_rate=0.4125000238418579,\n",
      "}\n",
      "\n",
      "\n",
      " --- Starting Epoch 55 of 250 ---\n",
      "\n",
      "Training:\n"
     ]
    },
    {
     "name": "stderr",
     "output_type": "stream",
     "text": [
      "100%|██████████| 5/5 [09:29<00:00, 113.97s/it]\n"
     ]
    },
    {
     "name": "stdout",
     "output_type": "stream",
     "text": [
      "Average Loss: 10.365200480818748\n",
      "Multiclass accuracy: 0.4500000476837158\n",
      "TrainingLogEntry(\n",
      "    epoch=55,\n",
      "    training_loss=10.365200480818748,\n",
      "    loss_statistics={'texture_loss': {'crossent_loss_sum': 0.021079319417476653, 'center_loss_sum': 0.0006975929532200098}, 'minutia_loss': {'crossent_loss_sum': 0.026044541001319886, 'center_loss_sum': 0.0006510751415044069}, 'minutia_map_loss': 0.08109247874468566},\n",
      "    training_accuracy=0.4500000476837158,\n",
      "    validation_equal_error_rate=0.4500000476837158,\n",
      "}\n",
      "\n",
      "\n",
      " --- Starting Epoch 56 of 250 ---\n",
      "\n",
      "Training:\n"
     ]
    },
    {
     "name": "stderr",
     "output_type": "stream",
     "text": [
      "100%|██████████| 5/5 [08:35<00:00, 103.05s/it]\n"
     ]
    },
    {
     "name": "stdout",
     "output_type": "stream",
     "text": [
      "Average Loss: 10.083460839986802\n",
      "Multiclass accuracy: 0.4374999701976776\n",
      "TrainingLogEntry(\n",
      "    epoch=56,\n",
      "    training_loss=10.083460839986802,\n",
      "    loss_statistics={'texture_loss': {'crossent_loss_sum': 0.01808251937230428, 'center_loss_sum': 0.0006690100378667315}, 'minutia_loss': {'crossent_loss_sum': 0.02097912828127543, 'center_loss_sum': 0.00046459894704942904}, 'minutia_map_loss': 0.06484079394489525},\n",
      "    training_accuracy=0.4374999701976776,\n",
      "    validation_equal_error_rate=0.4374999701976776,\n",
      "}\n",
      "\n",
      "\n",
      " --- Starting Epoch 57 of 250 ---\n",
      "\n",
      "Training:\n"
     ]
    },
    {
     "name": "stderr",
     "output_type": "stream",
     "text": [
      "100%|██████████| 5/5 [07:53<00:00, 94.76s/it] \n"
     ]
    },
    {
     "name": "stdout",
     "output_type": "stream",
     "text": [
      "Average Loss: 9.550112080574035\n",
      "Multiclass accuracy: 0.47499996423721313\n",
      "TrainingLogEntry(\n",
      "    epoch=57,\n",
      "    training_loss=9.550112080574035,\n",
      "    loss_statistics={'texture_loss': {'crossent_loss_sum': 0.013908229981149945, 'center_loss_sum': 0.0004589423071593046}, 'minutia_loss': {'crossent_loss_sum': 0.018462913589818136, 'center_loss_sum': 0.0005028007219412497}, 'minutia_map_loss': 0.05193597142185483},\n",
      "    training_accuracy=0.47499996423721313,\n",
      "    validation_equal_error_rate=0.47499996423721313,\n",
      "}\n",
      "\n",
      "\n",
      " --- Starting Epoch 58 of 250 ---\n",
      "\n",
      "Training:\n"
     ]
    },
    {
     "name": "stderr",
     "output_type": "stream",
     "text": [
      "100%|██████████| 5/5 [08:29<00:00, 101.92s/it]\n"
     ]
    },
    {
     "name": "stdout",
     "output_type": "stream",
     "text": [
      "Average Loss: 9.599979621767996\n",
      "Multiclass accuracy: 0.4375000298023224\n",
      "TrainingLogEntry(\n",
      "    epoch=58,\n",
      "    training_loss=9.599979621767996,\n",
      "    loss_statistics={'texture_loss': {'crossent_loss_sum': 0.013116629607975484, 'center_loss_sum': 0.0005458258150611073}, 'minutia_loss': {'crossent_loss_sum': 0.016000498086214066, 'center_loss_sum': 0.0005011350731365383}, 'minutia_map_loss': 0.04483575248625129},\n",
      "    training_accuracy=0.4375000298023224,\n",
      "    validation_equal_error_rate=0.4375000298023224,\n",
      "}\n",
      "\n",
      "\n",
      " --- Starting Epoch 59 of 250 ---\n",
      "\n",
      "Training:\n"
     ]
    },
    {
     "name": "stderr",
     "output_type": "stream",
     "text": [
      "100%|██████████| 5/5 [08:23<00:00, 100.75s/it]\n"
     ]
    },
    {
     "name": "stdout",
     "output_type": "stream",
     "text": [
      "Average Loss: 9.420588655769825\n",
      "Multiclass accuracy: 0.44999998807907104\n",
      "TrainingLogEntry(\n",
      "    epoch=59,\n",
      "    training_loss=9.420588655769825,\n",
      "    loss_statistics={'texture_loss': {'crossent_loss_sum': 0.010694776972134909, 'center_loss_sum': 0.00035028777913086943}, 'minutia_loss': {'crossent_loss_sum': 0.014877681930859884, 'center_loss_sum': 0.00042281396583550507}, 'minutia_map_loss': 0.039075193274766204},\n",
      "    training_accuracy=0.44999998807907104,\n",
      "    validation_equal_error_rate=0.44999998807907104,\n",
      "}\n",
      "\n",
      "\n",
      " --- Starting Epoch 60 of 250 ---\n",
      "\n",
      "Training:\n"
     ]
    },
    {
     "name": "stderr",
     "output_type": "stream",
     "text": [
      "100%|██████████| 5/5 [08:20<00:00, 100.01s/it]\n"
     ]
    },
    {
     "name": "stdout",
     "output_type": "stream",
     "text": [
      "Average Loss: 9.30543556302786\n",
      "Multiclass accuracy: 0.42500001192092896\n",
      "TrainingLogEntry(\n",
      "    epoch=60,\n",
      "    training_loss=9.30543556302786,\n",
      "    loss_statistics={'texture_loss': {'crossent_loss_sum': 0.009937428832054139, 'center_loss_sum': 0.00036654328927397727}, 'minutia_loss': {'crossent_loss_sum': 0.013050359785556792, 'center_loss_sum': 0.000320938671939075}, 'minutia_map_loss': 0.034483701294288044},\n",
      "    training_accuracy=0.42500001192092896,\n",
      "    validation_equal_error_rate=0.42500001192092896,\n",
      "}\n",
      "\n",
      "\n",
      " --- Starting Epoch 61 of 250 ---\n",
      "\n",
      "Training:\n"
     ]
    },
    {
     "name": "stderr",
     "output_type": "stream",
     "text": [
      "100%|██████████| 5/5 [08:06<00:00, 97.32s/it] \n"
     ]
    },
    {
     "name": "stdout",
     "output_type": "stream",
     "text": [
      "Average Loss: 8.933086866140366\n",
      "Multiclass accuracy: 0.5499999523162842\n",
      "TrainingLogEntry(\n",
      "    epoch=61,\n",
      "    training_loss=8.933086866140366,\n",
      "    loss_statistics={'texture_loss': {'crossent_loss_sum': 0.008303031325340271, 'center_loss_sum': 0.00022344698452136735}, 'minutia_loss': {'crossent_loss_sum': 0.011365649645978753, 'center_loss_sum': 0.0002637411637062376}, 'minutia_map_loss': 0.030600306357849726},\n",
      "    training_accuracy=0.5499999523162842,\n",
      "    validation_equal_error_rate=0.5499999523162842,\n",
      "}\n",
      "\n",
      "\n",
      " --- Starting Epoch 62 of 250 ---\n",
      "\n",
      "Training:\n"
     ]
    },
    {
     "name": "stderr",
     "output_type": "stream",
     "text": [
      "100%|██████████| 5/5 [09:05<00:00, 109.13s/it]\n"
     ]
    },
    {
     "name": "stdout",
     "output_type": "stream",
     "text": [
      "Average Loss: 8.823564752340317\n",
      "Multiclass accuracy: 0.5\n",
      "TrainingLogEntry(\n",
      "    epoch=62,\n",
      "    training_loss=8.823564752340317,\n",
      "    loss_statistics={'texture_loss': {'crossent_loss_sum': 0.007364202663302422, 'center_loss_sum': 0.00025356353532212473}, 'minutia_loss': {'crossent_loss_sum': 0.010288934161265691, 'center_loss_sum': 0.00030847512340794007}, 'minutia_map_loss': 0.027740890700370068},\n",
      "    training_accuracy=0.5,\n",
      "    validation_equal_error_rate=0.5,\n",
      "}\n",
      "\n",
      "\n",
      " --- Starting Epoch 63 of 250 ---\n",
      "\n",
      "Training:\n"
     ]
    },
    {
     "name": "stderr",
     "output_type": "stream",
     "text": [
      "100%|██████████| 5/5 [08:40<00:00, 104.01s/it]\n"
     ]
    },
    {
     "name": "stdout",
     "output_type": "stream",
     "text": [
      "Average Loss: 8.48991864413023\n",
      "Multiclass accuracy: 0.5375000238418579\n",
      "TrainingLogEntry(\n",
      "    epoch=63,\n",
      "    training_loss=8.48991864413023,\n",
      "    loss_statistics={'texture_loss': {'crossent_loss_sum': 0.006240061727853922, 'center_loss_sum': 0.0002908199022595699}, 'minutia_loss': {'crossent_loss_sum': 0.009710318996356083, 'center_loss_sum': 0.0002606852535301676}, 'minutia_map_loss': 0.02431503067652766},\n",
      "    training_accuracy=0.5375000238418579,\n",
      "    validation_equal_error_rate=0.5375000238418579,\n",
      "}\n",
      "\n",
      "\n",
      " --- Starting Epoch 64 of 250 ---\n",
      "\n",
      "Training:\n"
     ]
    },
    {
     "name": "stderr",
     "output_type": "stream",
     "text": [
      "100%|██████████| 5/5 [08:27<00:00, 101.55s/it]\n"
     ]
    },
    {
     "name": "stdout",
     "output_type": "stream",
     "text": [
      "Average Loss: 8.768301338255403\n",
      "Multiclass accuracy: 0.4124999940395355\n",
      "TrainingLogEntry(\n",
      "    epoch=64,\n",
      "    training_loss=8.768301338255403,\n",
      "    loss_statistics={'texture_loss': {'crossent_loss_sum': 0.006649512904030936, 'center_loss_sum': 0.0002715230520282473}, 'minutia_loss': {'crossent_loss_sum': 0.008995201864412853, 'center_loss_sum': 0.0001964198491935219}, 'minutia_map_loss': 0.023031544660085012},\n",
      "    training_accuracy=0.4124999940395355,\n",
      "    validation_equal_error_rate=0.4124999940395355,\n",
      "}\n",
      "\n",
      "\n",
      " --- Starting Epoch 65 of 250 ---\n",
      "\n",
      "Training:\n"
     ]
    },
    {
     "name": "stderr",
     "output_type": "stream",
     "text": [
      "100%|██████████| 5/5 [08:30<00:00, 102.06s/it]\n"
     ]
    },
    {
     "name": "stdout",
     "output_type": "stream",
     "text": [
      "Average Loss: 8.430609503388405\n",
      "Multiclass accuracy: 0.5625\n",
      "TrainingLogEntry(\n",
      "    epoch=65,\n",
      "    training_loss=8.430609503388405,\n",
      "    loss_statistics={'texture_loss': {'crossent_loss_sum': 0.005377584199110667, 'center_loss_sum': 0.00020228990198423464}, 'minutia_loss': {'crossent_loss_sum': 0.008326581915219625, 'center_loss_sum': 0.00021773580461740495}, 'minutia_map_loss': 0.021003347598016264},\n",
      "    training_accuracy=0.5625,\n",
      "    validation_equal_error_rate=0.5625,\n",
      "}\n",
      "\n",
      "\n",
      " --- Starting Epoch 66 of 250 ---\n",
      "\n",
      "Training:\n"
     ]
    },
    {
     "name": "stderr",
     "output_type": "stream",
     "text": [
      "100%|██████████| 5/5 [08:29<00:00, 101.83s/it]\n"
     ]
    },
    {
     "name": "stdout",
     "output_type": "stream",
     "text": [
      "Average Loss: 8.401139409840107\n",
      "Multiclass accuracy: 0.5249999761581421\n",
      "TrainingLogEntry(\n",
      "    epoch=66,\n",
      "    training_loss=8.401139409840107,\n",
      "    loss_statistics={'texture_loss': {'crossent_loss_sum': 0.005863312631845474, 'center_loss_sum': 0.00021158437302801759}, 'minutia_loss': {'crossent_loss_sum': 0.007714113872498274, 'center_loss_sum': 0.0001889770181151107}, 'minutia_map_loss': 0.018838963127927856},\n",
      "    training_accuracy=0.5249999761581421,\n",
      "    validation_equal_error_rate=0.5249999761581421,\n",
      "}\n",
      "\n",
      "\n",
      " --- Starting Epoch 67 of 250 ---\n",
      "\n",
      "Training:\n"
     ]
    },
    {
     "name": "stderr",
     "output_type": "stream",
     "text": [
      "100%|██████████| 5/5 [08:33<00:00, 102.78s/it]\n"
     ]
    },
    {
     "name": "stdout",
     "output_type": "stream",
     "text": [
      "Average Loss: 8.217509982287885\n",
      "Multiclass accuracy: 0.48750001192092896\n",
      "TrainingLogEntry(\n",
      "    epoch=67,\n",
      "    training_loss=8.217509982287885,\n",
      "    loss_statistics={'texture_loss': {'crossent_loss_sum': 0.005287812562549815, 'center_loss_sum': 0.0002515195704558316}, 'minutia_loss': {'crossent_loss_sum': 0.007436539057423087, 'center_loss_sum': 0.0001888245645472232}, 'minutia_map_loss': 0.017046738362268492},\n",
      "    training_accuracy=0.48750001192092896,\n",
      "    validation_equal_error_rate=0.48750001192092896,\n",
      "}\n",
      "\n",
      "\n",
      " --- Starting Epoch 68 of 250 ---\n",
      "\n",
      "Training:\n"
     ]
    },
    {
     "name": "stderr",
     "output_type": "stream",
     "text": [
      "100%|██████████| 5/5 [08:43<00:00, 104.65s/it]\n"
     ]
    },
    {
     "name": "stdout",
     "output_type": "stream",
     "text": [
      "Average Loss: 8.163578346967697\n",
      "Multiclass accuracy: 0.48749998211860657\n",
      "TrainingLogEntry(\n",
      "    epoch=68,\n",
      "    training_loss=8.163578346967697,\n",
      "    loss_statistics={'texture_loss': {'crossent_loss_sum': 0.005080026057031419, 'center_loss_sum': 0.0001844106099775268}, 'minutia_loss': {'crossent_loss_sum': 0.006973274879985386, 'center_loss_sum': 0.00017848363818807734}, 'minutia_map_loss': 0.01592956310758988},\n",
      "    training_accuracy=0.48749998211860657,\n",
      "    validation_equal_error_rate=0.48749998211860657,\n",
      "}\n",
      "\n",
      "\n",
      " --- Starting Epoch 69 of 250 ---\n",
      "\n",
      "Training:\n"
     ]
    },
    {
     "name": "stderr",
     "output_type": "stream",
     "text": [
      "100%|██████████| 5/5 [08:32<00:00, 102.44s/it]\n"
     ]
    },
    {
     "name": "stdout",
     "output_type": "stream",
     "text": [
      "Average Loss: 8.24463606506586\n",
      "Multiclass accuracy: 0.5250000357627869\n",
      "TrainingLogEntry(\n",
      "    epoch=69,\n",
      "    training_loss=8.24463606506586,\n",
      "    loss_statistics={'texture_loss': {'crossent_loss_sum': 0.0045894236156814976, 'center_loss_sum': 0.0001599833307983844}, 'minutia_loss': {'crossent_loss_sum': 0.0067351416537636205, 'center_loss_sum': 0.00015210094371516454}, 'minutia_map_loss': 0.015483863750766765},\n",
      "    training_accuracy=0.5250000357627869,\n",
      "    validation_equal_error_rate=0.5250000357627869,\n",
      "}\n",
      "\n",
      "\n",
      " --- Starting Epoch 70 of 250 ---\n",
      "\n",
      "Training:\n"
     ]
    },
    {
     "name": "stderr",
     "output_type": "stream",
     "text": [
      "100%|██████████| 5/5 [09:17<00:00, 111.43s/it]\n"
     ]
    },
    {
     "name": "stdout",
     "output_type": "stream",
     "text": [
      "Average Loss: 8.155276633799076\n",
      "Multiclass accuracy: 0.5875000357627869\n",
      "TrainingLogEntry(\n",
      "    epoch=70,\n",
      "    training_loss=8.155276633799076,\n",
      "    loss_statistics={'texture_loss': {'crossent_loss_sum': 0.0040072591602802275, 'center_loss_sum': 0.00020688418298959733}, 'minutia_loss': {'crossent_loss_sum': 0.006308837383985519, 'center_loss_sum': 0.00014608865487389266}, 'minutia_map_loss': 0.014816170041449368},\n",
      "    training_accuracy=0.5875000357627869,\n",
      "    validation_equal_error_rate=0.5875000357627869,\n",
      "}\n",
      "\n",
      "\n",
      " --- Starting Epoch 71 of 250 ---\n",
      "\n",
      "Training:\n"
     ]
    },
    {
     "name": "stderr",
     "output_type": "stream",
     "text": [
      "100%|██████████| 5/5 [08:31<00:00, 102.23s/it]\n"
     ]
    },
    {
     "name": "stdout",
     "output_type": "stream",
     "text": [
      "Average Loss: 7.940700014233589\n",
      "Multiclass accuracy: 0.5250000357627869\n",
      "TrainingLogEntry(\n",
      "    epoch=71,\n",
      "    training_loss=7.940700014233589,\n",
      "    loss_statistics={'texture_loss': {'crossent_loss_sum': 0.003931098041080293, 'center_loss_sum': 0.0001166844917904763}, 'minutia_loss': {'crossent_loss_sum': 0.00592843166419438, 'center_loss_sum': 0.00012363285890647344}, 'minutia_map_loss': 0.013533188780503613},\n",
      "    training_accuracy=0.5250000357627869,\n",
      "    validation_equal_error_rate=0.5250000357627869,\n",
      "}\n",
      "\n",
      "\n",
      " --- Starting Epoch 72 of 250 ---\n",
      "\n",
      "Training:\n"
     ]
    },
    {
     "name": "stderr",
     "output_type": "stream",
     "text": [
      "100%|██████████| 5/5 [08:32<00:00, 102.52s/it]\n"
     ]
    },
    {
     "name": "stdout",
     "output_type": "stream",
     "text": [
      "Average Loss: 7.597609972059726\n",
      "Multiclass accuracy: 0.5250000357627869\n",
      "TrainingLogEntry(\n",
      "    epoch=72,\n",
      "    training_loss=7.597609972059726,\n",
      "    loss_statistics={'texture_loss': {'crossent_loss_sum': 0.003750928288156336, 'center_loss_sum': 0.00014988146722316742}, 'minutia_loss': {'crossent_loss_sum': 0.005610564689744603, 'center_loss_sum': 0.00014123717026615684}, 'minutia_map_loss': 0.011931507490067318},\n",
      "    training_accuracy=0.5250000357627869,\n",
      "    validation_equal_error_rate=0.5250000357627869,\n",
      "}\n",
      "\n",
      "\n",
      " --- Starting Epoch 73 of 250 ---\n",
      "\n",
      "Training:\n"
     ]
    },
    {
     "name": "stderr",
     "output_type": "stream",
     "text": [
      "100%|██████████| 5/5 [08:39<00:00, 103.96s/it]\n"
     ]
    },
    {
     "name": "stdout",
     "output_type": "stream",
     "text": [
      "Average Loss: 7.701738001406193\n",
      "Multiclass accuracy: 0.5375000238418579\n",
      "TrainingLogEntry(\n",
      "    epoch=73,\n",
      "    training_loss=7.701738001406193,\n",
      "    loss_statistics={'texture_loss': {'crossent_loss_sum': 0.0035697908505149508, 'center_loss_sum': 0.00012004187978480173}, 'minutia_loss': {'crossent_loss_sum': 0.00552540466837261, 'center_loss_sum': 0.00016355833200656849}, 'minutia_map_loss': 0.011549840353267348},\n",
      "    training_accuracy=0.5375000238418579,\n",
      "    validation_equal_error_rate=0.5375000238418579,\n",
      "}\n",
      "\n",
      "\n",
      " --- Starting Epoch 74 of 250 ---\n",
      "\n",
      "Training:\n"
     ]
    },
    {
     "name": "stderr",
     "output_type": "stream",
     "text": [
      "100%|██████████| 5/5 [08:25<00:00, 101.10s/it]\n"
     ]
    },
    {
     "name": "stdout",
     "output_type": "stream",
     "text": [
      "Average Loss: 7.626768506169318\n",
      "Multiclass accuracy: 0.612500011920929\n",
      "TrainingLogEntry(\n",
      "    epoch=74,\n",
      "    training_loss=7.626768506169318,\n",
      "    loss_statistics={'texture_loss': {'crossent_loss_sum': 0.0036466617758075396, 'center_loss_sum': 0.0001518810245518883}, 'minutia_loss': {'crossent_loss_sum': 0.004986492233971755, 'center_loss_sum': 0.00011879066781451305}, 'minutia_map_loss': 0.010957550662569702},\n",
      "    training_accuracy=0.612500011920929,\n",
      "    validation_equal_error_rate=0.612500011920929,\n",
      "}\n",
      "\n",
      "\n",
      " --- Starting Epoch 75 of 250 ---\n",
      "\n",
      "Training:\n"
     ]
    },
    {
     "name": "stderr",
     "output_type": "stream",
     "text": [
      "100%|██████████| 5/5 [08:39<00:00, 103.87s/it]\n"
     ]
    },
    {
     "name": "stdout",
     "output_type": "stream",
     "text": [
      "Average Loss: 7.4928266280889515\n",
      "Multiclass accuracy: 0.5875000357627869\n",
      "TrainingLogEntry(\n",
      "    epoch=75,\n",
      "    training_loss=7.4928266280889515,\n",
      "    loss_statistics={'texture_loss': {'crossent_loss_sum': 0.003232462704181671, 'center_loss_sum': 0.00010635807830840349}, 'minutia_loss': {'crossent_loss_sum': 0.004902757704257965, 'center_loss_sum': 0.00010835477896034718}, 'minutia_map_loss': 0.01038213306516409},\n",
      "    training_accuracy=0.5875000357627869,\n",
      "    validation_equal_error_rate=0.5875000357627869,\n",
      "}\n",
      "\n",
      "\n",
      " --- Starting Epoch 76 of 250 ---\n",
      "\n",
      "Training:\n"
     ]
    },
    {
     "name": "stderr",
     "output_type": "stream",
     "text": [
      "100%|██████████| 5/5 [07:59<00:00, 95.93s/it] \n"
     ]
    },
    {
     "name": "stdout",
     "output_type": "stream",
     "text": [
      "Average Loss: 7.312627958953381\n",
      "Multiclass accuracy: 0.612500011920929\n",
      "TrainingLogEntry(\n",
      "    epoch=76,\n",
      "    training_loss=7.312627958953381,\n",
      "    loss_statistics={'texture_loss': {'crossent_loss_sum': 0.003079064992757944, 'center_loss_sum': 0.00010970712979682362}, 'minutia_loss': {'crossent_loss_sum': 0.0047121864098768965, 'center_loss_sum': 9.535244630219845e-05}, 'minutia_map_loss': 0.009582121497593247},\n",
      "    training_accuracy=0.612500011920929,\n",
      "    validation_equal_error_rate=0.612500011920929,\n",
      "}\n",
      "\n",
      "\n",
      " --- Starting Epoch 77 of 250 ---\n",
      "\n",
      "Training:\n"
     ]
    },
    {
     "name": "stderr",
     "output_type": "stream",
     "text": [
      "100%|██████████| 5/5 [07:40<00:00, 92.03s/it]\n"
     ]
    },
    {
     "name": "stdout",
     "output_type": "stream",
     "text": [
      "Average Loss: 7.344559319615364\n",
      "Multiclass accuracy: 0.5875000357627869\n",
      "TrainingLogEntry(\n",
      "    epoch=77,\n",
      "    training_loss=7.344559319615364,\n",
      "    loss_statistics={'texture_loss': {'crossent_loss_sum': 0.0026423443246770787, 'center_loss_sum': 0.00013727897571192847}, 'minutia_loss': {'crossent_loss_sum': 0.004623239018298962, 'center_loss_sum': 0.00012489326850131707}, 'minutia_map_loss': 0.009473539023763604},\n",
      "    training_accuracy=0.5875000357627869,\n",
      "    validation_equal_error_rate=0.5875000357627869,\n",
      "}\n",
      "\n",
      "\n",
      " --- Starting Epoch 78 of 250 ---\n",
      "\n",
      "Training:\n"
     ]
    },
    {
     "name": "stderr",
     "output_type": "stream",
     "text": [
      "100%|██████████| 5/5 [08:37<00:00, 103.48s/it]\n"
     ]
    },
    {
     "name": "stdout",
     "output_type": "stream",
     "text": [
      "Average Loss: 7.060053496062755\n",
      "Multiclass accuracy: 0.6250000596046448\n",
      "TrainingLogEntry(\n",
      "    epoch=78,\n",
      "    training_loss=7.060053496062755,\n",
      "    loss_statistics={'texture_loss': {'crossent_loss_sum': 0.0026569598487445286, 'center_loss_sum': 0.00011117015300052507}, 'minutia_loss': {'crossent_loss_sum': 0.004266447573900223, 'center_loss_sum': 9.367063508502075e-05}, 'minutia_map_loss': 0.00863079972498651},\n",
      "    training_accuracy=0.6250000596046448,\n",
      "    validation_equal_error_rate=0.6250000596046448,\n",
      "}\n",
      "\n",
      "\n",
      " --- Starting Epoch 79 of 250 ---\n",
      "\n",
      "Training:\n"
     ]
    },
    {
     "name": "stderr",
     "output_type": "stream",
     "text": [
      "100%|██████████| 5/5 [07:54<00:00, 94.91s/it] \n"
     ]
    },
    {
     "name": "stdout",
     "output_type": "stream",
     "text": [
      "Average Loss: 6.941014710962773\n",
      "Multiclass accuracy: 0.637499988079071\n",
      "TrainingLogEntry(\n",
      "    epoch=79,\n",
      "    training_loss=6.941014710962773,\n",
      "    loss_statistics={'texture_loss': {'crossent_loss_sum': 0.0027455943411794203, 'center_loss_sum': 0.00012429814047083772}, 'minutia_loss': {'crossent_loss_sum': 0.004044181365391304, 'center_loss_sum': 8.242692605688654e-05}, 'minutia_map_loss': 0.007962582628403244},\n",
      "    training_accuracy=0.637499988079071,\n",
      "    validation_equal_error_rate=0.637499988079071,\n",
      "}\n",
      "\n",
      "\n",
      " --- Starting Epoch 80 of 250 ---\n",
      "\n",
      "Training:\n"
     ]
    },
    {
     "name": "stderr",
     "output_type": "stream",
     "text": [
      "100%|██████████| 5/5 [08:57<00:00, 107.57s/it]\n"
     ]
    },
    {
     "name": "stdout",
     "output_type": "stream",
     "text": [
      "Average Loss: 6.949297410547733\n",
      "Multiclass accuracy: 0.6125000715255737\n",
      "TrainingLogEntry(\n",
      "    epoch=80,\n",
      "    training_loss=6.949297410547733,\n",
      "    loss_statistics={'texture_loss': {'crossent_loss_sum': 0.0025747110942999523, 'center_loss_sum': 9.87439788877964e-05}, 'minutia_loss': {'crossent_loss_sum': 0.004087138424317042, 'center_loss_sum': 8.942603754500548e-05}, 'minutia_map_loss': 0.007627683443948626},\n",
      "    training_accuracy=0.6125000715255737,\n",
      "    validation_equal_error_rate=0.6125000715255737,\n",
      "}\n",
      "\n",
      "\n",
      " --- Starting Epoch 81 of 250 ---\n",
      "\n",
      "Training:\n"
     ]
    },
    {
     "name": "stderr",
     "output_type": "stream",
     "text": [
      "100%|██████████| 5/5 [08:11<00:00, 98.32s/it] \n"
     ]
    },
    {
     "name": "stdout",
     "output_type": "stream",
     "text": [
      "Average Loss: 7.0468103951215735\n",
      "Multiclass accuracy: 0.612500011920929\n",
      "TrainingLogEntry(\n",
      "    epoch=81,\n",
      "    training_loss=7.0468103951215735,\n",
      "    loss_statistics={'texture_loss': {'crossent_loss_sum': 0.0025292803683588582, 'center_loss_sum': 9.534585650169081e-05}, 'minutia_loss': {'crossent_loss_sum': 0.003927652345549676, 'center_loss_sum': 0.00010015949486724792}, 'minutia_map_loss': 0.0075548407663741405},\n",
      "    training_accuracy=0.612500011920929,\n",
      "    validation_equal_error_rate=0.612500011920929,\n",
      "}\n",
      "\n",
      "\n",
      " --- Starting Epoch 82 of 250 ---\n",
      "\n",
      "Training:\n"
     ]
    },
    {
     "name": "stderr",
     "output_type": "stream",
     "text": [
      "100%|██████████| 5/5 [07:34<00:00, 90.89s/it] \n"
     ]
    },
    {
     "name": "stdout",
     "output_type": "stream",
     "text": [
      "Average Loss: 6.536329131424426\n",
      "Multiclass accuracy: 0.7749999761581421\n",
      "TrainingLogEntry(\n",
      "    epoch=82,\n",
      "    training_loss=6.536329131424426,\n",
      "    loss_statistics={'texture_loss': {'crossent_loss_sum': 0.001784209581092, 'center_loss_sum': 8.893907433957793e-05}, 'minutia_loss': {'crossent_loss_sum': 0.004001670936122537, 'center_loss_sum': 9.577830351190642e-05}, 'minutia_map_loss': 0.006795670008868911},\n",
      "    training_accuracy=0.7749999761581421,\n",
      "    validation_equal_error_rate=0.7749999761581421,\n",
      "}\n",
      "\n",
      "\n",
      " --- Starting Epoch 83 of 250 ---\n",
      "\n",
      "Training:\n"
     ]
    },
    {
     "name": "stderr",
     "output_type": "stream",
     "text": [
      "100%|██████████| 5/5 [08:25<00:00, 101.11s/it]\n"
     ]
    },
    {
     "name": "stdout",
     "output_type": "stream",
     "text": [
      "Average Loss: 6.3727876444160945\n",
      "Multiclass accuracy: 0.6875\n",
      "TrainingLogEntry(\n",
      "    epoch=83,\n",
      "    training_loss=6.3727876444160945,\n",
      "    loss_statistics={'texture_loss': {'crossent_loss_sum': 0.001944826046625773, 'center_loss_sum': 0.00013245158179691344}, 'minutia_loss': {'crossent_loss_sum': 0.003600036059365128, 'center_loss_sum': 8.017222368807504e-05}, 'minutia_map_loss': 0.006312187651849607},\n",
      "    training_accuracy=0.6875,\n",
      "    validation_equal_error_rate=0.6875,\n",
      "}\n",
      "\n",
      "\n",
      " --- Starting Epoch 84 of 250 ---\n",
      "\n",
      "Training:\n"
     ]
    },
    {
     "name": "stderr",
     "output_type": "stream",
     "text": [
      "100%|██████████| 5/5 [08:26<00:00, 101.25s/it]\n"
     ]
    },
    {
     "name": "stdout",
     "output_type": "stream",
     "text": [
      "Average Loss: 6.636657494306563\n",
      "Multiclass accuracy: 0.675000011920929\n",
      "TrainingLogEntry(\n",
      "    epoch=84,\n",
      "    training_loss=6.636657494306563,\n",
      "    loss_statistics={'texture_loss': {'crossent_loss_sum': 0.002133337758919772, 'center_loss_sum': 9.920626111766872e-05}, 'minutia_loss': {'crossent_loss_sum': 0.003652464335455614, 'center_loss_sum': 7.947272182825734e-05}, 'minutia_map_loss': 0.006235256911638905},\n",
      "    training_accuracy=0.675000011920929,\n",
      "    validation_equal_error_rate=0.675000011920929,\n",
      "}\n",
      "\n",
      "\n",
      " --- Starting Epoch 85 of 250 ---\n",
      "\n",
      "Training:\n"
     ]
    },
    {
     "name": "stderr",
     "output_type": "stream",
     "text": [
      "100%|██████████| 5/5 [07:28<00:00, 89.70s/it] \n"
     ]
    },
    {
     "name": "stdout",
     "output_type": "stream",
     "text": [
      "Average Loss: 6.328773197829723\n",
      "Multiclass accuracy: 0.625\n",
      "TrainingLogEntry(\n",
      "    epoch=85,\n",
      "    training_loss=6.328773197829723,\n",
      "    loss_statistics={'texture_loss': {'crossent_loss_sum': 0.001917821615934372, 'center_loss_sum': 7.965191666569028e-05}, 'minutia_loss': {'crossent_loss_sum': 0.0034259365286145893, 'center_loss_sum': 9.24308252121721e-05}, 'minutia_map_loss': 0.005785539720207454},\n",
      "    training_accuracy=0.625,\n",
      "    validation_equal_error_rate=0.625,\n",
      "}\n",
      "\n",
      "\n",
      " --- Starting Epoch 86 of 250 ---\n",
      "\n",
      "Training:\n"
     ]
    },
    {
     "name": "stderr",
     "output_type": "stream",
     "text": [
      "100%|██████████| 5/5 [08:10<00:00, 98.17s/it] \n"
     ]
    },
    {
     "name": "stdout",
     "output_type": "stream",
     "text": [
      "Average Loss: 6.295967378467322\n",
      "Multiclass accuracy: 0.675000011920929\n",
      "TrainingLogEntry(\n",
      "    epoch=86,\n",
      "    training_loss=6.295967378467322,\n",
      "    loss_statistics={'texture_loss': {'crossent_loss_sum': 0.0019052964117791918, 'center_loss_sum': 9.554233013962706e-05}, 'minutia_loss': {'crossent_loss_sum': 0.003254792011446423, 'center_loss_sum': 7.47797933096687e-05}, 'minutia_map_loss': 0.005600088404025883},\n",
      "    training_accuracy=0.675000011920929,\n",
      "    validation_equal_error_rate=0.675000011920929,\n",
      "}\n",
      "\n",
      "\n",
      " --- Starting Epoch 87 of 250 ---\n",
      "\n",
      "Training:\n"
     ]
    },
    {
     "name": "stderr",
     "output_type": "stream",
     "text": [
      "100%|██████████| 5/5 [08:47<00:00, 105.52s/it]\n"
     ]
    },
    {
     "name": "stdout",
     "output_type": "stream",
     "text": [
      "Average Loss: 6.116493176519871\n",
      "Multiclass accuracy: 0.6875000596046448\n",
      "TrainingLogEntry(\n",
      "    epoch=87,\n",
      "    training_loss=6.116493176519871,\n",
      "    loss_statistics={'texture_loss': {'crossent_loss_sum': 0.0016777505141657753, 'center_loss_sum': 8.593036390438273e-05}, 'minutia_loss': {'crossent_loss_sum': 0.0031923142639366355, 'center_loss_sum': 8.024236413876753e-05}, 'minutia_map_loss': 0.005295676635829984},\n",
      "    training_accuracy=0.6875000596046448,\n",
      "    validation_equal_error_rate=0.6875000596046448,\n",
      "}\n",
      "\n",
      "\n",
      " --- Starting Epoch 88 of 250 ---\n",
      "\n",
      "Training:\n"
     ]
    },
    {
     "name": "stderr",
     "output_type": "stream",
     "text": [
      "100%|██████████| 5/5 [08:21<00:00, 100.39s/it]\n"
     ]
    },
    {
     "name": "stdout",
     "output_type": "stream",
     "text": [
      "Average Loss: 6.478948875069618\n",
      "Multiclass accuracy: 0.550000011920929\n",
      "TrainingLogEntry(\n",
      "    epoch=88,\n",
      "    training_loss=6.478948875069618,\n",
      "    loss_statistics={'texture_loss': {'crossent_loss_sum': 0.002189911823523672, 'center_loss_sum': 0.00010649657955295161}, 'minutia_loss': {'crossent_loss_sum': 0.0031735651979320927, 'center_loss_sum': 7.619619749388412e-05}, 'minutia_map_loss': 0.005109996067262009},\n",
      "    training_accuracy=0.550000011920929,\n",
      "    validation_equal_error_rate=0.550000011920929,\n",
      "}\n",
      "\n",
      "\n",
      " --- Starting Epoch 89 of 250 ---\n",
      "\n",
      "Training:\n"
     ]
    },
    {
     "name": "stderr",
     "output_type": "stream",
     "text": [
      "100%|██████████| 5/5 [09:07<00:00, 109.58s/it]\n"
     ]
    },
    {
     "name": "stdout",
     "output_type": "stream",
     "text": [
      "Average Loss: 6.4965965873003\n",
      "Multiclass accuracy: 0.6875\n",
      "TrainingLogEntry(\n",
      "    epoch=89,\n",
      "    training_loss=6.4965965873003,\n",
      "    loss_statistics={'texture_loss': {'crossent_loss_sum': 0.00170539745535606, 'center_loss_sum': 9.676536234716574e-05}, 'minutia_loss': {'crossent_loss_sum': 0.003143653541039198, 'center_loss_sum': 6.377678722716295e-05}, 'minutia_map_loss': 0.005401619371886437},\n",
      "    training_accuracy=0.6875,\n",
      "    validation_equal_error_rate=0.6875,\n",
      "}\n",
      "\n",
      "\n",
      " --- Starting Epoch 90 of 250 ---\n",
      "\n",
      "Training:\n"
     ]
    },
    {
     "name": "stderr",
     "output_type": "stream",
     "text": [
      "100%|██████████| 5/5 [09:14<00:00, 110.84s/it]\n"
     ]
    },
    {
     "name": "stdout",
     "output_type": "stream",
     "text": [
      "Average Loss: 7.674742420315741\n",
      "Multiclass accuracy: 0.7124999761581421\n",
      "TrainingLogEntry(\n",
      "    epoch=90,\n",
      "    training_loss=7.674742420315741,\n",
      "    loss_statistics={'texture_loss': {'crossent_loss_sum': 0.0016591887921094894, 'center_loss_sum': 7.825095672160387e-05}, 'minutia_loss': {'crossent_loss_sum': 0.0028938409313559533, 'center_loss_sum': 6.402278027962893e-05}, 'minutia_map_loss': 0.007296481666155159},\n",
      "    training_accuracy=0.7124999761581421,\n",
      "    validation_equal_error_rate=0.7124999761581421,\n",
      "}\n",
      "\n",
      "\n",
      " --- Starting Epoch 91 of 250 ---\n",
      "\n",
      "Training:\n"
     ]
    },
    {
     "name": "stderr",
     "output_type": "stream",
     "text": [
      "100%|██████████| 5/5 [09:33<00:00, 114.76s/it]\n"
     ]
    },
    {
     "name": "stdout",
     "output_type": "stream",
     "text": [
      "Average Loss: 7.9409443950653085\n",
      "Multiclass accuracy: 0.6624999642372131\n",
      "TrainingLogEntry(\n",
      "    epoch=91,\n",
      "    training_loss=7.9409443950653085,\n",
      "    loss_statistics={'texture_loss': {'crossent_loss_sum': 0.001785171522599895, 'center_loss_sum': 0.00011158636430414711}, 'minutia_loss': {'crossent_loss_sum': 0.0031354955783704434, 'center_loss_sum': 7.862955013789781e-05}, 'minutia_map_loss': 0.0069942151046380775},\n",
      "    training_accuracy=0.6624999642372131,\n",
      "    validation_equal_error_rate=0.6624999642372131,\n",
      "}\n",
      "\n",
      "\n",
      " --- Starting Epoch 92 of 250 ---\n",
      "\n",
      "Training:\n"
     ]
    },
    {
     "name": "stderr",
     "output_type": "stream",
     "text": [
      "100%|██████████| 5/5 [08:04<00:00, 96.84s/it] \n"
     ]
    },
    {
     "name": "stdout",
     "output_type": "stream",
     "text": [
      "Average Loss: 6.993466786146163\n",
      "Multiclass accuracy: 0.6875\n",
      "TrainingLogEntry(\n",
      "    epoch=92,\n",
      "    training_loss=6.993466786146163,\n",
      "    loss_statistics={'texture_loss': {'crossent_loss_sum': 0.0016794374833504358, 'center_loss_sum': 0.00010509224431145758}, 'minutia_loss': {'crossent_loss_sum': 0.0028227608473528, 'center_loss_sum': 5.339625890233687e-05}, 'minutia_map_loss': 0.005746257842651436},\n",
      "    training_accuracy=0.6875,\n",
      "    validation_equal_error_rate=0.6875,\n",
      "}\n",
      "\n",
      "\n",
      " --- Starting Epoch 93 of 250 ---\n",
      "\n",
      "Training:\n"
     ]
    },
    {
     "name": "stderr",
     "output_type": "stream",
     "text": [
      "100%|██████████| 5/5 [08:23<00:00, 100.78s/it]\n"
     ]
    },
    {
     "name": "stdout",
     "output_type": "stream",
     "text": [
      "Average Loss: 6.7798059651255596\n",
      "Multiclass accuracy: 0.737500011920929\n",
      "TrainingLogEntry(\n",
      "    epoch=93,\n",
      "    training_loss=6.7798059651255596,\n",
      "    loss_statistics={'texture_loss': {'crossent_loss_sum': 0.0014189838323482248, 'center_loss_sum': 8.24276173790527e-05}, 'minutia_loss': {'crossent_loss_sum': 0.0027928518001423324, 'center_loss_sum': 6.291737758316273e-05}, 'minutia_map_loss': 0.005497188442928153},\n",
      "    training_accuracy=0.737500011920929,\n",
      "    validation_equal_error_rate=0.737500011920929,\n",
      "}\n",
      "\n",
      "\n",
      " --- Starting Epoch 94 of 250 ---\n",
      "\n",
      "Training:\n"
     ]
    },
    {
     "name": "stderr",
     "output_type": "stream",
     "text": [
      "100%|██████████| 5/5 [08:22<00:00, 100.41s/it]\n"
     ]
    },
    {
     "name": "stdout",
     "output_type": "stream",
     "text": [
      "Average Loss: 6.308428903818131\n",
      "Multiclass accuracy: 0.6500000357627869\n",
      "TrainingLogEntry(\n",
      "    epoch=94,\n",
      "    training_loss=6.308428903818131,\n",
      "    loss_statistics={'texture_loss': {'crossent_loss_sum': 0.0015936886383728548, 'center_loss_sum': 8.160033400847831e-05}, 'minutia_loss': {'crossent_loss_sum': 0.0027525154704397376, 'center_loss_sum': 5.3225189913064244e-05}, 'minutia_map_loss': 0.0044798067974095995},\n",
      "    training_accuracy=0.6500000357627869,\n",
      "    validation_equal_error_rate=0.6500000357627869,\n",
      "}\n",
      "\n",
      "\n",
      " --- Starting Epoch 95 of 250 ---\n",
      "\n",
      "Training:\n"
     ]
    },
    {
     "name": "stderr",
     "output_type": "stream",
     "text": [
      "100%|██████████| 5/5 [08:30<00:00, 102.17s/it]\n"
     ]
    },
    {
     "name": "stdout",
     "output_type": "stream",
     "text": [
      "Average Loss: 6.844533569067717\n",
      "Multiclass accuracy: 0.7000000476837158\n",
      "TrainingLogEntry(\n",
      "    epoch=95,\n",
      "    training_loss=6.844533569067717,\n",
      "    loss_statistics={'texture_loss': {'crossent_loss_sum': 0.001345551096730762, 'center_loss_sum': 7.361641050212914e-05}, 'minutia_loss': {'crossent_loss_sum': 0.0026462096969286602, 'center_loss_sum': 4.924471438344982e-05}, 'minutia_map_loss': 0.005391674613580108},\n",
      "    training_accuracy=0.7000000476837158,\n",
      "    validation_equal_error_rate=0.7000000476837158,\n",
      "}\n",
      "\n",
      "\n",
      " --- Starting Epoch 96 of 250 ---\n",
      "\n",
      "Training:\n"
     ]
    },
    {
     "name": "stderr",
     "output_type": "stream",
     "text": [
      "100%|██████████| 5/5 [08:20<00:00, 100.11s/it]\n"
     ]
    },
    {
     "name": "stdout",
     "output_type": "stream",
     "text": [
      "Average Loss: 8.811857744902373\n",
      "Multiclass accuracy: 0.7749999165534973\n",
      "TrainingLogEntry(\n",
      "    epoch=96,\n",
      "    training_loss=8.811857744902373,\n",
      "    loss_statistics={'texture_loss': {'crossent_loss_sum': 0.0011819737113040426, 'center_loss_sum': 5.844838249132685e-05}, 'minutia_loss': {'crossent_loss_sum': 0.002668550837299098, 'center_loss_sum': 6.706070802781892e-05}, 'minutia_map_loss': 0.007996599177586966},\n",
      "    training_accuracy=0.7749999165534973,\n",
      "    validation_equal_error_rate=0.7749999165534973,\n",
      "}\n",
      "\n",
      "\n",
      " --- Starting Epoch 97 of 250 ---\n",
      "\n",
      "Training:\n"
     ]
    },
    {
     "name": "stderr",
     "output_type": "stream",
     "text": [
      "100%|██████████| 5/5 [07:50<00:00, 94.19s/it] \n"
     ]
    },
    {
     "name": "stdout",
     "output_type": "stream",
     "text": [
      "Average Loss: 8.091176389306783\n",
      "Multiclass accuracy: 0.8375000357627869\n",
      "TrainingLogEntry(\n",
      "    epoch=97,\n",
      "    training_loss=8.091176389306783,\n",
      "    loss_statistics={'texture_loss': {'crossent_loss_sum': 0.0009192907905324977, 'center_loss_sum': 6.967952593843988e-05}, 'minutia_loss': {'crossent_loss_sum': 0.002573062003927028, 'center_loss_sum': 6.474186369079225e-05}, 'minutia_map_loss': 0.007132768851130251},\n",
      "    training_accuracy=0.8375000357627869,\n",
      "    validation_equal_error_rate=0.8375000357627869,\n",
      "}\n",
      "\n",
      "\n",
      " --- Starting Epoch 98 of 250 ---\n",
      "\n",
      "Training:\n"
     ]
    },
    {
     "name": "stderr",
     "output_type": "stream",
     "text": [
      "100%|██████████| 5/5 [08:25<00:00, 101.03s/it]\n"
     ]
    },
    {
     "name": "stdout",
     "output_type": "stream",
     "text": [
      "Average Loss: 6.540699038803578\n",
      "Multiclass accuracy: 0.7374999523162842\n",
      "TrainingLogEntry(\n",
      "    epoch=98,\n",
      "    training_loss=6.540699038803578,\n",
      "    loss_statistics={'texture_loss': {'crossent_loss_sum': 0.001150501472875476, 'center_loss_sum': 9.026265567323814e-05}, 'minutia_loss': {'crossent_loss_sum': 0.0023846862527231376, 'center_loss_sum': 5.96137746470049e-05}, 'minutia_map_loss': 0.004831471213838085},\n",
      "    training_accuracy=0.7374999523162842,\n",
      "    validation_equal_error_rate=0.7374999523162842,\n",
      "}\n",
      "\n",
      "\n",
      " --- Starting Epoch 99 of 250 ---\n",
      "\n",
      "Training:\n"
     ]
    },
    {
     "name": "stderr",
     "output_type": "stream",
     "text": [
      "100%|██████████| 5/5 [07:56<00:00, 95.27s/it] \n"
     ]
    },
    {
     "name": "stdout",
     "output_type": "stream",
     "text": [
      "Average Loss: 14.912686225771903\n",
      "Multiclass accuracy: 0.6625000238418579\n",
      "TrainingLogEntry(\n",
      "    epoch=99,\n",
      "    training_loss=14.912686225771903,\n",
      "    loss_statistics={'texture_loss': {'crossent_loss_sum': 0.0012266268383483497, 'center_loss_sum': 8.153430737402975e-05}, 'minutia_loss': {'crossent_loss_sum': 0.002456083407207411, 'center_loss_sum': 4.831463459651081e-05}, 'minutia_map_loss': 0.015208724289372259},\n",
      "    training_accuracy=0.6625000238418579,\n",
      "    validation_equal_error_rate=0.6625000238418579,\n",
      "}\n",
      "\n",
      "\n",
      " --- Starting Epoch 100 of 250 ---\n",
      "\n",
      "Training:\n"
     ]
    },
    {
     "name": "stderr",
     "output_type": "stream",
     "text": [
      "100%|██████████| 5/5 [08:02<00:00, 96.58s/it] \n"
     ]
    },
    {
     "name": "stdout",
     "output_type": "stream",
     "text": [
      "Average Loss: 9.102476641982793\n",
      "Multiclass accuracy: 0.6874999403953552\n",
      "TrainingLogEntry(\n",
      "    epoch=100,\n",
      "    training_loss=9.102476641982793,\n",
      "    loss_statistics={'texture_loss': {'crossent_loss_sum': 0.0014045625627040863, 'center_loss_sum': 7.51327434554696e-05}, 'minutia_loss': {'crossent_loss_sum': 0.002303178548812866, 'center_loss_sum': 5.142660206183791e-05}, 'minutia_map_loss': 0.007543795344047249},\n",
      "    training_accuracy=0.6874999403953552,\n",
      "    validation_equal_error_rate=0.6874999403953552,\n",
      "}\n",
      "\n",
      "\n",
      " --- Starting Epoch 101 of 250 ---\n",
      "\n",
      "Training:\n"
     ]
    },
    {
     "name": "stderr",
     "output_type": "stream",
     "text": [
      "100%|██████████| 5/5 [07:35<00:00, 91.19s/it] \n"
     ]
    },
    {
     "name": "stdout",
     "output_type": "stream",
     "text": [
      "Average Loss: 13.31036881357431\n",
      "Multiclass accuracy: 0.762499988079071\n",
      "TrainingLogEntry(\n",
      "    epoch=101,\n",
      "    training_loss=13.31036881357431,\n",
      "    loss_statistics={'texture_loss': {'crossent_loss_sum': 0.0010572046918027541, 'center_loss_sum': 5.974228740395868e-05}, 'minutia_loss': {'crossent_loss_sum': 0.0023094174324297437, 'center_loss_sum': 5.9295384505507993e-05}, 'minutia_map_loss': 0.01282606661210165},\n",
      "    training_accuracy=0.762499988079071,\n",
      "    validation_equal_error_rate=0.762499988079071,\n",
      "}\n",
      "\n",
      "\n",
      " --- Starting Epoch 102 of 250 ---\n",
      "\n",
      "Training:\n"
     ]
    },
    {
     "name": "stderr",
     "output_type": "stream",
     "text": [
      "100%|██████████| 5/5 [08:15<00:00, 99.14s/it] \n"
     ]
    },
    {
     "name": "stdout",
     "output_type": "stream",
     "text": [
      "Average Loss: 7.067220419049264\n",
      "Multiclass accuracy: 0.7749999761581421\n",
      "TrainingLogEntry(\n",
      "    epoch=102,\n",
      "    training_loss=7.067220419049264,\n",
      "    loss_statistics={'texture_loss': {'crossent_loss_sum': 0.0009469974069641186, 'center_loss_sum': 6.5995014917392e-05}, 'minutia_loss': {'crossent_loss_sum': 0.002290520157951575, 'center_loss_sum': 5.055215621653658e-05}, 'minutia_map_loss': 0.005140190477697895},\n",
      "    training_accuracy=0.7749999761581421,\n",
      "    validation_equal_error_rate=0.7749999761581421,\n",
      "}\n",
      "\n",
      "\n",
      " --- Starting Epoch 103 of 250 ---\n",
      "\n",
      "Training:\n"
     ]
    },
    {
     "name": "stderr",
     "output_type": "stream",
     "text": [
      "100%|██████████| 5/5 [08:34<00:00, 102.85s/it]\n"
     ]
    },
    {
     "name": "stdout",
     "output_type": "stream",
     "text": [
      "Average Loss: 5.795610908269882\n",
      "Multiclass accuracy: 0.7499999403953552\n",
      "TrainingLogEntry(\n",
      "    epoch=103,\n",
      "    training_loss=5.795610908269882,\n",
      "    loss_statistics={'texture_loss': {'crossent_loss_sum': 0.0012283048539791467, 'center_loss_sum': 6.424792919237659e-05}, 'minutia_loss': {'crossent_loss_sum': 0.002212284842752061, 'center_loss_sum': 5.233416702809199e-05}, 'minutia_map_loss': 0.0032772749704572386},\n",
      "    training_accuracy=0.7499999403953552,\n",
      "    validation_equal_error_rate=0.7499999403953552,\n",
      "}\n",
      "\n",
      "\n",
      " --- Starting Epoch 104 of 250 ---\n",
      "\n",
      "Training:\n"
     ]
    },
    {
     "name": "stderr",
     "output_type": "stream",
     "text": [
      "100%|██████████| 5/5 [08:06<00:00, 97.38s/it] \n"
     ]
    },
    {
     "name": "stdout",
     "output_type": "stream",
     "text": [
      "Average Loss: 5.635693240761756\n",
      "Multiclass accuracy: 0.7499999403953552\n",
      "TrainingLogEntry(\n",
      "    epoch=104,\n",
      "    training_loss=5.635693240761756,\n",
      "    loss_statistics={'texture_loss': {'crossent_loss_sum': 0.0010370457613909686, 'center_loss_sum': 5.9962036364056446e-05}, 'minutia_loss': {'crossent_loss_sum': 0.002322657765061767, 'center_loss_sum': 4.9894847217257375e-05}, 'minutia_map_loss': 0.0030532326694164007},\n",
      "    training_accuracy=0.7499999403953552,\n",
      "    validation_equal_error_rate=0.7499999403953552,\n",
      "}\n",
      "\n",
      "\n",
      " --- Starting Epoch 105 of 250 ---\n",
      "\n",
      "Training:\n"
     ]
    },
    {
     "name": "stderr",
     "output_type": "stream",
     "text": [
      "100%|██████████| 5/5 [08:53<00:00, 106.69s/it]\n"
     ]
    },
    {
     "name": "stdout",
     "output_type": "stream",
     "text": [
      "Average Loss: 10.866933662891388\n",
      "Multiclass accuracy: 0.8624999523162842\n",
      "TrainingLogEntry(\n",
      "    epoch=105,\n",
      "    training_loss=10.866933662891388,\n",
      "    loss_statistics={'texture_loss': {'crossent_loss_sum': 0.0008154435591264204, 'center_loss_sum': 5.276659249582074e-05}, 'minutia_loss': {'crossent_loss_sum': 0.002201945673335682, 'center_loss_sum': 5.0424767488783054e-05}, 'minutia_map_loss': 0.009228207666765558},\n",
      "    training_accuracy=0.8624999523162842,\n",
      "    validation_equal_error_rate=0.8624999523162842,\n",
      "}\n",
      "\n",
      "\n",
      " --- Starting Epoch 106 of 250 ---\n",
      "\n",
      "Training:\n"
     ]
    },
    {
     "name": "stderr",
     "output_type": "stream",
     "text": [
      "100%|██████████| 5/5 [07:55<00:00, 95.00s/it] \n"
     ]
    },
    {
     "name": "stdout",
     "output_type": "stream",
     "text": [
      "Average Loss: 9.972017295509577\n",
      "Multiclass accuracy: 0.762499988079071\n",
      "TrainingLogEntry(\n",
      "    epoch=106,\n",
      "    training_loss=9.972017295509577,\n",
      "    loss_statistics={'texture_loss': {'crossent_loss_sum': 0.0008802379548017467, 'center_loss_sum': 4.866984257075404e-05}, 'minutia_loss': {'crossent_loss_sum': 0.0020802469924092295, 'center_loss_sum': 4.88113216956013e-05}, 'minutia_map_loss': 0.008071517526737546},\n",
      "    training_accuracy=0.762499988079071,\n",
      "    validation_equal_error_rate=0.762499988079071,\n",
      "}\n",
      "\n",
      "\n",
      " --- Starting Epoch 107 of 250 ---\n",
      "\n",
      "Training:\n"
     ]
    },
    {
     "name": "stderr",
     "output_type": "stream",
     "text": [
      "100%|██████████| 5/5 [08:58<00:00, 107.78s/it]\n"
     ]
    },
    {
     "name": "stdout",
     "output_type": "stream",
     "text": [
      "Average Loss: 7.968564112186431\n",
      "Multiclass accuracy: 0.7874999642372131\n",
      "TrainingLogEntry(\n",
      "    epoch=107,\n",
      "    training_loss=7.968564112186431,\n",
      "    loss_statistics={'texture_loss': {'crossent_loss_sum': 0.0007905969298199604, 'center_loss_sum': 5.2675285392947366e-05}, 'minutia_loss': {'crossent_loss_sum': 0.0020327636285832054, 'center_loss_sum': 4.609329952744016e-05}, 'minutia_map_loss': 0.005815331488847733},\n",
      "    training_accuracy=0.7874999642372131,\n",
      "    validation_equal_error_rate=0.7874999642372131,\n",
      "}\n",
      "\n",
      "\n",
      " --- Starting Epoch 108 of 250 ---\n",
      "\n",
      "Training:\n"
     ]
    },
    {
     "name": "stderr",
     "output_type": "stream",
     "text": [
      "100%|██████████| 5/5 [08:19<00:00, 99.97s/it] \n"
     ]
    },
    {
     "name": "stdout",
     "output_type": "stream",
     "text": [
      "Average Loss: 6.381664514243603\n",
      "Multiclass accuracy: 0.7250000238418579\n",
      "TrainingLogEntry(\n",
      "    epoch=108,\n",
      "    training_loss=6.381664514243603,\n",
      "    loss_statistics={'texture_loss': {'crossent_loss_sum': 0.0009986803577891712, 'center_loss_sum': 7.754594633548424e-05}, 'minutia_loss': {'crossent_loss_sum': 0.002029760413128754, 'center_loss_sum': 5.177274699611911e-05}, 'minutia_map_loss': 0.0037190342254551324},\n",
      "    training_accuracy=0.7250000238418579,\n",
      "    validation_equal_error_rate=0.7250000238418579,\n",
      "}\n",
      "\n",
      "\n",
      " --- Starting Epoch 109 of 250 ---\n",
      "\n",
      "Training:\n"
     ]
    },
    {
     "name": "stderr",
     "output_type": "stream",
     "text": [
      "100%|██████████| 5/5 [08:01<00:00, 96.32s/it] \n"
     ]
    },
    {
     "name": "stdout",
     "output_type": "stream",
     "text": [
      "Average Loss: 21.928900051712986\n",
      "Multiclass accuracy: 0.800000011920929\n",
      "TrainingLogEntry(\n",
      "    epoch=109,\n",
      "    training_loss=21.928900051712986,\n",
      "    loss_statistics={'texture_loss': {'crossent_loss_sum': 0.0007783648636886629, 'center_loss_sum': 4.049942086813814e-05}, 'minutia_loss': {'crossent_loss_sum': 0.0020424887032832128, 'center_loss_sum': 5.612937117910991e-05}, 'minutia_map_loss': 0.02031228466622405},\n",
      "    training_accuracy=0.800000011920929,\n",
      "    validation_equal_error_rate=0.800000011920929,\n",
      "}\n",
      "\n",
      "\n",
      " --- Starting Epoch 110 of 250 ---\n",
      "\n",
      "Training:\n"
     ]
    },
    {
     "name": "stderr",
     "output_type": "stream",
     "text": [
      "100%|██████████| 5/5 [08:28<00:00, 101.73s/it]\n"
     ]
    },
    {
     "name": "stdout",
     "output_type": "stream",
     "text": [
      "Average Loss: 41.298767468929285\n",
      "Multiclass accuracy: 0.8125\n",
      "TrainingLogEntry(\n",
      "    epoch=110,\n",
      "    training_loss=41.298767468929285,\n",
      "    loss_statistics={'texture_loss': {'crossent_loss_sum': 0.00068416694800059, 'center_loss_sum': 6.031710499276718e-05}, 'minutia_loss': {'crossent_loss_sum': 0.0020052171498537064, 'center_loss_sum': 3.811718779616058e-05}, 'minutia_map_loss': 0.04023173103481531},\n",
      "    training_accuracy=0.8125,\n",
      "    validation_equal_error_rate=0.8125,\n",
      "}\n",
      "\n",
      "\n",
      " --- Starting Epoch 111 of 250 ---\n",
      "\n",
      "Training:\n"
     ]
    },
    {
     "name": "stderr",
     "output_type": "stream",
     "text": [
      "100%|██████████| 5/5 [09:23<00:00, 112.74s/it]\n"
     ]
    },
    {
     "name": "stdout",
     "output_type": "stream",
     "text": [
      "Average Loss: 350.3626147270203\n",
      "Multiclass accuracy: 0.800000011920929\n",
      "TrainingLogEntry(\n",
      "    epoch=111,\n",
      "    training_loss=350.3626147270203,\n",
      "    loss_statistics={'texture_loss': {'crossent_loss_sum': 0.0006368274449324999, 'center_loss_sum': 5.29883192760534e-05}, 'minutia_loss': {'crossent_loss_sum': 0.00198249130463991, 'center_loss_sum': 3.7560996324678914e-05}, 'minutia_map_loss': 0.35626822084677023},\n",
      "    training_accuracy=0.800000011920929,\n",
      "    validation_equal_error_rate=0.800000011920929,\n",
      "}\n",
      "\n",
      "\n",
      " --- Starting Epoch 112 of 250 ---\n",
      "\n",
      "Training:\n"
     ]
    },
    {
     "name": "stderr",
     "output_type": "stream",
     "text": [
      "100%|██████████| 5/5 [08:26<00:00, 101.26s/it]\n"
     ]
    },
    {
     "name": "stdout",
     "output_type": "stream",
     "text": [
      "Average Loss: 2843.4220483493805\n",
      "Multiclass accuracy: 0.7749999761581421\n",
      "TrainingLogEntry(\n",
      "    epoch=112,\n",
      "    training_loss=2843.4220483493805,\n",
      "    loss_statistics={'texture_loss': {'crossent_loss_sum': 0.000797335563167449, 'center_loss_sum': 6.669567890405175e-05}, 'minutia_loss': {'crossent_loss_sum': 0.0018602091698877274, 'center_loss_sum': 3.9528032404280477e-05}, 'minutia_map_loss': 2.8635891029142564},\n",
      "    training_accuracy=0.7749999761581421,\n",
      "    validation_equal_error_rate=0.7749999761581421,\n",
      "}\n",
      "\n",
      "\n",
      " --- Starting Epoch 113 of 250 ---\n",
      "\n",
      "Training:\n"
     ]
    },
    {
     "name": "stderr",
     "output_type": "stream",
     "text": [
      "100%|██████████| 5/5 [08:33<00:00, 102.73s/it]\n"
     ]
    },
    {
     "name": "stdout",
     "output_type": "stream",
     "text": [
      "Average Loss: 1173.9387608337402\n",
      "Multiclass accuracy: 0.7874999642372131\n",
      "TrainingLogEntry(\n",
      "    epoch=113,\n",
      "    training_loss=1173.9387608337402,\n",
      "    loss_statistics={'texture_loss': {'crossent_loss_sum': 0.0006425504410077655, 'center_loss_sum': 4.2484825964839684e-05}, 'minutia_loss': {'crossent_loss_sum': 0.002011853503802466, 'center_loss_sum': 4.9864213233665814e-05}, 'minutia_map_loss': 1.1618750335489},\n",
      "    training_accuracy=0.7874999642372131,\n",
      "    validation_equal_error_rate=0.7874999642372131,\n",
      "}\n",
      "\n",
      "\n",
      " --- Starting Epoch 114 of 250 ---\n",
      "\n",
      "Training:\n"
     ]
    },
    {
     "name": "stderr",
     "output_type": "stream",
     "text": [
      "100%|██████████| 5/5 [07:44<00:00, 92.89s/it]\n"
     ]
    },
    {
     "name": "stdout",
     "output_type": "stream",
     "text": [
      "Average Loss: 221.00531699806447\n",
      "Multiclass accuracy: 0.7624999284744263\n",
      "TrainingLogEntry(\n",
      "    epoch=114,\n",
      "    training_loss=221.00531699806447,\n",
      "    loss_statistics={'texture_loss': {'crossent_loss_sum': 0.0006841357331722975, 'center_loss_sum': 7.078985508996993e-05}, 'minutia_loss': {'crossent_loss_sum': 0.0023036927450448275, 'center_loss_sum': 5.0451292918296534e-05}, 'minutia_map_loss': 0.21271643515356115},\n",
      "    training_accuracy=0.7624999284744263,\n",
      "    validation_equal_error_rate=0.7624999284744263,\n",
      "}\n",
      "\n",
      "\n",
      " --- Starting Epoch 115 of 250 ---\n",
      "\n",
      "Training:\n"
     ]
    },
    {
     "name": "stderr",
     "output_type": "stream",
     "text": [
      "100%|██████████| 5/5 [08:30<00:00, 102.02s/it]\n"
     ]
    },
    {
     "name": "stdout",
     "output_type": "stream",
     "text": [
      "Average Loss: 155.80808204174042\n",
      "Multiclass accuracy: 0.7499999403953552\n",
      "TrainingLogEntry(\n",
      "    epoch=115,\n",
      "    training_loss=155.80808204174042,\n",
      "    loss_statistics={'texture_loss': {'crossent_loss_sum': 0.000618605395922294, 'center_loss_sum': 5.993406718166975e-05}, 'minutia_loss': {'crossent_loss_sum': 0.002169565008236812, 'center_loss_sum': 3.607836122123095e-05}, 'minutia_map_loss': 0.14693128066338024},\n",
      "    training_accuracy=0.7499999403953552,\n",
      "    validation_equal_error_rate=0.7499999403953552,\n",
      "}\n",
      "\n",
      "\n",
      " --- Starting Epoch 116 of 250 ---\n",
      "\n",
      "Training:\n"
     ]
    },
    {
     "name": "stderr",
     "output_type": "stream",
     "text": [
      "100%|██████████| 5/5 [09:21<00:00, 112.28s/it]\n"
     ]
    },
    {
     "name": "stdout",
     "output_type": "stream",
     "text": [
      "Average Loss: 69.55317004680634\n",
      "Multiclass accuracy: 0.6375000476837158\n",
      "TrainingLogEntry(\n",
      "    epoch=116,\n",
      "    training_loss=69.55317004680634,\n",
      "    loss_statistics={'texture_loss': {'crossent_loss_sum': 0.0010037400167096746, 'center_loss_sum': 0.00011034968986429951}, 'minutia_loss': {'crossent_loss_sum': 0.002165837089220683, 'center_loss_sum': 3.4399392704168955e-05}, 'minutia_map_loss': 0.06255041820081798},\n",
      "    training_accuracy=0.6375000476837158,\n",
      "    validation_equal_error_rate=0.6375000476837158,\n",
      "}\n",
      "\n",
      "\n",
      " --- Starting Epoch 117 of 250 ---\n",
      "\n",
      "Training:\n"
     ]
    },
    {
     "name": "stderr",
     "output_type": "stream",
     "text": [
      "100%|██████████| 5/5 [08:38<00:00, 103.65s/it]\n"
     ]
    },
    {
     "name": "stdout",
     "output_type": "stream",
     "text": [
      "Average Loss: 50.50975533664226\n",
      "Multiclass accuracy: 0.7124999761581421\n",
      "TrainingLogEntry(\n",
      "    epoch=117,\n",
      "    training_loss=50.50975533664226,\n",
      "    loss_statistics={'texture_loss': {'crossent_loss_sum': 0.0007047858534019385, 'center_loss_sum': 7.116293409533464e-05}, 'minutia_loss': {'crossent_loss_sum': 0.0021009059984292556, 'center_loss_sum': 2.9560780055376133e-05}, 'minutia_map_loss': 0.04421089354902505},\n",
      "    training_accuracy=0.7124999761581421,\n",
      "    validation_equal_error_rate=0.7124999761581421,\n",
      "}\n",
      "\n",
      "\n",
      " --- Starting Epoch 118 of 250 ---\n",
      "\n",
      "Training:\n"
     ]
    },
    {
     "name": "stderr",
     "output_type": "stream",
     "text": [
      "100%|██████████| 5/5 [08:26<00:00, 101.34s/it]\n"
     ]
    },
    {
     "name": "stdout",
     "output_type": "stream",
     "text": [
      "Average Loss: 30.661844728887083\n",
      "Multiclass accuracy: 0.8374999165534973\n",
      "TrainingLogEntry(\n",
      "    epoch=118,\n",
      "    training_loss=30.661844728887083,\n",
      "    loss_statistics={'texture_loss': {'crossent_loss_sum': 0.0005897001144202316, 'center_loss_sum': 5.8755705215256006e-05}, 'minutia_loss': {'crossent_loss_sum': 0.0020859767408931956, 'center_loss_sum': 2.6757864158271865e-05}, 'minutia_map_loss': 0.025420652197071295},\n",
      "    training_accuracy=0.8374999165534973,\n",
      "    validation_equal_error_rate=0.8374999165534973,\n",
      "}\n",
      "\n",
      "\n",
      " --- Starting Epoch 119 of 250 ---\n",
      "\n",
      "Training:\n"
     ]
    },
    {
     "name": "stderr",
     "output_type": "stream",
     "text": [
      "100%|██████████| 5/5 [08:39<00:00, 103.83s/it]\n"
     ]
    },
    {
     "name": "stdout",
     "output_type": "stream",
     "text": [
      "Average Loss: 17.489813338965178\n",
      "Multiclass accuracy: 0.7374999523162842\n",
      "TrainingLogEntry(\n",
      "    epoch=119,\n",
      "    training_loss=17.489813338965178,\n",
      "    loss_statistics={'texture_loss': {'crossent_loss_sum': 0.0006655000906059707, 'center_loss_sum': 8.931759933846585e-05}, 'minutia_loss': {'crossent_loss_sum': 0.001998390322146208, 'center_loss_sum': 2.1941420298231686e-05}, 'minutia_map_loss': 0.013067072769626976},\n",
      "    training_accuracy=0.7374999523162842,\n",
      "    validation_equal_error_rate=0.7374999523162842,\n",
      "}\n",
      "\n",
      "\n",
      " --- Starting Epoch 120 of 250 ---\n",
      "\n",
      "Training:\n"
     ]
    },
    {
     "name": "stderr",
     "output_type": "stream",
     "text": [
      "100%|██████████| 5/5 [08:27<00:00, 101.48s/it]\n"
     ]
    },
    {
     "name": "stdout",
     "output_type": "stream",
     "text": [
      "Average Loss: 10.577371697723866\n",
      "Multiclass accuracy: 0.7000000476837158\n",
      "TrainingLogEntry(\n",
      "    epoch=120,\n",
      "    training_loss=10.577371697723866,\n",
      "    loss_statistics={'texture_loss': {'crossent_loss_sum': 0.0006810710579156875, 'center_loss_sum': 7.014486739145858e-05}, 'minutia_loss': {'crossent_loss_sum': 0.0019461916174207416, 'center_loss_sum': 2.2540253786636252e-05}, 'minutia_map_loss': 0.0067241340495113825},\n",
      "    training_accuracy=0.7000000476837158,\n",
      "    validation_equal_error_rate=0.7000000476837158,\n",
      "}\n",
      "\n",
      "\n",
      " --- Starting Epoch 121 of 250 ---\n",
      "\n",
      "Training:\n"
     ]
    },
    {
     "name": "stderr",
     "output_type": "stream",
     "text": [
      "100%|██████████| 5/5 [08:53<00:00, 106.74s/it]\n"
     ]
    },
    {
     "name": "stdout",
     "output_type": "stream",
     "text": [
      "Average Loss: 8.136139208599925\n",
      "Multiclass accuracy: 0.7374999523162842\n",
      "TrainingLogEntry(\n",
      "    epoch=121,\n",
      "    training_loss=8.136139208599925,\n",
      "    loss_statistics={'texture_loss': {'crossent_loss_sum': 0.0007667201190767154, 'center_loss_sum': 6.24980836529547e-05}, 'minutia_loss': {'crossent_loss_sum': 0.001906614278403806, 'center_loss_sum': 1.3724889960402334e-05}, 'minutia_map_loss': 0.004412536937415495},\n",
      "    training_accuracy=0.7374999523162842,\n",
      "    validation_equal_error_rate=0.7374999523162842,\n",
      "}\n",
      "\n",
      "\n",
      " --- Starting Epoch 122 of 250 ---\n",
      "\n",
      "Training:\n"
     ]
    },
    {
     "name": "stderr",
     "output_type": "stream",
     "text": [
      "100%|██████████| 5/5 [08:13<00:00, 98.69s/it] \n"
     ]
    },
    {
     "name": "stdout",
     "output_type": "stream",
     "text": [
      "Average Loss: 6.179088597819209\n",
      "Multiclass accuracy: 0.6875\n",
      "TrainingLogEntry(\n",
      "    epoch=122,\n",
      "    training_loss=6.179088597819209,\n",
      "    loss_statistics={'texture_loss': {'crossent_loss_sum': 0.0008079394077261289, 'center_loss_sum': 8.114493749518361e-05}, 'minutia_loss': {'crossent_loss_sum': 0.0018887208153804144, 'center_loss_sum': 1.5361727370570104e-05}, 'minutia_map_loss': 0.0025706253163904572},\n",
      "    training_accuracy=0.6875,\n",
      "    validation_equal_error_rate=0.6875,\n",
      "}\n",
      "\n",
      "\n",
      " --- Starting Epoch 123 of 250 ---\n",
      "\n",
      "Training:\n"
     ]
    },
    {
     "name": "stderr",
     "output_type": "stream",
     "text": [
      "100%|██████████| 5/5 [08:29<00:00, 101.82s/it]\n"
     ]
    },
    {
     "name": "stdout",
     "output_type": "stream",
     "text": [
      "Average Loss: 6.007155187949539\n",
      "Multiclass accuracy: 0.625\n",
      "TrainingLogEntry(\n",
      "    epoch=123,\n",
      "    training_loss=6.007155187949539,\n",
      "    loss_statistics={'texture_loss': {'crossent_loss_sum': 0.0009201860591156842, 'center_loss_sum': 0.00010449579495885601}, 'minutia_loss': {'crossent_loss_sum': 0.0018562588789691663, 'center_loss_sum': 1.6039864268562157e-05}, 'minutia_map_loss': 0.002246131724167666},\n",
      "    training_accuracy=0.625,\n",
      "    validation_equal_error_rate=0.625,\n",
      "}\n",
      "\n",
      "\n",
      " --- Starting Epoch 124 of 250 ---\n",
      "\n",
      "Training:\n"
     ]
    },
    {
     "name": "stderr",
     "output_type": "stream",
     "text": [
      "100%|██████████| 5/5 [08:32<00:00, 102.40s/it]\n"
     ]
    },
    {
     "name": "stdout",
     "output_type": "stream",
     "text": [
      "Average Loss: 4.649682134240866\n",
      "Multiclass accuracy: 0.7499999403953552\n",
      "TrainingLogEntry(\n",
      "    epoch=124,\n",
      "    training_loss=4.649682134240866,\n",
      "    loss_statistics={'texture_loss': {'crossent_loss_sum': 0.0006785283318242511, 'center_loss_sum': 5.002257955336087e-05}, 'minutia_loss': {'crossent_loss_sum': 0.0018085352875090934, 'center_loss_sum': 1.573213848058839e-05}, 'minutia_map_loss': 0.0013742780311637231},\n",
      "    training_accuracy=0.7499999403953552,\n",
      "    validation_equal_error_rate=0.7499999403953552,\n",
      "}\n",
      "\n",
      "\n",
      " --- Starting Epoch 125 of 250 ---\n",
      "\n",
      "Training:\n"
     ]
    },
    {
     "name": "stderr",
     "output_type": "stream",
     "text": [
      "100%|██████████| 5/5 [07:59<00:00, 95.88s/it] \n"
     ]
    },
    {
     "name": "stdout",
     "output_type": "stream",
     "text": [
      "Average Loss: 4.428069399520755\n",
      "Multiclass accuracy: 0.675000011920929\n",
      "TrainingLogEntry(\n",
      "    epoch=125,\n",
      "    training_loss=4.428069399520755,\n",
      "    loss_statistics={'texture_loss': {'crossent_loss_sum': 0.0007500716149806976, 'center_loss_sum': 6.032416597008705e-05}, 'minutia_loss': {'crossent_loss_sum': 0.0018111522992451986, 'center_loss_sum': 2.084244694560766e-05}, 'minutia_map_loss': 0.0010476672241464258},\n",
      "    training_accuracy=0.675000011920929,\n",
      "    validation_equal_error_rate=0.675000011920929,\n",
      "}\n",
      "\n",
      "\n",
      " --- Starting Epoch 126 of 250 ---\n",
      "\n",
      "Training:\n"
     ]
    },
    {
     "name": "stderr",
     "output_type": "stream",
     "text": [
      "100%|██████████| 5/5 [09:11<00:00, 110.32s/it]\n"
     ]
    },
    {
     "name": "stdout",
     "output_type": "stream",
     "text": [
      "Average Loss: 3.808112565204501\n",
      "Multiclass accuracy: 0.7999999523162842\n",
      "TrainingLogEntry(\n",
      "    epoch=126,\n",
      "    training_loss=3.808112565204501,\n",
      "    loss_statistics={'texture_loss': {'crossent_loss_sum': 0.0005178825635659067, 'center_loss_sum': 5.03951285377537e-05}, 'minutia_loss': {'crossent_loss_sum': 0.0016289883146160527, 'center_loss_sum': 1.689901936946339e-05}, 'minutia_map_loss': 0.0009175064855279695},\n",
      "    training_accuracy=0.7999999523162842,\n",
      "    validation_equal_error_rate=0.7999999523162842,\n",
      "}\n",
      "\n",
      "\n",
      " --- Starting Epoch 127 of 250 ---\n",
      "\n",
      "Training:\n"
     ]
    },
    {
     "name": "stderr",
     "output_type": "stream",
     "text": [
      "100%|██████████| 5/5 [08:57<00:00, 107.43s/it]\n"
     ]
    },
    {
     "name": "stdout",
     "output_type": "stream",
     "text": [
      "Average Loss: 3.754386699050665\n",
      "Multiclass accuracy: 0.8500000238418579\n",
      "TrainingLogEntry(\n",
      "    epoch=127,\n",
      "    training_loss=3.754386699050665,\n",
      "    loss_statistics={'texture_loss': {'crossent_loss_sum': 0.0004711484560718784, 'center_loss_sum': 6.161738404786431e-05}, 'minutia_loss': {'crossent_loss_sum': 0.0017267965264134593, 'center_loss_sum': 1.7706709974384926e-05}, 'minutia_map_loss': 0.000770122693222645},\n",
      "    training_accuracy=0.8500000238418579,\n",
      "    validation_equal_error_rate=0.8500000238418579,\n",
      "}\n",
      "\n",
      "\n",
      " --- Starting Epoch 128 of 250 ---\n",
      "\n",
      "Training:\n"
     ]
    },
    {
     "name": "stderr",
     "output_type": "stream",
     "text": [
      "100%|██████████| 5/5 [08:54<00:00, 106.91s/it]\n"
     ]
    },
    {
     "name": "stdout",
     "output_type": "stream",
     "text": [
      "Average Loss: 3.742257587239146\n",
      "Multiclass accuracy: 0.762499988079071\n",
      "TrainingLogEntry(\n",
      "    epoch=128,\n",
      "    training_loss=3.742257587239146,\n",
      "    loss_statistics={'texture_loss': {'crossent_loss_sum': 0.0005378325780232748, 'center_loss_sum': 5.9298410987815795e-05}, 'minutia_loss': {'crossent_loss_sum': 0.001679811607568692, 'center_loss_sum': 2.0420888605981303e-05}, 'minutia_map_loss': 0.0007012402719388214},\n",
      "    training_accuracy=0.762499988079071,\n",
      "    validation_equal_error_rate=0.762499988079071,\n",
      "}\n",
      "\n",
      "\n",
      " --- Starting Epoch 129 of 250 ---\n",
      "\n",
      "Training:\n"
     ]
    },
    {
     "name": "stderr",
     "output_type": "stream",
     "text": [
      "100%|██████████| 5/5 [08:56<00:00, 107.21s/it]\n"
     ]
    },
    {
     "name": "stdout",
     "output_type": "stream",
     "text": [
      "Average Loss: 3.642257495671511\n",
      "Multiclass accuracy: 0.7749999761581421\n",
      "TrainingLogEntry(\n",
      "    epoch=129,\n",
      "    training_loss=3.642257495671511,\n",
      "    loss_statistics={'texture_loss': {'crossent_loss_sum': 0.000502093881368637, 'center_loss_sum': 4.587269364561461e-05}, 'minutia_loss': {'crossent_loss_sum': 0.0016595661451544942, 'center_loss_sum': 2.0822307943731924e-05}, 'minutia_map_loss': 0.000653177760659328},\n",
      "    training_accuracy=0.7749999761581421,\n",
      "    validation_equal_error_rate=0.7749999761581421,\n",
      "}\n",
      "\n",
      "\n",
      " --- Starting Epoch 130 of 250 ---\n",
      "\n",
      "Training:\n"
     ]
    },
    {
     "name": "stderr",
     "output_type": "stream",
     "text": [
      "100%|██████████| 5/5 [08:53<00:00, 106.75s/it]\n"
     ]
    },
    {
     "name": "stdout",
     "output_type": "stream",
     "text": [
      "Average Loss: 3.398747758567333\n",
      "Multiclass accuracy: 0.8499999046325684\n",
      "TrainingLogEntry(\n",
      "    epoch=130,\n",
      "    training_loss=3.398747758567333,\n",
      "    loss_statistics={'texture_loss': {'crossent_loss_sum': 0.0004228978604078293, 'center_loss_sum': 3.92439536517486e-05}, 'minutia_loss': {'crossent_loss_sum': 0.0015663635358214379, 'center_loss_sum': 1.616297318832949e-05}, 'minutia_map_loss': 0.0006106033769901841},\n",
      "    training_accuracy=0.8499999046325684,\n",
      "    validation_equal_error_rate=0.8499999046325684,\n",
      "}\n",
      "\n",
      "\n",
      " --- Starting Epoch 131 of 250 ---\n",
      "\n",
      "Training:\n"
     ]
    },
    {
     "name": "stderr",
     "output_type": "stream",
     "text": [
      "100%|██████████| 5/5 [06:33<00:00, 78.72s/it] \n"
     ]
    },
    {
     "name": "stdout",
     "output_type": "stream",
     "text": [
      "Average Loss: 3.383278993368149\n",
      "Multiclass accuracy: 0.8375000357627869\n",
      "TrainingLogEntry(\n",
      "    epoch=131,\n",
      "    training_loss=3.383278993368149,\n",
      "    loss_statistics={'texture_loss': {'crossent_loss_sum': 0.00031994684472864054, 'center_loss_sum': 3.599041015093709e-05}, 'minutia_loss': {'crossent_loss_sum': 0.0016246154720400586, 'center_loss_sum': 2.3045206879392083e-05}, 'minutia_map_loss': 0.0006069568599815721},\n",
      "    training_accuracy=0.8375000357627869,\n",
      "    validation_equal_error_rate=0.8375000357627869,\n",
      "}\n",
      "\n",
      "\n",
      " --- Starting Epoch 132 of 250 ---\n",
      "\n",
      "Training:\n"
     ]
    },
    {
     "name": "stderr",
     "output_type": "stream",
     "text": [
      "100%|██████████| 5/5 [07:49<00:00, 93.95s/it] \n"
     ]
    },
    {
     "name": "stdout",
     "output_type": "stream",
     "text": [
      "Average Loss: 3.312072599828243\n",
      "Multiclass accuracy: 0.8500000238418579\n",
      "TrainingLogEntry(\n",
      "    epoch=132,\n",
      "    training_loss=3.312072599828243,\n",
      "    loss_statistics={'texture_loss': {'crossent_loss_sum': 0.0003192352767034275, 'center_loss_sum': 4.45864435921355e-05}, 'minutia_loss': {'crossent_loss_sum': 0.0015806496143341065, 'center_loss_sum': 2.1359599592936475e-05}, 'minutia_map_loss': 0.0005586146497417514},\n",
      "    training_accuracy=0.8500000238418579,\n",
      "    validation_equal_error_rate=0.8500000238418579,\n",
      "}\n",
      "\n",
      "\n",
      " --- Starting Epoch 133 of 250 ---\n",
      "\n",
      "Training:\n"
     ]
    },
    {
     "name": "stderr",
     "output_type": "stream",
     "text": [
      "100%|██████████| 5/5 [08:25<00:00, 101.01s/it]\n"
     ]
    },
    {
     "name": "stdout",
     "output_type": "stream",
     "text": [
      "Average Loss: 3.4842749232053754\n",
      "Multiclass accuracy: 0.8375000357627869\n",
      "TrainingLogEntry(\n",
      "    epoch=133,\n",
      "    training_loss=3.4842749232053754,\n",
      "    loss_statistics={'texture_loss': {'crossent_loss_sum': 0.00040113429976515024, 'center_loss_sum': 3.959774881242269e-05}, 'minutia_loss': {'crossent_loss_sum': 0.001562842690801046, 'center_loss_sum': 1.913910305284592e-05}, 'minutia_map_loss': 0.0006009871068309589},\n",
      "    training_accuracy=0.8375000357627869,\n",
      "    validation_equal_error_rate=0.8375000357627869,\n",
      "}\n",
      "\n",
      "\n",
      " --- Starting Epoch 134 of 250 ---\n",
      "\n",
      "Training:\n"
     ]
    },
    {
     "name": "stderr",
     "output_type": "stream",
     "text": [
      "100%|██████████| 5/5 [07:38<00:00, 91.73s/it] \n"
     ]
    },
    {
     "name": "stdout",
     "output_type": "stream",
     "text": [
      "Average Loss: 3.398362826481462\n",
      "Multiclass accuracy: 0.7874999642372131\n",
      "TrainingLogEntry(\n",
      "    epoch=134,\n",
      "    training_loss=3.398362826481462,\n",
      "    loss_statistics={'texture_loss': {'crossent_loss_sum': 0.0003613973125105812, 'center_loss_sum': 4.1398216438080585e-05}, 'minutia_loss': {'crossent_loss_sum': 0.0015829113267716906, 'center_loss_sum': 2.535329050650554e-05}, 'minutia_map_loss': 0.0005174836581240275},\n",
      "    training_accuracy=0.7874999642372131,\n",
      "    validation_equal_error_rate=0.7874999642372131,\n",
      "}\n",
      "\n",
      "\n",
      " --- Starting Epoch 135 of 250 ---\n",
      "\n",
      "Training:\n"
     ]
    },
    {
     "name": "stderr",
     "output_type": "stream",
     "text": [
      "100%|██████████| 5/5 [08:26<00:00, 101.26s/it]\n"
     ]
    },
    {
     "name": "stdout",
     "output_type": "stream",
     "text": [
      "Average Loss: 3.439076687917113\n",
      "Multiclass accuracy: 0.8500000238418579\n",
      "TrainingLogEntry(\n",
      "    epoch=135,\n",
      "    training_loss=3.439076687917113,\n",
      "    loss_statistics={'texture_loss': {'crossent_loss_sum': 0.0003212670521701083, 'center_loss_sum': 4.0709073929225696e-05}, 'minutia_loss': {'crossent_loss_sum': 0.0015812918017892278, 'center_loss_sum': 2.3495378520558862e-05}, 'minutia_map_loss': 0.0005619695446837475},\n",
      "    training_accuracy=0.8500000238418579,\n",
      "    validation_equal_error_rate=0.8500000238418579,\n",
      "}\n",
      "\n",
      "\n",
      " --- Starting Epoch 136 of 250 ---\n",
      "\n",
      "Training:\n"
     ]
    },
    {
     "name": "stderr",
     "output_type": "stream",
     "text": [
      "100%|██████████| 5/5 [08:39<00:00, 104.00s/it]\n"
     ]
    },
    {
     "name": "stdout",
     "output_type": "stream",
     "text": [
      "Average Loss: 3.422280500456691\n",
      "Multiclass accuracy: 0.762499988079071\n",
      "TrainingLogEntry(\n",
      "    epoch=136,\n",
      "    training_loss=3.422280500456691,\n",
      "    loss_statistics={'texture_loss': {'crossent_loss_sum': 0.00039163897203844646, 'center_loss_sum': 2.765150762401348e-05}, 'minutia_loss': {'crossent_loss_sum': 0.0015663813366446383, 'center_loss_sum': 2.701688492887242e-05}, 'minutia_map_loss': 0.0004744337381643438},\n",
      "    training_accuracy=0.762499988079071,\n",
      "    validation_equal_error_rate=0.762499988079071,\n",
      "}\n",
      "\n",
      "\n",
      " --- Starting Epoch 137 of 250 ---\n",
      "\n",
      "Training:\n"
     ]
    },
    {
     "name": "stderr",
     "output_type": "stream",
     "text": [
      "100%|██████████| 5/5 [08:21<00:00, 100.38s/it]\n"
     ]
    },
    {
     "name": "stdout",
     "output_type": "stream",
     "text": [
      "Average Loss: 3.312085101008415\n",
      "Multiclass accuracy: 0.8374999761581421\n",
      "TrainingLogEntry(\n",
      "    epoch=137,\n",
      "    training_loss=3.312085101008415,\n",
      "    loss_statistics={'texture_loss': {'crossent_loss_sum': 0.00033542958313021164, 'center_loss_sum': 4.0075959016879396e-05}, 'minutia_loss': {'crossent_loss_sum': 0.0015118436566714582, 'center_loss_sum': 2.365397321509904e-05}, 'minutia_map_loss': 0.00046836829519477383},\n",
      "    training_accuracy=0.8374999761581421,\n",
      "    validation_equal_error_rate=0.8374999761581421,\n",
      "}\n",
      "\n",
      "\n",
      " --- Starting Epoch 138 of 250 ---\n",
      "\n",
      "Training:\n"
     ]
    },
    {
     "name": "stderr",
     "output_type": "stream",
     "text": [
      "100%|██████████| 5/5 [08:35<00:00, 103.19s/it]\n"
     ]
    },
    {
     "name": "stdout",
     "output_type": "stream",
     "text": [
      "Average Loss: 3.3204105023294685\n",
      "Multiclass accuracy: 0.887499988079071\n",
      "TrainingLogEntry(\n",
      "    epoch=138,\n",
      "    training_loss=3.3204105023294685,\n",
      "    loss_statistics={'texture_loss': {'crossent_loss_sum': 0.0002819098786196925, 'center_loss_sum': 2.850089222192764e-05}, 'minutia_loss': {'crossent_loss_sum': 0.0015655016695911234, 'center_loss_sum': 2.231463440693915e-05}, 'minutia_map_loss': 0.0004600190729516643},\n",
      "    training_accuracy=0.887499988079071,\n",
      "    validation_equal_error_rate=0.887499988079071,\n",
      "}\n",
      "\n",
      "\n",
      " --- Starting Epoch 139 of 250 ---\n",
      "\n",
      "Training:\n"
     ]
    },
    {
     "name": "stderr",
     "output_type": "stream",
     "text": [
      "100%|██████████| 5/5 [08:08<00:00, 97.70s/it] \n"
     ]
    },
    {
     "name": "stdout",
     "output_type": "stream",
     "text": [
      "Average Loss: 3.3069565166532997\n",
      "Multiclass accuracy: 0.8624999523162842\n",
      "TrainingLogEntry(\n",
      "    epoch=139,\n",
      "    training_loss=3.3069565166532997,\n",
      "    loss_statistics={'texture_loss': {'crossent_loss_sum': 0.00029254493962847783, 'center_loss_sum': 4.471132761976692e-05}, 'minutia_loss': {'crossent_loss_sum': 0.0014586310038405858, 'center_loss_sum': 1.765262372163909e-05}, 'minutia_map_loss': 0.0005087609950118185},\n",
      "    training_accuracy=0.8624999523162842,\n",
      "    validation_equal_error_rate=0.8624999523162842,\n",
      "}\n",
      "\n",
      "\n",
      " --- Starting Epoch 140 of 250 ---\n",
      "\n",
      "Training:\n"
     ]
    },
    {
     "name": "stderr",
     "output_type": "stream",
     "text": [
      "100%|██████████| 5/5 [08:19<00:00, 99.84s/it] \n"
     ]
    },
    {
     "name": "stdout",
     "output_type": "stream",
     "text": [
      "Average Loss: 3.283277951255441\n",
      "Multiclass accuracy: 0.8124999403953552\n",
      "TrainingLogEntry(\n",
      "    epoch=140,\n",
      "    training_loss=3.283277951255441,\n",
      "    loss_statistics={'texture_loss': {'crossent_loss_sum': 0.0003164799677001105, 'center_loss_sum': 3.226443711254332e-05}, 'minutia_loss': {'crossent_loss_sum': 0.001459893418682946, 'center_loss_sum': 2.2990405042138364e-05}, 'minutia_map_loss': 0.0004484259161787728},\n",
      "    training_accuracy=0.8124999403953552,\n",
      "    validation_equal_error_rate=0.8124999403953552,\n",
      "}\n",
      "\n",
      "\n",
      " --- Starting Epoch 141 of 250 ---\n",
      "\n",
      "Training:\n"
     ]
    },
    {
     "name": "stderr",
     "output_type": "stream",
     "text": [
      "100%|██████████| 5/5 [08:55<00:00, 107.12s/it]\n"
     ]
    },
    {
     "name": "stdout",
     "output_type": "stream",
     "text": [
      "Average Loss: 3.187897510007024\n",
      "Multiclass accuracy: 0.9125000238418579\n",
      "TrainingLogEntry(\n",
      "    epoch=141,\n",
      "    training_loss=3.187897510007024,\n",
      "    loss_statistics={'texture_loss': {'crossent_loss_sum': 0.00026351494898835384, 'center_loss_sum': 3.121748597330445e-05}, 'minutia_loss': {'crossent_loss_sum': 0.0014236325582305154, 'center_loss_sum': 2.260331453366594e-05}, 'minutia_map_loss': 0.0004485217551956629},\n",
      "    training_accuracy=0.9125000238418579,\n",
      "    validation_equal_error_rate=0.9125000238418579,\n",
      "}\n",
      "\n",
      "\n",
      " --- Starting Epoch 142 of 250 ---\n",
      "\n",
      "Training:\n"
     ]
    },
    {
     "name": "stderr",
     "output_type": "stream",
     "text": [
      "100%|██████████| 5/5 [08:08<00:00, 97.79s/it] \n"
     ]
    },
    {
     "name": "stdout",
     "output_type": "stream",
     "text": [
      "Average Loss: 3.282667622119188\n",
      "Multiclass accuracy: 0.8125\n",
      "TrainingLogEntry(\n",
      "    epoch=142,\n",
      "    training_loss=3.282667622119188,\n",
      "    loss_statistics={'texture_loss': {'crossent_loss_sum': 0.00033743000062911406, 'center_loss_sum': 3.434251513048683e-05}, 'minutia_loss': {'crossent_loss_sum': 0.0013645914099786592, 'center_loss_sum': 2.110696741906197e-05}, 'minutia_map_loss': 0.00047260220577616404},\n",
      "    training_accuracy=0.8125,\n",
      "    validation_equal_error_rate=0.8125,\n",
      "}\n",
      "\n",
      "\n",
      " --- Starting Epoch 143 of 250 ---\n",
      "\n",
      "Training:\n"
     ]
    },
    {
     "name": "stderr",
     "output_type": "stream",
     "text": [
      "100%|██████████| 5/5 [08:10<00:00, 98.13s/it] \n"
     ]
    },
    {
     "name": "stdout",
     "output_type": "stream",
     "text": [
      "Average Loss: 3.1547436671704054\n",
      "Multiclass accuracy: 0.8750000596046448\n",
      "TrainingLogEntry(\n",
      "    epoch=143,\n",
      "    training_loss=3.1547436671704054,\n",
      "    loss_statistics={'texture_loss': {'crossent_loss_sum': 0.00026996128000719575, 'center_loss_sum': 4.321136511862278e-05}, 'minutia_loss': {'crossent_loss_sum': 0.0013299747019685725, 'center_loss_sum': 2.2558057280157203e-05}, 'minutia_map_loss': 0.0004544180218550947},\n",
      "    training_accuracy=0.8750000596046448,\n",
      "    validation_equal_error_rate=0.8750000596046448,\n",
      "}\n",
      "\n",
      "\n",
      " --- Starting Epoch 144 of 250 ---\n",
      "\n",
      "Training:\n"
     ]
    },
    {
     "name": "stderr",
     "output_type": "stream",
     "text": [
      "100%|██████████| 5/5 [07:53<00:00, 94.77s/it] \n"
     ]
    },
    {
     "name": "stdout",
     "output_type": "stream",
     "text": [
      "Average Loss: 3.3088977108895774\n",
      "Multiclass accuracy: 0.8499999642372131\n",
      "TrainingLogEntry(\n",
      "    epoch=144,\n",
      "    training_loss=3.3088977108895774,\n",
      "    loss_statistics={'texture_loss': {'crossent_loss_sum': 0.000234052800434701, 'center_loss_sum': 3.190260340875767e-05}, 'minutia_loss': {'crossent_loss_sum': 0.0014647607473616904, 'center_loss_sum': 2.2425786641604723e-05}, 'minutia_map_loss': 0.00044692306194771476},\n",
      "    training_accuracy=0.8499999642372131,\n",
      "    validation_equal_error_rate=0.8499999642372131,\n",
      "}\n",
      "\n",
      "\n",
      " --- Starting Epoch 145 of 250 ---\n",
      "\n",
      "Training:\n"
     ]
    },
    {
     "name": "stderr",
     "output_type": "stream",
     "text": [
      "100%|██████████| 5/5 [08:16<00:00, 99.29s/it] \n"
     ]
    },
    {
     "name": "stdout",
     "output_type": "stream",
     "text": [
      "Average Loss: 3.3828403846919537\n",
      "Multiclass accuracy: 0.7874999642372131\n",
      "TrainingLogEntry(\n",
      "    epoch=145,\n",
      "    training_loss=3.3828403846919537,\n",
      "    loss_statistics={'texture_loss': {'crossent_loss_sum': 0.0003759316668698662, 'center_loss_sum': 4.307125302913942e-05}, 'minutia_loss': {'crossent_loss_sum': 0.0013685922559938933, 'center_loss_sum': 1.8467899951103488e-05}, 'minutia_map_loss': 0.0004194897659319012},\n",
      "    training_accuracy=0.7874999642372131,\n",
      "    validation_equal_error_rate=0.7874999642372131,\n",
      "}\n",
      "\n",
      "\n",
      " --- Starting Epoch 146 of 250 ---\n",
      "\n",
      "Training:\n"
     ]
    },
    {
     "name": "stderr",
     "output_type": "stream",
     "text": [
      "100%|██████████| 5/5 [08:40<00:00, 104.01s/it]\n"
     ]
    },
    {
     "name": "stdout",
     "output_type": "stream",
     "text": [
      "Average Loss: 3.1709393741935488\n",
      "Multiclass accuracy: 0.887499988079071\n",
      "TrainingLogEntry(\n",
      "    epoch=146,\n",
      "    training_loss=3.1709393741935488,\n",
      "    loss_statistics={'texture_loss': {'crossent_loss_sum': 0.0002794176960984866, 'center_loss_sum': 4.216237236202384e-05}, 'minutia_loss': {'crossent_loss_sum': 0.0013304051787902912, 'center_loss_sum': 1.506999906268902e-05}, 'minutia_map_loss': 0.00039735841579386033},\n",
      "    training_accuracy=0.887499988079071,\n",
      "    validation_equal_error_rate=0.887499988079071,\n",
      "}\n",
      "\n",
      "\n",
      " --- Starting Epoch 147 of 250 ---\n",
      "\n",
      "Training:\n"
     ]
    },
    {
     "name": "stderr",
     "output_type": "stream",
     "text": [
      "100%|██████████| 5/5 [08:20<00:00, 100.03s/it]\n"
     ]
    },
    {
     "name": "stdout",
     "output_type": "stream",
     "text": [
      "Average Loss: 3.604362168610096\n",
      "Multiclass accuracy: 0.7750000357627869\n",
      "TrainingLogEntry(\n",
      "    epoch=147,\n",
      "    training_loss=3.604362168610096,\n",
      "    loss_statistics={'texture_loss': {'crossent_loss_sum': 0.0005029868756987385, 'center_loss_sum': 5.1049333901058155e-05}, 'minutia_loss': {'crossent_loss_sum': 0.0013629102522564917, 'center_loss_sum': 1.6542137168424644e-05}, 'minutia_map_loss': 0.0003889096860495424},\n",
      "    training_accuracy=0.7750000357627869,\n",
      "    validation_equal_error_rate=0.7750000357627869,\n",
      "}\n",
      "\n",
      "\n",
      " --- Starting Epoch 148 of 250 ---\n",
      "\n",
      "Training:\n"
     ]
    },
    {
     "name": "stderr",
     "output_type": "stream",
     "text": [
      "100%|██████████| 5/5 [08:42<00:00, 104.42s/it]\n"
     ]
    },
    {
     "name": "stdout",
     "output_type": "stream",
     "text": [
      "Average Loss: 3.1177146708592773\n",
      "Multiclass accuracy: 0.8500000238418579\n",
      "TrainingLogEntry(\n",
      "    epoch=148,\n",
      "    training_loss=3.1177146708592773,\n",
      "    loss_statistics={'texture_loss': {'crossent_loss_sum': 0.00028800595437689704, 'center_loss_sum': 3.400316880065568e-05}, 'minutia_loss': {'crossent_loss_sum': 0.0012825375612901182, 'center_loss_sum': 1.2966789595060506e-05}, 'minutia_map_loss': 0.00037082499308910754},\n",
      "    training_accuracy=0.8500000238418579,\n",
      "    validation_equal_error_rate=0.8500000238418579,\n",
      "}\n",
      "\n",
      "\n",
      " --- Starting Epoch 149 of 250 ---\n",
      "\n",
      "Training:\n"
     ]
    },
    {
     "name": "stderr",
     "output_type": "stream",
     "text": [
      "100%|██████████| 5/5 [08:41<00:00, 104.21s/it]\n"
     ]
    },
    {
     "name": "stdout",
     "output_type": "stream",
     "text": [
      "Average Loss: 3.1202445451170204\n",
      "Multiclass accuracy: 0.8624999523162842\n",
      "TrainingLogEntry(\n",
      "    epoch=149,\n",
      "    training_loss=3.1202445451170204,\n",
      "    loss_statistics={'texture_loss': {'crossent_loss_sum': 0.0002576444599062505, 'center_loss_sum': 3.564956673242227e-05}, 'minutia_loss': {'crossent_loss_sum': 0.0012760237009838374, 'center_loss_sum': 1.535353937534371e-05}, 'minutia_map_loss': 0.00038518011217203104},\n",
      "    training_accuracy=0.8624999523162842,\n",
      "    validation_equal_error_rate=0.8624999523162842,\n",
      "}\n",
      "\n",
      "\n",
      " --- Starting Epoch 150 of 250 ---\n",
      "\n",
      "Training:\n"
     ]
    },
    {
     "name": "stderr",
     "output_type": "stream",
     "text": [
      "100%|██████████| 5/5 [08:45<00:00, 105.09s/it]\n"
     ]
    },
    {
     "name": "stdout",
     "output_type": "stream",
     "text": [
      "Average Loss: 3.433213512673974\n",
      "Multiclass accuracy: 0.7999999523162842\n",
      "TrainingLogEntry(\n",
      "    epoch=150,\n",
      "    training_loss=3.433213512673974,\n",
      "    loss_statistics={'texture_loss': {'crossent_loss_sum': 0.0003690652586519718, 'center_loss_sum': 5.941543914377689e-05}, 'minutia_loss': {'crossent_loss_sum': 0.0012892074733972549, 'center_loss_sum': 1.7947281710803508e-05}, 'minutia_map_loss': 0.0004101229859981686},\n",
      "    training_accuracy=0.7999999523162842,\n",
      "    validation_equal_error_rate=0.7999999523162842,\n",
      "}\n",
      "\n",
      "\n",
      " --- Starting Epoch 151 of 250 ---\n",
      "\n",
      "Training:\n"
     ]
    },
    {
     "name": "stderr",
     "output_type": "stream",
     "text": [
      "100%|██████████| 5/5 [07:59<00:00, 95.96s/it] \n"
     ]
    },
    {
     "name": "stdout",
     "output_type": "stream",
     "text": [
      "Average Loss: 3.312051310874522\n",
      "Multiclass accuracy: 0.875\n",
      "TrainingLogEntry(\n",
      "    epoch=151,\n",
      "    training_loss=3.312051310874522,\n",
      "    loss_statistics={'texture_loss': {'crossent_loss_sum': 0.0002699409012157138, 'center_loss_sum': 3.311249224635044e-05}, 'minutia_loss': {'crossent_loss_sum': 0.001282408877764598, 'center_loss_sum': 1.773167203300365e-05}, 'minutia_map_loss': 0.00044634278183618533},\n",
      "    training_accuracy=0.875,\n",
      "    validation_equal_error_rate=0.875,\n",
      "}\n",
      "\n",
      "\n",
      " --- Starting Epoch 152 of 250 ---\n",
      "\n",
      "Training:\n"
     ]
    },
    {
     "name": "stderr",
     "output_type": "stream",
     "text": [
      "100%|██████████| 5/5 [08:28<00:00, 101.78s/it]\n"
     ]
    },
    {
     "name": "stdout",
     "output_type": "stream",
     "text": [
      "Average Loss: 3.124566249288619\n",
      "Multiclass accuracy: 0.8499999642372131\n",
      "TrainingLogEntry(\n",
      "    epoch=152,\n",
      "    training_loss=3.124566249288619,\n",
      "    loss_statistics={'texture_loss': {'crossent_loss_sum': 0.000273978293818586, 'center_loss_sum': 3.485727288267192e-05}, 'minutia_loss': {'crossent_loss_sum': 0.0012084111425222136, 'center_loss_sum': 1.9312993276352977e-05}, 'minutia_map_loss': 0.00037800294477218654},\n",
      "    training_accuracy=0.8499999642372131,\n",
      "    validation_equal_error_rate=0.8499999642372131,\n",
      "}\n",
      "\n",
      "\n",
      " --- Starting Epoch 153 of 250 ---\n",
      "\n",
      "Training:\n"
     ]
    },
    {
     "name": "stderr",
     "output_type": "stream",
     "text": [
      "100%|██████████| 5/5 [07:35<00:00, 91.18s/it] \n"
     ]
    },
    {
     "name": "stdout",
     "output_type": "stream",
     "text": [
      "Average Loss: 2.929224888794124\n",
      "Multiclass accuracy: 0.9125000238418579\n",
      "TrainingLogEntry(\n",
      "    epoch=153,\n",
      "    training_loss=2.929224888794124,\n",
      "    loss_statistics={'texture_loss': {'crossent_loss_sum': 0.0002141984016860573, 'center_loss_sum': 3.996066143284145e-05}, 'minutia_loss': {'crossent_loss_sum': 0.0011531388007321405, 'center_loss_sum': 1.754236375931108e-05}, 'minutia_map_loss': 0.0003526020784934675},\n",
      "    training_accuracy=0.9125000238418579,\n",
      "    validation_equal_error_rate=0.9125000238418579,\n",
      "}\n",
      "\n",
      "\n",
      " --- Starting Epoch 154 of 250 ---\n",
      "\n",
      "Training:\n"
     ]
    },
    {
     "name": "stderr",
     "output_type": "stream",
     "text": [
      "100%|██████████| 5/5 [08:29<00:00, 101.98s/it]\n"
     ]
    },
    {
     "name": "stdout",
     "output_type": "stream",
     "text": [
      "Average Loss: 3.0679084648936987\n",
      "Multiclass accuracy: 0.8249999284744263\n",
      "TrainingLogEntry(\n",
      "    epoch=154,\n",
      "    training_loss=3.0679084648936987,\n",
      "    loss_statistics={'texture_loss': {'crossent_loss_sum': 0.0002639723762583274, 'center_loss_sum': 4.284437880134926e-05}, 'minutia_loss': {'crossent_loss_sum': 0.0011801368198715724, 'center_loss_sum': 1.8919213415266802e-05}, 'minutia_map_loss': 0.00033782221175407846},\n",
      "    training_accuracy=0.8249999284744263,\n",
      "    validation_equal_error_rate=0.8249999284744263,\n",
      "}\n",
      "\n",
      "\n",
      " --- Starting Epoch 155 of 250 ---\n",
      "\n",
      "Training:\n"
     ]
    },
    {
     "name": "stderr",
     "output_type": "stream",
     "text": [
      "100%|██████████| 5/5 [08:24<00:00, 100.93s/it]\n"
     ]
    },
    {
     "name": "stdout",
     "output_type": "stream",
     "text": [
      "Average Loss: 3.1433603907003995\n",
      "Multiclass accuracy: 0.9000000357627869\n",
      "TrainingLogEntry(\n",
      "    epoch=155,\n",
      "    training_loss=3.1433603907003995,\n",
      "    loss_statistics={'texture_loss': {'crossent_loss_sum': 0.00023103239813021252, 'center_loss_sum': 4.3427980105791776e-05}, 'minutia_loss': {'crossent_loss_sum': 0.0011805839481807891, 'center_loss_sum': 2.3489481813850856e-05}, 'minutia_map_loss': 0.00039251403583745876},\n",
      "    training_accuracy=0.9000000357627869,\n",
      "    validation_equal_error_rate=0.9000000357627869,\n",
      "}\n",
      "\n",
      "\n",
      " --- Starting Epoch 156 of 250 ---\n",
      "\n",
      "Training:\n"
     ]
    },
    {
     "name": "stderr",
     "output_type": "stream",
     "text": [
      "100%|██████████| 5/5 [08:24<00:00, 100.90s/it]\n"
     ]
    },
    {
     "name": "stdout",
     "output_type": "stream",
     "text": [
      "Average Loss: 3.22792683724314\n",
      "Multiclass accuracy: 0.8624999523162842\n",
      "TrainingLogEntry(\n",
      "    epoch=156,\n",
      "    training_loss=3.22792683724314,\n",
      "    loss_statistics={'texture_loss': {'crossent_loss_sum': 0.0002705844997797372, 'center_loss_sum': 3.9303514069684275e-05}, 'minutia_loss': {'crossent_loss_sum': 0.0011604876450772555, 'center_loss_sum': 1.762076456732345e-05}, 'minutia_map_loss': 0.0004152623332272512},\n",
      "    training_accuracy=0.8624999523162842,\n",
      "    validation_equal_error_rate=0.8624999523162842,\n",
      "}\n",
      "\n",
      "\n",
      " --- Starting Epoch 157 of 250 ---\n",
      "\n",
      "Training:\n"
     ]
    },
    {
     "name": "stderr",
     "output_type": "stream",
     "text": [
      "100%|██████████| 5/5 [08:17<00:00, 99.58s/it] \n"
     ]
    },
    {
     "name": "stdout",
     "output_type": "stream",
     "text": [
      "Average Loss: 3.0193641195073724\n",
      "Multiclass accuracy: 0.887499988079071\n",
      "TrainingLogEntry(\n",
      "    epoch=157,\n",
      "    training_loss=3.0193641195073724,\n",
      "    loss_statistics={'texture_loss': {'crossent_loss_sum': 0.00020826693937600217, 'center_loss_sum': 4.128575734097824e-05}, 'minutia_loss': {'crossent_loss_sum': 0.00116585487517241, 'center_loss_sum': 1.6570588895859563e-05}, 'minutia_map_loss': 0.00033166912725961234},\n",
      "    training_accuracy=0.887499988079071,\n",
      "    validation_equal_error_rate=0.887499988079071,\n",
      "}\n",
      "\n",
      "\n",
      " --- Starting Epoch 158 of 250 ---\n",
      "\n",
      "Training:\n"
     ]
    },
    {
     "name": "stderr",
     "output_type": "stream",
     "text": [
      "100%|██████████| 5/5 [07:42<00:00, 92.44s/it] \n"
     ]
    },
    {
     "name": "stdout",
     "output_type": "stream",
     "text": [
      "Average Loss: 3.1082696497067808\n",
      "Multiclass accuracy: 0.8749999403953552\n",
      "TrainingLogEntry(\n",
      "    epoch=158,\n",
      "    training_loss=3.1082696497067808,\n",
      "    loss_statistics={'texture_loss': {'crossent_loss_sum': 0.00024100414097861006, 'center_loss_sum': 3.8640770664507595e-05}, 'minutia_loss': {'crossent_loss_sum': 0.0011761509157993176, 'center_loss_sum': 1.7861015146115313e-05}, 'minutia_map_loss': 0.0003251103097702273},\n",
      "    training_accuracy=0.8749999403953552,\n",
      "    validation_equal_error_rate=0.8749999403953552,\n",
      "}\n",
      "\n",
      "\n",
      " --- Starting Epoch 159 of 250 ---\n",
      "\n",
      "Training:\n"
     ]
    },
    {
     "name": "stderr",
     "output_type": "stream",
     "text": [
      "100%|██████████| 5/5 [08:30<00:00, 102.13s/it]\n"
     ]
    },
    {
     "name": "stdout",
     "output_type": "stream",
     "text": [
      "Average Loss: 3.079671754166484\n",
      "Multiclass accuracy: 0.8624999523162842\n",
      "TrainingLogEntry(\n",
      "    epoch=159,\n",
      "    training_loss=3.079671754166484,\n",
      "    loss_statistics={'texture_loss': {'crossent_loss_sum': 0.00028356400856731134, 'center_loss_sum': 3.5528679711556214e-05}, 'minutia_loss': {'crossent_loss_sum': 0.0011010802803783242, 'center_loss_sum': 1.822306150826839e-05}, 'minutia_map_loss': 0.0003274707834091071},\n",
      "    training_accuracy=0.8624999523162842,\n",
      "    validation_equal_error_rate=0.8624999523162842,\n",
      "}\n",
      "\n",
      "\n",
      " --- Starting Epoch 160 of 250 ---\n",
      "\n",
      "Training:\n"
     ]
    },
    {
     "name": "stderr",
     "output_type": "stream",
     "text": [
      "100%|██████████| 5/5 [08:33<00:00, 102.78s/it]\n"
     ]
    },
    {
     "name": "stdout",
     "output_type": "stream",
     "text": [
      "Average Loss: 3.2006198519095777\n",
      "Multiclass accuracy: 0.9125000834465027\n",
      "TrainingLogEntry(\n",
      "    epoch=160,\n",
      "    training_loss=3.2006198519095777,\n",
      "    loss_statistics={'texture_loss': {'crossent_loss_sum': 0.0002976937930692326, 'center_loss_sum': 3.4364030527120286e-05}, 'minutia_loss': {'crossent_loss_sum': 0.0011115461452440782, 'center_loss_sum': 1.749725081026554e-05}, 'minutia_map_loss': 0.000357432805319232},\n",
      "    training_accuracy=0.9125000834465027,\n",
      "    validation_equal_error_rate=0.9125000834465027,\n",
      "}\n",
      "\n",
      "\n",
      " --- Starting Epoch 161 of 250 ---\n",
      "\n",
      "Training:\n"
     ]
    },
    {
     "name": "stderr",
     "output_type": "stream",
     "text": [
      "100%|██████████| 5/5 [08:04<00:00, 96.89s/it] \n"
     ]
    },
    {
     "name": "stdout",
     "output_type": "stream",
     "text": [
      "Average Loss: 3.0964902667328715\n",
      "Multiclass accuracy: 0.887499988079071\n",
      "TrainingLogEntry(\n",
      "    epoch=161,\n",
      "    training_loss=3.0964902667328715,\n",
      "    loss_statistics={'texture_loss': {'crossent_loss_sum': 0.00026479183217963657, 'center_loss_sum': 2.872982179863496e-05}, 'minutia_loss': {'crossent_loss_sum': 0.0011179129551122855, 'center_loss_sum': 1.6205263877841268e-05}, 'minutia_map_loss': 0.00031587944800235535},\n",
      "    training_accuracy=0.887499988079071,\n",
      "    validation_equal_error_rate=0.887499988079071,\n",
      "}\n",
      "\n",
      "\n",
      " --- Starting Epoch 162 of 250 ---\n",
      "\n",
      "Training:\n"
     ]
    },
    {
     "name": "stderr",
     "output_type": "stream",
     "text": [
      "100%|██████████| 5/5 [08:07<00:00, 97.59s/it] \n"
     ]
    },
    {
     "name": "stdout",
     "output_type": "stream",
     "text": [
      "Average Loss: 3.3853766893967987\n",
      "Multiclass accuracy: 0.8374999761581421\n",
      "TrainingLogEntry(\n",
      "    epoch=162,\n",
      "    training_loss=3.3853766893967987,\n",
      "    loss_statistics={'texture_loss': {'crossent_loss_sum': 0.00039006109083337444, 'center_loss_sum': 4.673613376715886e-05}, 'minutia_loss': {'crossent_loss_sum': 0.0011088322715035507, 'center_loss_sum': 1.6560382833371738e-05}, 'minutia_map_loss': 0.00032697120280187974},\n",
      "    training_accuracy=0.8374999761581421,\n",
      "    validation_equal_error_rate=0.8374999761581421,\n",
      "}\n",
      "\n",
      "\n",
      " --- Starting Epoch 163 of 250 ---\n",
      "\n",
      "Training:\n"
     ]
    },
    {
     "name": "stderr",
     "output_type": "stream",
     "text": [
      "100%|██████████| 5/5 [08:20<00:00, 100.08s/it]\n"
     ]
    },
    {
     "name": "stdout",
     "output_type": "stream",
     "text": [
      "Average Loss: 3.3417715536057946\n",
      "Multiclass accuracy: 0.800000011920929\n",
      "TrainingLogEntry(\n",
      "    epoch=163,\n",
      "    training_loss=3.3417715536057946,\n",
      "    loss_statistics={'texture_loss': {'crossent_loss_sum': 0.0003622615462647075, 'center_loss_sum': 4.881528263862154e-05}, 'minutia_loss': {'crossent_loss_sum': 0.00108970815101556, 'center_loss_sum': 1.7398661332188453e-05}, 'minutia_map_loss': 0.0003301413178410941},\n",
      "    training_accuracy=0.800000011920929,\n",
      "    validation_equal_error_rate=0.800000011920929,\n",
      "}\n",
      "\n",
      "\n",
      " --- Starting Epoch 164 of 250 ---\n",
      "\n",
      "Training:\n"
     ]
    },
    {
     "name": "stderr",
     "output_type": "stream",
     "text": [
      "100%|██████████| 5/5 [08:49<00:00, 105.95s/it]\n"
     ]
    },
    {
     "name": "stdout",
     "output_type": "stream",
     "text": [
      "Average Loss: 3.2434560160338877\n",
      "Multiclass accuracy: 0.8499999642372131\n",
      "TrainingLogEntry(\n",
      "    epoch=164,\n",
      "    training_loss=3.2434560160338877,\n",
      "    loss_statistics={'texture_loss': {'crossent_loss_sum': 0.0003006383057749062, 'center_loss_sum': 3.437488544078773e-05}, 'minutia_loss': {'crossent_loss_sum': 0.0010795510782484422, 'center_loss_sum': 1.8451889168078962e-05}, 'minutia_map_loss': 0.00034519433215456574},\n",
      "    training_accuracy=0.8499999642372131,\n",
      "    validation_equal_error_rate=0.8499999642372131,\n",
      "}\n",
      "\n",
      "\n",
      " --- Starting Epoch 165 of 250 ---\n",
      "\n",
      "Training:\n"
     ]
    },
    {
     "name": "stderr",
     "output_type": "stream",
     "text": [
      "100%|██████████| 5/5 [09:27<00:00, 113.45s/it]\n"
     ]
    },
    {
     "name": "stdout",
     "output_type": "stream",
     "text": [
      "Average Loss: 3.3648368381708864\n",
      "Multiclass accuracy: 0.800000011920929\n",
      "TrainingLogEntry(\n",
      "    epoch=165,\n",
      "    training_loss=3.3648368381708864,\n",
      "    loss_statistics={'texture_loss': {'crossent_loss_sum': 0.00042065688449403513, 'center_loss_sum': 5.456503318703693e-05}, 'minutia_loss': {'crossent_loss_sum': 0.0010282413596692293, 'center_loss_sum': 1.7712645678092606e-05}, 'minutia_map_loss': 0.00030753972863211575},\n",
      "    training_accuracy=0.800000011920929,\n",
      "    validation_equal_error_rate=0.800000011920929,\n",
      "}\n",
      "\n",
      "\n",
      " --- Starting Epoch 166 of 250 ---\n",
      "\n",
      "Training:\n"
     ]
    },
    {
     "name": "stderr",
     "output_type": "stream",
     "text": [
      "100%|██████████| 5/5 [09:33<00:00, 114.77s/it]\n"
     ]
    },
    {
     "name": "stdout",
     "output_type": "stream",
     "text": [
      "Average Loss: 2.997320740967989\n",
      "Multiclass accuracy: 0.8874999284744263\n",
      "TrainingLogEntry(\n",
      "    epoch=166,\n",
      "    training_loss=2.997320740967989,\n",
      "    loss_statistics={'texture_loss': {'crossent_loss_sum': 0.0002700198923462424, 'center_loss_sum': 3.280698859678774e-05}, 'minutia_loss': {'crossent_loss_sum': 0.0010121637634162245, 'center_loss_sum': 1.897017656151077e-05}, 'minutia_map_loss': 0.0002809749303610417},\n",
      "    training_accuracy=0.8874999284744263,\n",
      "    validation_equal_error_rate=0.8874999284744263,\n",
      "}\n",
      "\n",
      "\n",
      " --- Starting Epoch 167 of 250 ---\n",
      "\n",
      "Training:\n"
     ]
    },
    {
     "name": "stderr",
     "output_type": "stream",
     "text": [
      "100%|██████████| 5/5 [08:26<00:00, 101.38s/it]\n"
     ]
    },
    {
     "name": "stdout",
     "output_type": "stream",
     "text": [
      "Average Loss: 3.178816753253341\n",
      "Multiclass accuracy: 0.8499999642372131\n",
      "TrainingLogEntry(\n",
      "    epoch=167,\n",
      "    training_loss=3.178816753253341,\n",
      "    loss_statistics={'texture_loss': {'crossent_loss_sum': 0.0003138100585112205, 'center_loss_sum': 4.317832983329765e-05}, 'minutia_loss': {'crossent_loss_sum': 0.0010579199999825567, 'center_loss_sum': 1.5857272271990267e-05}, 'minutia_map_loss': 0.0002673201865922564},\n",
      "    training_accuracy=0.8499999642372131,\n",
      "    validation_equal_error_rate=0.8499999642372131,\n",
      "}\n",
      "\n",
      "\n",
      " --- Starting Epoch 168 of 250 ---\n",
      "\n",
      "Training:\n"
     ]
    },
    {
     "name": "stderr",
     "output_type": "stream",
     "text": [
      "100%|██████████| 5/5 [04:37<00:00, 55.40s/it]\n"
     ]
    },
    {
     "name": "stdout",
     "output_type": "stream",
     "text": [
      "Average Loss: 2.9034286032989627\n",
      "Multiclass accuracy: 0.8999999761581421\n",
      "TrainingLogEntry(\n",
      "    epoch=168,\n",
      "    training_loss=2.9034286032989627,\n",
      "    loss_statistics={'texture_loss': {'crossent_loss_sum': 0.00022377982277865127, 'center_loss_sum': 3.076269196630534e-05}, 'minutia_loss': {'crossent_loss_sum': 0.0009474253755504803, 'center_loss_sum': 1.6838290839124533e-05}, 'minutia_map_loss': 0.00031902676473876806},\n",
      "    training_accuracy=0.8999999761581421,\n",
      "    validation_equal_error_rate=0.8999999761581421,\n",
      "}\n",
      "\n",
      "\n",
      " --- Starting Epoch 169 of 250 ---\n",
      "\n",
      "Training:\n"
     ]
    },
    {
     "name": "stderr",
     "output_type": "stream",
     "text": [
      "100%|██████████| 5/5 [07:05<00:00, 85.09s/it] \n"
     ]
    },
    {
     "name": "stdout",
     "output_type": "stream",
     "text": [
      "Average Loss: 2.8956458798423412\n",
      "Multiclass accuracy: 0.925000011920929\n",
      "TrainingLogEntry(\n",
      "    epoch=169,\n",
      "    training_loss=2.8956458798423412,\n",
      "    loss_statistics={'texture_loss': {'crossent_loss_sum': 0.00019218643360278186, 'center_loss_sum': 2.4963768997362683e-05}, 'minutia_loss': {'crossent_loss_sum': 0.0010001400063017838, 'center_loss_sum': 1.790560801521319e-05}, 'minutia_map_loss': 0.0002856266218581933},\n",
      "    training_accuracy=0.925000011920929,\n",
      "    validation_equal_error_rate=0.925000011920929,\n",
      "}\n",
      "\n",
      "\n",
      " --- Starting Epoch 170 of 250 ---\n",
      "\n",
      "Training:\n"
     ]
    },
    {
     "name": "stderr",
     "output_type": "stream",
     "text": [
      "100%|██████████| 5/5 [01:13<00:00, 14.63s/it]\n"
     ]
    },
    {
     "name": "stdout",
     "output_type": "stream",
     "text": [
      "Average Loss: 2.7994497453793885\n",
      "Multiclass accuracy: 0.8499999642372131\n",
      "TrainingLogEntry(\n",
      "    epoch=170,\n",
      "    training_loss=2.7994497453793885,\n",
      "    loss_statistics={'texture_loss': {'crossent_loss_sum': 0.00019658873478571573, 'center_loss_sum': 2.2555276518687607e-05}, 'minutia_loss': {'crossent_loss_sum': 0.0009467971945802371, 'center_loss_sum': 1.8525991084364553e-05}, 'minutia_map_loss': 0.00027357954095350576},\n",
      "    training_accuracy=0.8499999642372131,\n",
      "    validation_equal_error_rate=0.8499999642372131,\n",
      "}\n",
      "\n",
      "\n",
      " --- Starting Epoch 171 of 250 ---\n",
      "\n",
      "Training:\n"
     ]
    },
    {
     "name": "stderr",
     "output_type": "stream",
     "text": [
      "100%|██████████| 5/5 [06:47<00:00, 81.59s/it] \n"
     ]
    },
    {
     "name": "stdout",
     "output_type": "stream",
     "text": [
      "Average Loss: 2.620536724701524\n",
      "Multiclass accuracy: 0.9750000834465027\n",
      "TrainingLogEntry(\n",
      "    epoch=171,\n",
      "    training_loss=2.620536724701524,\n",
      "    loss_statistics={'texture_loss': {'crossent_loss_sum': 0.00012154814995024815, 'center_loss_sum': 1.8244396995229662e-05}, 'minutia_loss': {'crossent_loss_sum': 0.000930504340770816, 'center_loss_sum': 1.9123604374914623e-05}, 'minutia_map_loss': 0.00026416253533275905},\n",
      "    training_accuracy=0.9750000834465027,\n",
      "    validation_equal_error_rate=0.9750000834465027,\n",
      "}\n",
      "\n",
      "\n",
      " --- Starting Epoch 172 of 250 ---\n",
      "\n",
      "Training:\n"
     ]
    },
    {
     "name": "stderr",
     "output_type": "stream",
     "text": [
      "100%|██████████| 5/5 [05:29<00:00, 65.83s/it]\n"
     ]
    },
    {
     "name": "stdout",
     "output_type": "stream",
     "text": [
      "Average Loss: 2.9550433383509516\n",
      "Multiclass accuracy: 0.862500011920929\n",
      "TrainingLogEntry(\n",
      "    epoch=172,\n",
      "    training_loss=2.9550433383509516,\n",
      "    loss_statistics={'texture_loss': {'crossent_loss_sum': 0.0002238431517950824, 'center_loss_sum': 2.2435339633375407e-05}, 'minutia_loss': {'crossent_loss_sum': 0.0009922034061345898, 'center_loss_sum': 1.999083562891503e-05}, 'minutia_map_loss': 0.00025538141295298566},\n",
      "    training_accuracy=0.862500011920929,\n",
      "    validation_equal_error_rate=0.862500011920929,\n",
      "}\n",
      "\n",
      "\n",
      " --- Starting Epoch 173 of 250 ---\n",
      "\n",
      "Training:\n"
     ]
    },
    {
     "name": "stderr",
     "output_type": "stream",
     "text": [
      "100%|██████████| 5/5 [02:04<00:00, 24.81s/it]\n"
     ]
    },
    {
     "name": "stdout",
     "output_type": "stream",
     "text": [
      "Average Loss: 3.0718906400725245\n",
      "Multiclass accuracy: 0.8624999523162842\n",
      "TrainingLogEntry(\n",
      "    epoch=173,\n",
      "    training_loss=3.0718906400725245,\n",
      "    loss_statistics={'texture_loss': {'crossent_loss_sum': 0.00018642282613166947, 'center_loss_sum': 2.313928633201413e-05}, 'minutia_loss': {'crossent_loss_sum': 0.001062177376049321, 'center_loss_sum': 1.8811604098939315e-05}, 'minutia_map_loss': 0.00027036894618238255},\n",
      "    training_accuracy=0.8624999523162842,\n",
      "    validation_equal_error_rate=0.8624999523162842,\n",
      "}\n",
      "\n",
      "\n",
      " --- Starting Epoch 174 of 250 ---\n",
      "\n",
      "Training:\n"
     ]
    },
    {
     "name": "stderr",
     "output_type": "stream",
     "text": [
      "100%|██████████| 5/5 [07:31<00:00, 90.24s/it] \n"
     ]
    },
    {
     "name": "stdout",
     "output_type": "stream",
     "text": [
      "Average Loss: 3.0227265452221035\n",
      "Multiclass accuracy: 0.824999988079071\n",
      "TrainingLogEntry(\n",
      "    epoch=174,\n",
      "    training_loss=3.0227265452221035,\n",
      "    loss_statistics={'texture_loss': {'crossent_loss_sum': 0.00017081372469903962, 'center_loss_sum': 2.0679012091169435e-05}, 'minutia_loss': {'crossent_loss_sum': 0.0010440416153400175, 'center_loss_sum': 2.135640167961678e-05}, 'minutia_map_loss': 0.00026666092290167484},\n",
      "    training_accuracy=0.824999988079071,\n",
      "    validation_equal_error_rate=0.824999988079071,\n",
      "}\n",
      "\n",
      "\n",
      " --- Starting Epoch 175 of 250 ---\n",
      "\n",
      "Training:\n"
     ]
    },
    {
     "name": "stderr",
     "output_type": "stream",
     "text": [
      "100%|██████████| 5/5 [07:06<00:00, 85.37s/it] \n"
     ]
    },
    {
     "name": "stdout",
     "output_type": "stream",
     "text": [
      "Average Loss: 3.13906483143568\n",
      "Multiclass accuracy: 0.824999988079071\n",
      "TrainingLogEntry(\n",
      "    epoch=175,\n",
      "    training_loss=3.13906483143568,\n",
      "    loss_statistics={'texture_loss': {'crossent_loss_sum': 0.00023633264750242233, 'center_loss_sum': 3.142974264919758e-05}, 'minutia_loss': {'crossent_loss_sum': 0.0010376816987991333, 'center_loss_sum': 1.7966774478554724e-05}, 'minutia_map_loss': 0.0002461215470731258},\n",
      "    training_accuracy=0.824999988079071,\n",
      "    validation_equal_error_rate=0.824999988079071,\n",
      "}\n",
      "\n",
      "\n",
      " --- Starting Epoch 176 of 250 ---\n",
      "\n",
      "Training:\n"
     ]
    },
    {
     "name": "stderr",
     "output_type": "stream",
     "text": [
      "100%|██████████| 5/5 [02:43<00:00, 32.72s/it]\n"
     ]
    },
    {
     "name": "stdout",
     "output_type": "stream",
     "text": [
      "Average Loss: 3.0785058300942185\n",
      "Multiclass accuracy: 0.8499999642372131\n",
      "TrainingLogEntry(\n",
      "    epoch=176,\n",
      "    training_loss=3.0785058300942185,\n",
      "    loss_statistics={'texture_loss': {'crossent_loss_sum': 0.00025571231685933614, 'center_loss_sum': 3.27030536792581e-05}, 'minutia_loss': {'crossent_loss_sum': 0.0009525025884310405, 'center_loss_sum': 1.533611064096765e-05}, 'minutia_map_loss': 0.000270782566873268},\n",
      "    training_accuracy=0.8499999642372131,\n",
      "    validation_equal_error_rate=0.8499999642372131,\n",
      "}\n",
      "\n",
      "\n",
      " --- Starting Epoch 177 of 250 ---\n",
      "\n",
      "Training:\n"
     ]
    },
    {
     "name": "stderr",
     "output_type": "stream",
     "text": [
      "100%|██████████| 5/5 [06:46<00:00, 81.21s/it] \n"
     ]
    },
    {
     "name": "stdout",
     "output_type": "stream",
     "text": [
      "Average Loss: 2.7882057287171484\n",
      "Multiclass accuracy: 0.8624999523162842\n",
      "TrainingLogEntry(\n",
      "    epoch=177,\n",
      "    training_loss=2.7882057287171484,\n",
      "    loss_statistics={'texture_loss': {'crossent_loss_sum': 0.00021452070250520556, 'center_loss_sum': 2.4643406550597957e-05}, 'minutia_loss': {'crossent_loss_sum': 0.000882215551504, 'center_loss_sum': 1.4921407926622338e-05}, 'minutia_map_loss': 0.00023584741785550326},\n",
      "    training_accuracy=0.8624999523162842,\n",
      "    validation_equal_error_rate=0.8624999523162842,\n",
      "}\n",
      "\n",
      "\n",
      " --- Starting Epoch 178 of 250 ---\n",
      "\n",
      "Training:\n"
     ]
    },
    {
     "name": "stderr",
     "output_type": "stream",
     "text": [
      "100%|██████████| 5/5 [06:04<00:00, 72.82s/it] \n"
     ]
    },
    {
     "name": "stdout",
     "output_type": "stream",
     "text": [
      "Average Loss: 3.0741680758818988\n",
      "Multiclass accuracy: 0.9000000953674316\n",
      "TrainingLogEntry(\n",
      "    epoch=178,\n",
      "    training_loss=3.0741680758818988,\n",
      "    loss_statistics={'texture_loss': {'crossent_loss_sum': 0.00022530565620400013, 'center_loss_sum': 2.09385756534175e-05}, 'minutia_loss': {'crossent_loss_sum': 0.0009918087860569357, 'center_loss_sum': 1.970563898794353e-05}, 'minutia_map_loss': 0.0002432999966367788},\n",
      "    training_accuracy=0.9000000953674316,\n",
      "    validation_equal_error_rate=0.9000000953674316,\n",
      "}\n",
      "\n",
      "\n",
      " --- Starting Epoch 179 of 250 ---\n",
      "\n",
      "Training:\n"
     ]
    },
    {
     "name": "stderr",
     "output_type": "stream",
     "text": [
      "100%|██████████| 5/5 [06:40<00:00, 80.17s/it]\n"
     ]
    },
    {
     "name": "stdout",
     "output_type": "stream",
     "text": [
      "Average Loss: 3.055607520975172\n",
      "Multiclass accuracy: 0.9000000357627869\n",
      "TrainingLogEntry(\n",
      "    epoch=179,\n",
      "    training_loss=3.055607520975172,\n",
      "    loss_statistics={'texture_loss': {'crossent_loss_sum': 0.00021109618535337523, 'center_loss_sum': 3.506912247010673e-05}, 'minutia_loss': {'crossent_loss_sum': 0.0009622750818267349, 'center_loss_sum': 1.7158961457799573e-05}, 'minutia_map_loss': 0.0002548306311350749},\n",
      "    training_accuracy=0.9000000357627869,\n",
      "    validation_equal_error_rate=0.9000000357627869,\n",
      "}\n",
      "\n",
      "\n",
      " --- Starting Epoch 180 of 250 ---\n",
      "\n",
      "Training:\n"
     ]
    },
    {
     "name": "stderr",
     "output_type": "stream",
     "text": [
      "100%|██████████| 5/5 [01:11<00:00, 14.21s/it]\n"
     ]
    },
    {
     "name": "stdout",
     "output_type": "stream",
     "text": [
      "Average Loss: 3.014935340210795\n",
      "Multiclass accuracy: 0.824999988079071\n",
      "TrainingLogEntry(\n",
      "    epoch=180,\n",
      "    training_loss=3.014935340210795,\n",
      "    loss_statistics={'texture_loss': {'crossent_loss_sum': 0.00022074805500988778, 'center_loss_sum': 2.8117655489880306e-05}, 'minutia_loss': {'crossent_loss_sum': 0.0009334470217044537, 'center_loss_sum': 1.685082822894821e-05}, 'minutia_map_loss': 0.00025032455613836644},\n",
      "    training_accuracy=0.824999988079071,\n",
      "    validation_equal_error_rate=0.824999988079071,\n",
      "}\n",
      "\n",
      "\n",
      " --- Starting Epoch 181 of 250 ---\n",
      "\n",
      "Training:\n"
     ]
    },
    {
     "name": "stderr",
     "output_type": "stream",
     "text": [
      "100%|██████████| 5/5 [06:31<00:00, 78.28s/it] \n"
     ]
    },
    {
     "name": "stdout",
     "output_type": "stream",
     "text": [
      "Average Loss: 2.8194448737427593\n",
      "Multiclass accuracy: 0.8875001072883606\n",
      "TrainingLogEntry(\n",
      "    epoch=181,\n",
      "    training_loss=2.8194448737427593,\n",
      "    loss_statistics={'texture_loss': {'crossent_loss_sum': 0.00017082139508414813, 'center_loss_sum': 2.3289248062909105e-05}, 'minutia_loss': {'crossent_loss_sum': 0.000901295017195112, 'center_loss_sum': 1.7883975719961957e-05}, 'minutia_map_loss': 0.00023186536823961002},\n",
      "    training_accuracy=0.8875001072883606,\n",
      "    validation_equal_error_rate=0.8875001072883606,\n",
      "}\n",
      "\n",
      "\n",
      " --- Starting Epoch 182 of 250 ---\n",
      "\n",
      "Training:\n"
     ]
    },
    {
     "name": "stderr",
     "output_type": "stream",
     "text": [
      "100%|██████████| 5/5 [06:03<00:00, 72.73s/it]\n"
     ]
    },
    {
     "name": "stdout",
     "output_type": "stream",
     "text": [
      "Average Loss: 2.8341000014543534\n",
      "Multiclass accuracy: 0.8875000476837158\n",
      "TrainingLogEntry(\n",
      "    epoch=182,\n",
      "    training_loss=2.8341000014543534,\n",
      "    loss_statistics={'texture_loss': {'crossent_loss_sum': 0.0001511397235321276, 'center_loss_sum': 2.1571476739182166e-05}, 'minutia_loss': {'crossent_loss_sum': 0.0009181359726371187, 'center_loss_sum': 1.8864978902098355e-05}, 'minutia_map_loss': 0.0002321912678466602},\n",
      "    training_accuracy=0.8875000476837158,\n",
      "    validation_equal_error_rate=0.8875000476837158,\n",
      "}\n",
      "\n",
      "\n",
      " --- Starting Epoch 183 of 250 ---\n",
      "\n",
      "Training:\n"
     ]
    },
    {
     "name": "stderr",
     "output_type": "stream",
     "text": [
      "100%|██████████| 5/5 [01:32<00:00, 18.48s/it]\n"
     ]
    },
    {
     "name": "stdout",
     "output_type": "stream",
     "text": [
      "Average Loss: 2.8623198611661795\n",
      "Multiclass accuracy: 0.8999999165534973\n",
      "TrainingLogEntry(\n",
      "    epoch=183,\n",
      "    training_loss=2.8623198611661795,\n",
      "    loss_statistics={'texture_loss': {'crossent_loss_sum': 0.00016937826557042904, 'center_loss_sum': 2.287784363738352e-05}, 'minutia_loss': {'crossent_loss_sum': 0.0009087794817479929, 'center_loss_sum': 1.63309620973423e-05}, 'minutia_map_loss': 0.00022770857037556234},\n",
      "    training_accuracy=0.8999999165534973,\n",
      "    validation_equal_error_rate=0.8999999165534973,\n",
      "}\n",
      "\n",
      "\n",
      " --- Starting Epoch 184 of 250 ---\n",
      "\n",
      "Training:\n"
     ]
    },
    {
     "name": "stderr",
     "output_type": "stream",
     "text": [
      "100%|██████████| 5/5 [07:15<00:00, 87.02s/it] \n"
     ]
    },
    {
     "name": "stdout",
     "output_type": "stream",
     "text": [
      "Average Loss: 2.732999249882996\n",
      "Multiclass accuracy: 0.9375\n",
      "TrainingLogEntry(\n",
      "    epoch=184,\n",
      "    training_loss=2.732999249882996,\n",
      "    loss_statistics={'texture_loss': {'crossent_loss_sum': 0.00014822029494749965, 'center_loss_sum': 2.0143230195476938e-05}, 'minutia_loss': {'crossent_loss_sum': 0.0008603256362587658, 'center_loss_sum': 1.5120900500176558e-05}, 'minutia_map_loss': 0.00023090974895158473},\n",
      "    training_accuracy=0.9375,\n",
      "    validation_equal_error_rate=0.9375,\n",
      "}\n",
      "\n",
      "\n",
      " --- Starting Epoch 185 of 250 ---\n",
      "\n",
      "Training:\n"
     ]
    },
    {
     "name": "stderr",
     "output_type": "stream",
     "text": [
      "100%|██████████| 5/5 [03:42<00:00, 44.42s/it]\n"
     ]
    },
    {
     "name": "stdout",
     "output_type": "stream",
     "text": [
      "Average Loss: 2.6899326640367507\n",
      "Multiclass accuracy: 0.9375000596046448\n",
      "TrainingLogEntry(\n",
      "    epoch=185,\n",
      "    training_loss=2.6899326640367507,\n",
      "    loss_statistics={'texture_loss': {'crossent_loss_sum': 0.00012125198901803405, 'center_loss_sum': 1.6717352145523935e-05}, 'minutia_loss': {'crossent_loss_sum': 0.0008650992314020793, 'center_loss_sum': 1.5254496700233884e-05}, 'minutia_map_loss': 0.00022701610376437505},\n",
      "    training_accuracy=0.9375000596046448,\n",
      "    validation_equal_error_rate=0.9375000596046448,\n",
      "}\n",
      "\n",
      "\n",
      " --- Starting Epoch 186 of 250 ---\n",
      "\n",
      "Training:\n"
     ]
    },
    {
     "name": "stderr",
     "output_type": "stream",
     "text": [
      "100%|██████████| 5/5 [04:25<00:00, 53.01s/it]\n"
     ]
    },
    {
     "name": "stdout",
     "output_type": "stream",
     "text": [
      "Average Loss: 2.744489845857024\n",
      "Multiclass accuracy: 0.8875000476837158\n",
      "TrainingLogEntry(\n",
      "    epoch=186,\n",
      "    training_loss=2.744489845857024,\n",
      "    loss_statistics={'texture_loss': {'crossent_loss_sum': 0.0001663128544083413, 'center_loss_sum': 1.4584958176676402e-05}, 'minutia_loss': {'crossent_loss_sum': 0.0008577171055709614, 'center_loss_sum': 1.6462385161396333e-05}, 'minutia_map_loss': 0.0002061772037995979},\n",
      "    training_accuracy=0.8875000476837158,\n",
      "    validation_equal_error_rate=0.8875000476837158,\n",
      "}\n",
      "\n",
      "\n",
      " --- Starting Epoch 187 of 250 ---\n",
      "\n",
      "Training:\n"
     ]
    },
    {
     "name": "stderr",
     "output_type": "stream",
     "text": [
      "100%|██████████| 5/5 [06:59<00:00, 83.99s/it] \n"
     ]
    },
    {
     "name": "stdout",
     "output_type": "stream",
     "text": [
      "Average Loss: 2.731212215796113\n",
      "Multiclass accuracy: 0.8374999761581421\n",
      "TrainingLogEntry(\n",
      "    epoch=187,\n",
      "    training_loss=2.731212215796113,\n",
      "    loss_statistics={'texture_loss': {'crossent_loss_sum': 0.00015747837287231084, 'center_loss_sum': 1.387708042034485e-05}, 'minutia_loss': {'crossent_loss_sum': 0.0008492124341700199, 'center_loss_sum': 1.805516207984982e-05}, 'minutia_map_loss': 0.00020736791156096397},\n",
      "    training_accuracy=0.8374999761581421,\n",
      "    validation_equal_error_rate=0.8374999761581421,\n",
      "}\n",
      "\n",
      "\n",
      " --- Starting Epoch 188 of 250 ---\n",
      "\n",
      "Training:\n"
     ]
    },
    {
     "name": "stderr",
     "output_type": "stream",
     "text": [
      "100%|██████████| 5/5 [06:53<00:00, 82.61s/it] \n"
     ]
    },
    {
     "name": "stdout",
     "output_type": "stream",
     "text": [
      "Average Loss: 2.7940472642704846\n",
      "Multiclass accuracy: 0.9125000238418579\n",
      "TrainingLogEntry(\n",
      "    epoch=188,\n",
      "    training_loss=2.7940472642704846,\n",
      "    loss_statistics={'texture_loss': {'crossent_loss_sum': 0.0001282789744436741, 'center_loss_sum': 1.641563409804434e-05}, 'minutia_loss': {'crossent_loss_sum': 0.0008749523456545844, 'center_loss_sum': 1.76815839106406e-05}, 'minutia_map_loss': 0.0002280914067270477},\n",
      "    training_accuracy=0.9125000238418579,\n",
      "    validation_equal_error_rate=0.9125000238418579,\n",
      "}\n",
      "\n",
      "\n",
      " --- Starting Epoch 189 of 250 ---\n",
      "\n",
      "Training:\n"
     ]
    },
    {
     "name": "stderr",
     "output_type": "stream",
     "text": [
      "100%|██████████| 5/5 [05:30<00:00, 66.17s/it]\n"
     ]
    },
    {
     "name": "stdout",
     "output_type": "stream",
     "text": [
      "Average Loss: 2.9591644465550777\n",
      "Multiclass accuracy: 0.8750000596046448\n",
      "TrainingLogEntry(\n",
      "    epoch=189,\n",
      "    training_loss=2.9591644465550777,\n",
      "    loss_statistics={'texture_loss': {'crossent_loss_sum': 0.00017699502515707084, 'center_loss_sum': 2.406806561077456e-05}, 'minutia_loss': {'crossent_loss_sum': 0.0009084697571589793, 'center_loss_sum': 1.4571536821480707e-05}, 'minutia_map_loss': 0.00020645514611328995},\n",
      "    training_accuracy=0.8750000596046448,\n",
      "    validation_equal_error_rate=0.8750000596046448,\n",
      "}\n",
      "\n",
      "\n",
      " --- Starting Epoch 190 of 250 ---\n",
      "\n",
      "Training:\n"
     ]
    },
    {
     "name": "stderr",
     "output_type": "stream",
     "text": [
      "100%|██████████| 5/5 [01:59<00:00, 23.86s/it]\n"
     ]
    },
    {
     "name": "stdout",
     "output_type": "stream",
     "text": [
      "Average Loss: 2.9193168926239013\n",
      "Multiclass accuracy: 0.8999999761581421\n",
      "TrainingLogEntry(\n",
      "    epoch=190,\n",
      "    training_loss=2.9193168926239013,\n",
      "    loss_statistics={'texture_loss': {'crossent_loss_sum': 0.0001270265464804002, 'center_loss_sum': 1.1812207771332137e-05}, 'minutia_loss': {'crossent_loss_sum': 0.0009163742725338254, 'center_loss_sum': 1.651585251758141e-05}, 'minutia_map_loss': 0.00023153755494526455},\n",
      "    training_accuracy=0.8999999761581421,\n",
      "    validation_equal_error_rate=0.8999999761581421,\n",
      "}\n",
      "\n",
      "\n",
      " --- Starting Epoch 191 of 250 ---\n",
      "\n",
      "Training:\n"
     ]
    },
    {
     "name": "stderr",
     "output_type": "stream",
     "text": [
      "100%|██████████| 5/5 [07:16<00:00, 87.27s/it] \n"
     ]
    },
    {
     "name": "stdout",
     "output_type": "stream",
     "text": [
      "Average Loss: 2.648391982577741\n",
      "Multiclass accuracy: 0.9124999046325684\n",
      "TrainingLogEntry(\n",
      "    epoch=191,\n",
      "    training_loss=2.648391982577741,\n",
      "    loss_statistics={'texture_loss': {'crossent_loss_sum': 0.00012347669941736451, 'center_loss_sum': 1.647207565632061e-05}, 'minutia_loss': {'crossent_loss_sum': 0.0007959869208065331, 'center_loss_sum': 1.4765367427087845e-05}, 'minutia_map_loss': 0.00022323155721173956},\n",
      "    training_accuracy=0.9124999046325684,\n",
      "    validation_equal_error_rate=0.9124999046325684,\n",
      "}\n",
      "\n",
      "\n",
      " --- Starting Epoch 192 of 250 ---\n",
      "\n",
      "Training:\n"
     ]
    },
    {
     "name": "stderr",
     "output_type": "stream",
     "text": [
      "100%|██████████| 5/5 [03:40<00:00, 44.01s/it]\n"
     ]
    },
    {
     "name": "stdout",
     "output_type": "stream",
     "text": [
      "Average Loss: 2.7410741054266694\n",
      "Multiclass accuracy: 0.925000011920929\n",
      "TrainingLogEntry(\n",
      "    epoch=192,\n",
      "    training_loss=2.7410741054266694,\n",
      "    loss_statistics={'texture_loss': {'crossent_loss_sum': 0.0001241740567321089, 'center_loss_sum': 1.1102006521443246e-05}, 'minutia_loss': {'crossent_loss_sum': 0.000825827442844149, 'center_loss_sum': 1.7951646308139177e-05}, 'minutia_map_loss': 0.00022740352370868058},\n",
      "    training_accuracy=0.925000011920929,\n",
      "    validation_equal_error_rate=0.925000011920929,\n",
      "}\n",
      "\n",
      "\n",
      " --- Starting Epoch 193 of 250 ---\n",
      "\n",
      "Training:\n"
     ]
    },
    {
     "name": "stderr",
     "output_type": "stream",
     "text": [
      "100%|██████████| 5/5 [04:13<00:00, 50.69s/it] \n"
     ]
    },
    {
     "name": "stdout",
     "output_type": "stream",
     "text": [
      "Average Loss: 2.5577657875046134\n",
      "Multiclass accuracy: 0.9249999523162842\n",
      "TrainingLogEntry(\n",
      "    epoch=193,\n",
      "    training_loss=2.5577657875046134,\n",
      "    loss_statistics={'texture_loss': {'crossent_loss_sum': 0.00011982958490302512, 'center_loss_sum': 1.3366303491321477e-05}, 'minutia_loss': {'crossent_loss_sum': 0.0007734518472131316, 'center_loss_sum': 1.8361553393460653e-05}, 'minutia_map_loss': 0.00019289535175605148},\n",
      "    training_accuracy=0.9249999523162842,\n",
      "    validation_equal_error_rate=0.9249999523162842,\n",
      "}\n",
      "\n",
      "\n",
      " --- Starting Epoch 194 of 250 ---\n",
      "\n",
      "Training:\n"
     ]
    },
    {
     "name": "stderr",
     "output_type": "stream",
     "text": [
      "100%|██████████| 5/5 [06:37<00:00, 79.58s/it]\n"
     ]
    },
    {
     "name": "stdout",
     "output_type": "stream",
     "text": [
      "Average Loss: 2.771152172014117\n",
      "Multiclass accuracy: 0.9500000476837158\n",
      "TrainingLogEntry(\n",
      "    epoch=194,\n",
      "    training_loss=2.771152172014117,\n",
      "    loss_statistics={'texture_loss': {'crossent_loss_sum': 0.0001127519825887349, 'center_loss_sum': 1.1463305660678695e-05}, 'minutia_loss': {'crossent_loss_sum': 0.000842708380271991, 'center_loss_sum': 1.744148305280962e-05}, 'minutia_map_loss': 0.00021839189857322103},\n",
      "    training_accuracy=0.9500000476837158,\n",
      "    validation_equal_error_rate=0.9500000476837158,\n",
      "}\n",
      "\n",
      "\n",
      " --- Starting Epoch 195 of 250 ---\n",
      "\n",
      "Training:\n"
     ]
    },
    {
     "name": "stderr",
     "output_type": "stream",
     "text": [
      "100%|██████████| 5/5 [01:17<00:00, 15.57s/it]\n"
     ]
    },
    {
     "name": "stdout",
     "output_type": "stream",
     "text": [
      "Average Loss: 2.7360315216332673\n",
      "Multiclass accuracy: 0.9124999642372131\n",
      "TrainingLogEntry(\n",
      "    epoch=195,\n",
      "    training_loss=2.7360315216332673,\n",
      "    loss_statistics={'texture_loss': {'crossent_loss_sum': 0.00012365492446155384, 'center_loss_sum': 1.1822613887488842e-05}, 'minutia_loss': {'crossent_loss_sum': 0.0008059798540740177, 'center_loss_sum': 1.4797541601904508e-05}, 'minutia_map_loss': 0.00022306900140668814},\n",
      "    training_accuracy=0.9124999642372131,\n",
      "    validation_equal_error_rate=0.9124999642372131,\n",
      "}\n",
      "\n",
      "\n",
      " --- Starting Epoch 196 of 250 ---\n",
      "\n",
      "Training:\n"
     ]
    },
    {
     "name": "stderr",
     "output_type": "stream",
     "text": [
      "100%|██████████| 5/5 [07:14<00:00, 86.96s/it] \n"
     ]
    },
    {
     "name": "stdout",
     "output_type": "stream",
     "text": [
      "Average Loss: 2.6454624009132384\n",
      "Multiclass accuracy: 0.9375000596046448\n",
      "TrainingLogEntry(\n",
      "    epoch=196,\n",
      "    training_loss=2.6454624009132384,\n",
      "    loss_statistics={'texture_loss': {'crossent_loss_sum': 0.00010794865171590896, 'center_loss_sum': 1.7946749632183002e-05}, 'minutia_loss': {'crossent_loss_sum': 0.0007990895987373508, 'center_loss_sum': 1.5342676986570227e-05}, 'minutia_map_loss': 0.0001921476699309806},\n",
      "    training_accuracy=0.9375000596046448,\n",
      "    validation_equal_error_rate=0.9375000596046448,\n",
      "}\n",
      "\n",
      "\n",
      " --- Starting Epoch 197 of 250 ---\n",
      "\n",
      "Training:\n"
     ]
    },
    {
     "name": "stderr",
     "output_type": "stream",
     "text": [
      "100%|██████████| 5/5 [06:35<00:00, 79.00s/it] \n"
     ]
    },
    {
     "name": "stdout",
     "output_type": "stream",
     "text": [
      "Average Loss: 2.544993455000222\n",
      "Multiclass accuracy: 0.9500000476837158\n",
      "TrainingLogEntry(\n",
      "    epoch=197,\n",
      "    training_loss=2.544993455000222,\n",
      "    loss_statistics={'texture_loss': {'crossent_loss_sum': 0.0001283273422380998, 'center_loss_sum': 1.4579177954468597e-05}, 'minutia_loss': {'crossent_loss_sum': 0.0007349023810860251, 'center_loss_sum': 1.4466452443984901e-05}, 'minutia_map_loss': 0.0001897796915787063},\n",
      "    training_accuracy=0.9500000476837158,\n",
      "    validation_equal_error_rate=0.9500000476837158,\n",
      "}\n",
      "\n",
      "\n",
      " --- Starting Epoch 198 of 250 ---\n",
      "\n",
      "Training:\n"
     ]
    },
    {
     "name": "stderr",
     "output_type": "stream",
     "text": [
      "100%|██████████| 5/5 [05:24<00:00, 64.93s/it]\n"
     ]
    },
    {
     "name": "stdout",
     "output_type": "stream",
     "text": [
      "Average Loss: 2.6080152864381674\n",
      "Multiclass accuracy: 0.9124999642372131\n",
      "TrainingLogEntry(\n",
      "    epoch=198,\n",
      "    training_loss=2.6080152864381674,\n",
      "    loss_statistics={'texture_loss': {'crossent_loss_sum': 0.0001270834356546402, 'center_loss_sum': 1.2223016017594853e-05}, 'minutia_loss': {'crossent_loss_sum': 0.0007635783102061298, 'center_loss_sum': 1.829377205639675e-05}, 'minutia_map_loss': 0.0001801792882552773},\n",
      "    training_accuracy=0.9124999642372131,\n",
      "    validation_equal_error_rate=0.9124999642372131,\n",
      "}\n",
      "\n",
      "\n",
      " --- Starting Epoch 199 of 250 ---\n",
      "\n",
      "Training:\n"
     ]
    },
    {
     "name": "stderr",
     "output_type": "stream",
     "text": [
      "100%|██████████| 5/5 [07:07<00:00, 85.44s/it]\n"
     ]
    },
    {
     "name": "stdout",
     "output_type": "stream",
     "text": [
      "Average Loss: 2.5642694243416186\n",
      "Multiclass accuracy: 0.9250000715255737\n",
      "TrainingLogEntry(\n",
      "    epoch=199,\n",
      "    training_loss=2.5642694243416186,\n",
      "    loss_statistics={'texture_loss': {'crossent_loss_sum': 0.00013086315519457697, 'center_loss_sum': 1.0240808654351523e-05}, 'minutia_loss': {'crossent_loss_sum': 0.0007342138046386257, 'center_loss_sum': 1.9061771040194788e-05}, 'minutia_map_loss': 0.00018123684349413585},\n",
      "    training_accuracy=0.9250000715255737,\n",
      "    validation_equal_error_rate=0.9250000715255737,\n",
      "}\n",
      "\n",
      "\n",
      " --- Starting Epoch 200 of 250 ---\n",
      "\n",
      "Training:\n"
     ]
    },
    {
     "name": "stderr",
     "output_type": "stream",
     "text": [
      "100%|██████████| 5/5 [02:42<00:00, 32.53s/it]\n"
     ]
    },
    {
     "name": "stdout",
     "output_type": "stream",
     "text": [
      "Average Loss: 2.658738584853709\n",
      "Multiclass accuracy: 0.925000011920929\n",
      "TrainingLogEntry(\n",
      "    epoch=200,\n",
      "    training_loss=2.658738584853709,\n",
      "    loss_statistics={'texture_loss': {'crossent_loss_sum': 0.00011206911007563273, 'center_loss_sum': 1.2309873476624489e-05}, 'minutia_loss': {'crossent_loss_sum': 0.0007819061875343323, 'center_loss_sum': 1.835047701994578e-05}, 'minutia_map_loss': 0.0001831720949616283},\n",
      "    training_accuracy=0.925000011920929,\n",
      "    validation_equal_error_rate=0.925000011920929,\n",
      "}\n",
      "\n",
      "\n",
      " --- Starting Epoch 201 of 250 ---\n",
      "\n",
      "Training:\n"
     ]
    },
    {
     "name": "stderr",
     "output_type": "stream",
     "text": [
      "100%|██████████| 5/5 [07:05<00:00, 85.15s/it] \n"
     ]
    },
    {
     "name": "stdout",
     "output_type": "stream",
     "text": [
      "Average Loss: 2.6777810008823875\n",
      "Multiclass accuracy: 0.9125000238418579\n",
      "TrainingLogEntry(\n",
      "    epoch=201,\n",
      "    training_loss=2.6777810008823875,\n",
      "    loss_statistics={'texture_loss': {'crossent_loss_sum': 0.0001629136959152506, 'center_loss_sum': 1.9874242257746246e-05}, 'minutia_loss': {'crossent_loss_sum': 0.0007372353151934036, 'center_loss_sum': 1.5420324495987387e-05}, 'minutia_map_loss': 0.00017290947878646927},\n",
      "    training_accuracy=0.9125000238418579,\n",
      "    validation_equal_error_rate=0.9125000238418579,\n",
      "}\n",
      "\n",
      "\n",
      " --- Starting Epoch 202 of 250 ---\n",
      "\n",
      "Training:\n"
     ]
    },
    {
     "name": "stderr",
     "output_type": "stream",
     "text": [
      "100%|██████████| 5/5 [05:26<00:00, 65.26s/it]\n"
     ]
    },
    {
     "name": "stdout",
     "output_type": "stream",
     "text": [
      "Average Loss: 2.6727214208617807\n",
      "Multiclass accuracy: 0.8874999284744263\n",
      "TrainingLogEntry(\n",
      "    epoch=202,\n",
      "    training_loss=2.6727214208617807,\n",
      "    loss_statistics={'texture_loss': {'crossent_loss_sum': 0.00012828480501316097, 'center_loss_sum': 1.2340419466215137e-05}, 'minutia_loss': {'crossent_loss_sum': 0.000760889661155249, 'center_loss_sum': 1.682905559918206e-05}, 'minutia_map_loss': 0.00018063689987971694},\n",
      "    training_accuracy=0.8874999284744263,\n",
      "    validation_equal_error_rate=0.8874999284744263,\n",
      "}\n",
      "\n",
      "\n",
      " --- Starting Epoch 203 of 250 ---\n",
      "\n",
      "Training:\n"
     ]
    },
    {
     "name": "stderr",
     "output_type": "stream",
     "text": [
      "100%|██████████| 5/5 [07:21<00:00, 88.39s/it] \n"
     ]
    },
    {
     "name": "stdout",
     "output_type": "stream",
     "text": [
      "Average Loss: 2.662851719819009\n",
      "Multiclass accuracy: 0.9125000834465027\n",
      "TrainingLogEntry(\n",
      "    epoch=203,\n",
      "    training_loss=2.662851719819009,\n",
      "    loss_statistics={'texture_loss': {'crossent_loss_sum': 9.479929321731618e-05, 'center_loss_sum': 1.6771527037657554e-05}, 'minutia_loss': {'crossent_loss_sum': 0.0007764128298541299, 'center_loss_sum': 1.4490533157501345e-05}, 'minutia_map_loss': 0.00018529201643176232},\n",
      "    training_accuracy=0.9125000834465027,\n",
      "    validation_equal_error_rate=0.9125000834465027,\n",
      "}\n",
      "\n",
      "\n",
      " --- Starting Epoch 204 of 250 ---\n",
      "\n",
      "Training:\n"
     ]
    },
    {
     "name": "stderr",
     "output_type": "stream",
     "text": [
      "100%|██████████| 5/5 [02:06<00:00, 25.32s/it]\n"
     ]
    },
    {
     "name": "stdout",
     "output_type": "stream",
     "text": [
      "Average Loss: 2.574074024818837\n",
      "Multiclass accuracy: 0.9249999523162842\n",
      "TrainingLogEntry(\n",
      "    epoch=204,\n",
      "    training_loss=2.574074024818837,\n",
      "    loss_statistics={'texture_loss': {'crossent_loss_sum': 0.00010044430443025255, 'center_loss_sum': 1.2657987014330053e-05}, 'minutia_loss': {'crossent_loss_sum': 0.0007141021068220014, 'center_loss_sum': 1.422236038541252e-05}, 'minutia_map_loss': 0.00020324611805028631},\n",
      "    training_accuracy=0.9249999523162842,\n",
      "    validation_equal_error_rate=0.9249999523162842,\n",
      "}\n",
      "\n",
      "\n",
      " --- Starting Epoch 205 of 250 ---\n",
      "\n",
      "Training:\n"
     ]
    },
    {
     "name": "stderr",
     "output_type": "stream",
     "text": [
      "100%|██████████| 5/5 [07:00<00:00, 84.19s/it] \n"
     ]
    },
    {
     "name": "stdout",
     "output_type": "stream",
     "text": [
      "Average Loss: 2.6121318382769823\n",
      "Multiclass accuracy: 0.9125000834465027\n",
      "TrainingLogEntry(\n",
      "    epoch=205,\n",
      "    training_loss=2.6121318382769823,\n",
      "    loss_statistics={'texture_loss': {'crossent_loss_sum': 0.00011888310313224792, 'center_loss_sum': 1.1982864760343106e-05}, 'minutia_loss': {'crossent_loss_sum': 0.0007379444760660972, 'center_loss_sum': 1.5713309027975606e-05}, 'minutia_map_loss': 0.00016875521961839926},\n",
      "    training_accuracy=0.9125000834465027,\n",
      "    validation_equal_error_rate=0.9125000834465027,\n",
      "}\n",
      "\n",
      "\n",
      " --- Starting Epoch 206 of 250 ---\n",
      "\n",
      "Training:\n"
     ]
    },
    {
     "name": "stderr",
     "output_type": "stream",
     "text": [
      "100%|██████████| 5/5 [03:52<00:00, 46.48s/it]\n"
     ]
    },
    {
     "name": "stdout",
     "output_type": "stream",
     "text": [
      "Average Loss: 2.67013497505337\n",
      "Multiclass accuracy: 0.8999999761581421\n",
      "TrainingLogEntry(\n",
      "    epoch=206,\n",
      "    training_loss=2.67013497505337,\n",
      "    loss_statistics={'texture_loss': {'crossent_loss_sum': 0.00010881311236283718, 'center_loss_sum': 1.1927846263950834e-05}, 'minutia_loss': {'crossent_loss_sum': 0.0007614274724171712, 'center_loss_sum': 1.3318418328148814e-05}, 'minutia_map_loss': 0.00017427877608077743},\n",
      "    training_accuracy=0.8999999761581421,\n",
      "    validation_equal_error_rate=0.8999999761581421,\n",
      "}\n",
      "\n",
      "\n",
      " --- Starting Epoch 207 of 250 ---\n",
      "\n",
      "Training:\n"
     ]
    },
    {
     "name": "stderr",
     "output_type": "stream",
     "text": [
      "100%|██████████| 5/5 [04:05<00:00, 49.14s/it]\n"
     ]
    },
    {
     "name": "stdout",
     "output_type": "stream",
     "text": [
      "Average Loss: 2.6266178645566107\n",
      "Multiclass accuracy: 0.875\n",
      "TrainingLogEntry(\n",
      "    epoch=207,\n",
      "    training_loss=2.6266178645566107,\n",
      "    loss_statistics={'texture_loss': {'crossent_loss_sum': 0.00014112167012919285, 'center_loss_sum': 2.2386512452155162e-05}, 'minutia_loss': {'crossent_loss_sum': 0.0006957430938246903, 'center_loss_sum': 1.635808990022559e-05}, 'minutia_map_loss': 0.00017001877694574605},\n",
      "    training_accuracy=0.875,\n",
      "    validation_equal_error_rate=0.875,\n",
      "}\n",
      "\n",
      "\n",
      " --- Starting Epoch 208 of 250 ---\n",
      "\n",
      "Training:\n"
     ]
    },
    {
     "name": "stderr",
     "output_type": "stream",
     "text": [
      "100%|██████████| 5/5 [07:12<00:00, 86.52s/it] \n"
     ]
    },
    {
     "name": "stdout",
     "output_type": "stream",
     "text": [
      "Average Loss: 2.5251143695414067\n",
      "Multiclass accuracy: 0.925000011920929\n",
      "TrainingLogEntry(\n",
      "    epoch=208,\n",
      "    training_loss=2.5251143695414067,\n",
      "    loss_statistics={'texture_loss': {'crossent_loss_sum': 8.707438076881668e-05, 'center_loss_sum': 1.101593569486956e-05}, 'minutia_loss': {'crossent_loss_sum': 0.0007189271853694433, 'center_loss_sum': 1.6957339152835214e-05}, 'minutia_map_loss': 0.000164883697016424},\n",
      "    training_accuracy=0.925000011920929,\n",
      "    validation_equal_error_rate=0.925000011920929,\n",
      "}\n",
      "\n",
      "\n",
      " --- Starting Epoch 209 of 250 ---\n",
      "\n",
      "Training:\n"
     ]
    },
    {
     "name": "stderr",
     "output_type": "stream",
     "text": [
      "100%|██████████| 5/5 [01:37<00:00, 19.58s/it]\n"
     ]
    },
    {
     "name": "stdout",
     "output_type": "stream",
     "text": [
      "Average Loss: 2.448317042291164\n",
      "Multiclass accuracy: 0.9249999523162842\n",
      "TrainingLogEntry(\n",
      "    epoch=209,\n",
      "    training_loss=2.448317042291164,\n",
      "    loss_statistics={'texture_loss': {'crossent_loss_sum': 0.00010407913195074729, 'center_loss_sum': 1.4199965352297954e-05}, 'minutia_loss': {'crossent_loss_sum': 0.000663253646226799, 'center_loss_sum': 1.3914966147463276e-05}, 'minutia_map_loss': 0.00016694106056161647},\n",
      "    training_accuracy=0.9249999523162842,\n",
      "    validation_equal_error_rate=0.9249999523162842,\n",
      "}\n",
      "\n",
      "\n",
      " --- Starting Epoch 210 of 250 ---\n",
      "\n",
      "Training:\n"
     ]
    },
    {
     "name": "stderr",
     "output_type": "stream",
     "text": [
      "100%|██████████| 5/5 [06:10<00:00, 74.13s/it] \n"
     ]
    },
    {
     "name": "stdout",
     "output_type": "stream",
     "text": [
      "Average Loss: 2.4037648489326235\n",
      "Multiclass accuracy: 0.9625000357627869\n",
      "TrainingLogEntry(\n",
      "    epoch=210,\n",
      "    training_loss=2.4037648489326235,\n",
      "    loss_statistics={'texture_loss': {'crossent_loss_sum': 9.15846403222531e-05, 'center_loss_sum': 1.3037753669777885e-05}, 'minutia_loss': {'crossent_loss_sum': 0.0006565918773412705, 'center_loss_sum': 1.4541989366989583e-05}, 'minutia_map_loss': 0.00016321438559680244},\n",
      "    training_accuracy=0.9625000357627869,\n",
      "    validation_equal_error_rate=0.9625000357627869,\n",
      "}\n",
      "\n",
      "\n",
      " --- Starting Epoch 211 of 250 ---\n",
      "\n",
      "Training:\n"
     ]
    },
    {
     "name": "stderr",
     "output_type": "stream",
     "text": [
      "100%|██████████| 5/5 [05:47<00:00, 69.59s/it]\n"
     ]
    },
    {
     "name": "stdout",
     "output_type": "stream",
     "text": [
      "Average Loss: 2.480785739272833\n",
      "Multiclass accuracy: 0.9375\n",
      "TrainingLogEntry(\n",
      "    epoch=211,\n",
      "    training_loss=2.480785739272833,\n",
      "    loss_statistics={'texture_loss': {'crossent_loss_sum': 0.00010673399922085105, 'center_loss_sum': 1.2208558966099105e-05}, 'minutia_loss': {'crossent_loss_sum': 0.0006658339352341173, 'center_loss_sum': 1.6519411391815784e-05}, 'minutia_map_loss': 0.00016174205798678886},\n",
      "    training_accuracy=0.9375,\n",
      "    validation_equal_error_rate=0.9375,\n",
      "}\n",
      "\n",
      "\n",
      " --- Starting Epoch 212 of 250 ---\n",
      "\n",
      "Training:\n"
     ]
    },
    {
     "name": "stderr",
     "output_type": "stream",
     "text": [
      "100%|██████████| 5/5 [01:50<00:00, 22.19s/it]\n"
     ]
    },
    {
     "name": "stdout",
     "output_type": "stream",
     "text": [
      "Average Loss: 2.337263123579323\n",
      "Multiclass accuracy: 0.9750000834465027\n",
      "TrainingLogEntry(\n",
      "    epoch=212,\n",
      "    training_loss=2.337263123579323,\n",
      "    loss_statistics={'texture_loss': {'crossent_loss_sum': 7.971247750115983e-05, 'center_loss_sum': 1.2271314784654497e-05}, 'minutia_loss': {'crossent_loss_sum': 0.0006410899353616031, 'center_loss_sum': 1.6299516744451758e-05}, 'minutia_map_loss': 0.00015234863208779306},\n",
      "    training_accuracy=0.9750000834465027,\n",
      "    validation_equal_error_rate=0.9750000834465027,\n",
      "}\n",
      "\n",
      "\n",
      " --- Starting Epoch 213 of 250 ---\n",
      "\n",
      "Training:\n"
     ]
    },
    {
     "name": "stderr",
     "output_type": "stream",
     "text": [
      "100%|██████████| 5/5 [07:24<00:00, 88.89s/it] \n"
     ]
    },
    {
     "name": "stdout",
     "output_type": "stream",
     "text": [
      "Average Loss: 2.5663782742246988\n",
      "Multiclass accuracy: 0.925000011920929\n",
      "TrainingLogEntry(\n",
      "    epoch=213,\n",
      "    training_loss=2.5663782742246988,\n",
      "    loss_statistics={'texture_loss': {'crossent_loss_sum': 0.00011055129951586021, 'center_loss_sum': 9.712702566129298e-06}, 'minutia_loss': {'crossent_loss_sum': 0.0006834641464648802, 'center_loss_sum': 1.577440980661866e-05}, 'minutia_map_loss': 0.00016453818868034364},\n",
      "    training_accuracy=0.925000011920929,\n",
      "    validation_equal_error_rate=0.925000011920929,\n",
      "}\n",
      "\n",
      "\n",
      " --- Starting Epoch 214 of 250 ---\n",
      "\n",
      "Training:\n"
     ]
    },
    {
     "name": "stderr",
     "output_type": "stream",
     "text": [
      "100%|██████████| 5/5 [05:04<00:00, 60.95s/it]\n"
     ]
    },
    {
     "name": "stdout",
     "output_type": "stream",
     "text": [
      "Average Loss: 2.638295133523643\n",
      "Multiclass accuracy: 0.9375\n",
      "TrainingLogEntry(\n",
      "    epoch=214,\n",
      "    training_loss=2.638295133523643,\n",
      "    loss_statistics={'texture_loss': {'crossent_loss_sum': 6.743132579708245e-05, 'center_loss_sum': 8.588925887058239e-06}, 'minutia_loss': {'crossent_loss_sum': 0.0007530884044926341, 'center_loss_sum': 1.8310788507777744e-05}, 'minutia_map_loss': 0.00015802840740567574},\n",
      "    training_accuracy=0.9375,\n",
      "    validation_equal_error_rate=0.9375,\n",
      "}\n",
      "\n",
      "\n",
      " --- Starting Epoch 215 of 250 ---\n",
      "\n",
      "Training:\n"
     ]
    },
    {
     "name": "stderr",
     "output_type": "stream",
     "text": [
      "100%|██████████| 5/5 [03:09<00:00, 37.90s/it]\n"
     ]
    },
    {
     "name": "stdout",
     "output_type": "stream",
     "text": [
      "Average Loss: 2.8106316976994274\n",
      "Multiclass accuracy: 0.9500001072883606\n",
      "TrainingLogEntry(\n",
      "    epoch=215,\n",
      "    training_loss=2.8106316976994274,\n",
      "    loss_statistics={'texture_loss': {'crossent_loss_sum': 0.00012992893148100736, 'center_loss_sum': 2.0651821272842812e-05}, 'minutia_loss': {'crossent_loss_sum': 0.0007451784339818087, 'center_loss_sum': 1.8033758370262203e-05}, 'minutia_map_loss': 0.0001508402618664232},\n",
      "    training_accuracy=0.9500001072883606,\n",
      "    validation_equal_error_rate=0.9500001072883606,\n",
      "}\n",
      "\n",
      "\n",
      " --- Starting Epoch 216 of 250 ---\n",
      "\n",
      "Training:\n"
     ]
    },
    {
     "name": "stderr",
     "output_type": "stream",
     "text": [
      "100%|██████████| 5/5 [07:08<00:00, 85.76s/it] \n"
     ]
    },
    {
     "name": "stdout",
     "output_type": "stream",
     "text": [
      "Average Loss: 2.820285471007228\n",
      "Multiclass accuracy: 0.8625000715255737\n",
      "TrainingLogEntry(\n",
      "    epoch=216,\n",
      "    training_loss=2.820285471007228,\n",
      "    loss_statistics={'texture_loss': {'crossent_loss_sum': 0.00011819362056901656, 'center_loss_sum': 2.031155738485865e-05}, 'minutia_loss': {'crossent_loss_sum': 0.000750689217484141, 'center_loss_sum': 2.06989735499563e-05}, 'minutia_map_loss': 0.0001519610752710646},\n",
      "    training_accuracy=0.8625000715255737,\n",
      "    validation_equal_error_rate=0.8625000715255737,\n",
      "}\n",
      "\n",
      "\n",
      " --- Starting Epoch 217 of 250 ---\n",
      "\n",
      "Training:\n"
     ]
    },
    {
     "name": "stderr",
     "output_type": "stream",
     "text": [
      "100%|██████████| 5/5 [03:38<00:00, 43.69s/it]\n"
     ]
    },
    {
     "name": "stdout",
     "output_type": "stream",
     "text": [
      "Average Loss: 2.6174925814941523\n",
      "Multiclass accuracy: 0.9375\n",
      "TrainingLogEntry(\n",
      "    epoch=217,\n",
      "    training_loss=2.6174925814941523,\n",
      "    loss_statistics={'texture_loss': {'crossent_loss_sum': 7.236701419610463e-05, 'center_loss_sum': 1.6288085935447744e-05}, 'minutia_loss': {'crossent_loss_sum': 0.0007305539029087135, 'center_loss_sum': 1.6052926567098693e-05}, 'minutia_map_loss': 0.00014433861711525366},\n",
      "    training_accuracy=0.9375,\n",
      "    validation_equal_error_rate=0.9375,\n",
      "}\n",
      "\n",
      "\n",
      " --- Starting Epoch 218 of 250 ---\n",
      "\n",
      "Training:\n"
     ]
    },
    {
     "name": "stderr",
     "output_type": "stream",
     "text": [
      "100%|██████████| 5/5 [07:10<00:00, 86.14s/it]\n"
     ]
    },
    {
     "name": "stdout",
     "output_type": "stream",
     "text": [
      "Average Loss: 2.710188134945929\n",
      "Multiclass accuracy: 0.8749999403953552\n",
      "TrainingLogEntry(\n",
      "    epoch=218,\n",
      "    training_loss=2.710188134945929,\n",
      "    loss_statistics={'texture_loss': {'crossent_loss_sum': 0.00015010792274205458, 'center_loss_sum': 2.157575037840399e-05}, 'minutia_loss': {'crossent_loss_sum': 0.0006861860109936623, 'center_loss_sum': 1.0836347133763845e-05}, 'minutia_map_loss': 0.00013954847298529264},\n",
      "    training_accuracy=0.8749999403953552,\n",
      "    validation_equal_error_rate=0.8749999403953552,\n",
      "}\n",
      "\n",
      "\n",
      " --- Starting Epoch 219 of 250 ---\n",
      "\n",
      "Training:\n"
     ]
    },
    {
     "name": "stderr",
     "output_type": "stream",
     "text": [
      "100%|██████████| 5/5 [03:39<00:00, 43.81s/it]\n"
     ]
    },
    {
     "name": "stdout",
     "output_type": "stream",
     "text": [
      "Average Loss: 2.627601213566959\n",
      "Multiclass accuracy: 0.8874999284744263\n",
      "TrainingLogEntry(\n",
      "    epoch=219,\n",
      "    training_loss=2.627601213566959,\n",
      "    loss_statistics={'texture_loss': {'crossent_loss_sum': 9.739122645565744e-05, 'center_loss_sum': 2.133207831024771e-05}, 'minutia_loss': {'crossent_loss_sum': 0.0006903480143236691, 'center_loss_sum': 1.2478196563629004e-05}, 'minutia_map_loss': 0.0001501964994144113},\n",
      "    training_accuracy=0.8874999284744263,\n",
      "    validation_equal_error_rate=0.8874999284744263,\n",
      "}\n",
      "\n",
      "\n",
      " --- Starting Epoch 220 of 250 ---\n",
      "\n",
      "Training:\n"
     ]
    },
    {
     "name": "stderr",
     "output_type": "stream",
     "text": [
      "100%|██████████| 5/5 [07:17<00:00, 87.42s/it] \n"
     ]
    },
    {
     "name": "stdout",
     "output_type": "stream",
     "text": [
      "Average Loss: 2.60637139942497\n",
      "Multiclass accuracy: 0.9125000238418579\n",
      "TrainingLogEntry(\n",
      "    epoch=220,\n",
      "    training_loss=2.60637139942497,\n",
      "    loss_statistics={'texture_loss': {'crossent_loss_sum': 0.0001336697445196264, 'center_loss_sum': 1.3408689787063529e-05}, 'minutia_loss': {'crossent_loss_sum': 0.0006500173316282385, 'center_loss_sum': 1.2813967597835205e-05}, 'minutia_map_loss': 0.00014831507785300558},\n",
      "    training_accuracy=0.9125000238418579,\n",
      "    validation_equal_error_rate=0.9125000238418579,\n",
      "}\n",
      "\n",
      "\n",
      " --- Starting Epoch 221 of 250 ---\n",
      "\n",
      "Training:\n"
     ]
    },
    {
     "name": "stderr",
     "output_type": "stream",
     "text": [
      "100%|██████████| 5/5 [01:33<00:00, 18.77s/it]\n"
     ]
    },
    {
     "name": "stdout",
     "output_type": "stream",
     "text": [
      "Average Loss: 2.7869285003095863\n",
      "Multiclass accuracy: 0.9000000357627869\n",
      "TrainingLogEntry(\n",
      "    epoch=221,\n",
      "    training_loss=2.7869285003095863,\n",
      "    loss_statistics={'texture_loss': {'crossent_loss_sum': 0.0001362570991728738, 'center_loss_sum': 1.658937044180276e-05}, 'minutia_loss': {'crossent_loss_sum': 0.0007025327075991714, 'center_loss_sum': 1.651200286129065e-05}, 'minutia_map_loss': 0.00014672301636126477},\n",
      "    training_accuracy=0.9000000357627869,\n",
      "    validation_equal_error_rate=0.9000000357627869,\n",
      "}\n",
      "\n",
      "\n",
      " --- Starting Epoch 222 of 250 ---\n",
      "\n",
      "Training:\n"
     ]
    },
    {
     "name": "stderr",
     "output_type": "stream",
     "text": [
      "100%|██████████| 5/5 [06:21<00:00, 76.32s/it] \n"
     ]
    },
    {
     "name": "stdout",
     "output_type": "stream",
     "text": [
      "Average Loss: 2.6531947928294537\n",
      "Multiclass accuracy: 0.9249999523162842\n",
      "TrainingLogEntry(\n",
      "    epoch=222,\n",
      "    training_loss=2.6531947928294537,\n",
      "    loss_statistics={'texture_loss': {'crossent_loss_sum': 0.00011147664004373688, 'center_loss_sum': 1.2741539069603003e-05}, 'minutia_loss': {'crossent_loss_sum': 0.0006791789171307586, 'center_loss_sum': 1.4651093772764123e-05}, 'minutia_map_loss': 0.00014604875275074658},\n",
      "    training_accuracy=0.9249999523162842,\n",
      "    validation_equal_error_rate=0.9249999523162842,\n",
      "}\n",
      "\n",
      "\n",
      " --- Starting Epoch 223 of 250 ---\n",
      "\n",
      "Training:\n"
     ]
    },
    {
     "name": "stderr",
     "output_type": "stream",
     "text": [
      "100%|██████████| 5/5 [06:29<00:00, 77.99s/it]\n"
     ]
    },
    {
     "name": "stdout",
     "output_type": "stream",
     "text": [
      "Average Loss: 2.6516565416380766\n",
      "Multiclass accuracy: 0.9124999642372131\n",
      "TrainingLogEntry(\n",
      "    epoch=223,\n",
      "    training_loss=2.6516565416380766,\n",
      "    loss_statistics={'texture_loss': {'crossent_loss_sum': 0.00015604092249636017, 'center_loss_sum': 1.5356862578390307e-05}, 'minutia_loss': {'crossent_loss_sum': 0.0006378718711048193, 'center_loss_sum': 1.4144062425273691e-05}, 'minutia_map_loss': 0.00013455470683419206},\n",
      "    training_accuracy=0.9124999642372131,\n",
      "    validation_equal_error_rate=0.9124999642372131,\n",
      "}\n",
      "\n",
      "\n",
      " --- Starting Epoch 224 of 250 ---\n",
      "\n",
      "Training:\n"
     ]
    },
    {
     "name": "stderr",
     "output_type": "stream",
     "text": [
      "100%|██████████| 5/5 [01:10<00:00, 14.00s/it]\n"
     ]
    },
    {
     "name": "stdout",
     "output_type": "stream",
     "text": [
      "Average Loss: 2.524486800990999\n",
      "Multiclass accuracy: 0.9124999642372131\n",
      "TrainingLogEntry(\n",
      "    epoch=224,\n",
      "    training_loss=2.524486800990999,\n",
      "    loss_statistics={'texture_loss': {'crossent_loss_sum': 0.00010755698292933661, 'center_loss_sum': 1.144308754746085e-05}, 'minutia_loss': {'crossent_loss_sum': 0.0006367396520472121, 'center_loss_sum': 1.4881975948810577e-05}, 'minutia_map_loss': 0.00013616233955715496},\n",
      "    training_accuracy=0.9124999642372131,\n",
      "    validation_equal_error_rate=0.9124999642372131,\n",
      "}\n",
      "\n",
      "\n",
      " --- Starting Epoch 225 of 250 ---\n",
      "\n",
      "Training:\n"
     ]
    },
    {
     "name": "stderr",
     "output_type": "stream",
     "text": [
      "100%|██████████| 5/5 [06:56<00:00, 83.30s/it] \n"
     ]
    },
    {
     "name": "stdout",
     "output_type": "stream",
     "text": [
      "Average Loss: 2.3943435423448682\n",
      "Multiclass accuracy: 0.9750000834465027\n",
      "TrainingLogEntry(\n",
      "    epoch=225,\n",
      "    training_loss=2.3943435423448682,\n",
      "    loss_statistics={'texture_loss': {'crossent_loss_sum': 7.453502395323344e-05, 'center_loss_sum': 1.250011008232832e-05}, 'minutia_loss': {'crossent_loss_sum': 0.0006089578866958618, 'center_loss_sum': 1.3279547648770468e-05}, 'minutia_map_loss': 0.00014585013023710677},\n",
      "    training_accuracy=0.9750000834465027,\n",
      "    validation_equal_error_rate=0.9750000834465027,\n",
      "}\n",
      "\n",
      "\n",
      " --- Starting Epoch 226 of 250 ---\n",
      "\n",
      "Training:\n"
     ]
    },
    {
     "name": "stderr",
     "output_type": "stream",
     "text": [
      "100%|██████████| 5/5 [05:36<00:00, 67.40s/it]\n"
     ]
    },
    {
     "name": "stdout",
     "output_type": "stream",
     "text": [
      "Average Loss: 2.436116085238755\n",
      "Multiclass accuracy: 0.9124999642372131\n",
      "TrainingLogEntry(\n",
      "    epoch=226,\n",
      "    training_loss=2.436116085238755,\n",
      "    loss_statistics={'texture_loss': {'crossent_loss_sum': 0.0001093597632875158, 'center_loss_sum': 1.6551375500222836e-05}, 'minutia_loss': {'crossent_loss_sum': 0.0005949045362120325, 'center_loss_sum': 1.2032191046852279e-05}, 'minutia_map_loss': 0.0001322501796874514},\n",
      "    training_accuracy=0.9124999642372131,\n",
      "    validation_equal_error_rate=0.9124999642372131,\n",
      "}\n",
      "\n",
      "\n",
      " --- Starting Epoch 227 of 250 ---\n",
      "\n",
      "Training:\n"
     ]
    },
    {
     "name": "stderr",
     "output_type": "stream",
     "text": [
      "100%|██████████| 5/5 [02:39<00:00, 31.86s/it]\n"
     ]
    },
    {
     "name": "stdout",
     "output_type": "stream",
     "text": [
      "Average Loss: 2.46366036709398\n",
      "Multiclass accuracy: 0.949999988079071\n",
      "TrainingLogEntry(\n",
      "    epoch=227,\n",
      "    training_loss=2.46366036709398,\n",
      "    loss_statistics={'texture_loss': {'crossent_loss_sum': 0.00012079985696548796, 'center_loss_sum': 1.5198387926454935e-05}, 'minutia_loss': {'crossent_loss_sum': 0.0005783507295247525, 'center_loss_sum': 1.3739423100220956e-05}, 'minutia_map_loss': 0.00014184817186383122},\n",
      "    training_accuracy=0.949999988079071,\n",
      "    validation_equal_error_rate=0.949999988079071,\n",
      "}\n",
      "\n",
      "\n",
      " --- Starting Epoch 228 of 250 ---\n",
      "\n",
      "Training:\n"
     ]
    },
    {
     "name": "stderr",
     "output_type": "stream",
     "text": [
      "100%|██████████| 5/5 [07:06<00:00, 85.26s/it] \n"
     ]
    },
    {
     "name": "stdout",
     "output_type": "stream",
     "text": [
      "Average Loss: 2.4879089691489935\n",
      "Multiclass accuracy: 0.925000011920929\n",
      "TrainingLogEntry(\n",
      "    epoch=228,\n",
      "    training_loss=2.4879089691489935,\n",
      "    loss_statistics={'texture_loss': {'crossent_loss_sum': 0.00012002401472477431, 'center_loss_sum': 1.3014803159186679e-05}, 'minutia_loss': {'crossent_loss_sum': 0.0005989966934986328, 'center_loss_sum': 1.4602031108787221e-05}, 'minutia_map_loss': 0.000126925993245095},\n",
      "    training_accuracy=0.925000011920929,\n",
      "    validation_equal_error_rate=0.925000011920929,\n",
      "}\n",
      "\n",
      "\n",
      " --- Starting Epoch 229 of 250 ---\n",
      "\n",
      "Training:\n"
     ]
    },
    {
     "name": "stderr",
     "output_type": "stream",
     "text": [
      "100%|██████████| 5/5 [05:18<00:00, 63.74s/it]\n"
     ]
    },
    {
     "name": "stdout",
     "output_type": "stream",
     "text": [
      "Average Loss: 2.434431512132287\n",
      "Multiclass accuracy: 0.9375\n",
      "TrainingLogEntry(\n",
      "    epoch=229,\n",
      "    training_loss=2.434431512132287,\n",
      "    loss_statistics={'texture_loss': {'crossent_loss_sum': 8.653616792829344e-05, 'center_loss_sum': 2.2155281634970083e-05}, 'minutia_loss': {'crossent_loss_sum': 0.0005946284482598971, 'center_loss_sum': 1.4367011537015771e-05}, 'minutia_map_loss': 0.00013232411194967323},\n",
      "    training_accuracy=0.9375,\n",
      "    validation_equal_error_rate=0.9375,\n",
      "}\n",
      "\n",
      "\n",
      " --- Starting Epoch 230 of 250 ---\n",
      "\n",
      "Training:\n"
     ]
    },
    {
     "name": "stderr",
     "output_type": "stream",
     "text": [
      "100%|██████████| 5/5 [02:32<00:00, 30.44s/it]\n"
     ]
    },
    {
     "name": "stdout",
     "output_type": "stream",
     "text": [
      "Average Loss: 2.4211949187517163\n",
      "Multiclass accuracy: 0.9375000596046448\n",
      "TrainingLogEntry(\n",
      "    epoch=230,\n",
      "    training_loss=2.4211949187517163,\n",
      "    loss_statistics={'texture_loss': {'crossent_loss_sum': 0.00010867756584452258, 'center_loss_sum': 1.7867851743681563e-05}, 'minutia_loss': {'crossent_loss_sum': 0.0005743507875336541, 'center_loss_sum': 1.252273123504387e-05}, 'minutia_map_loss': 0.00012727374273041885},\n",
      "    training_accuracy=0.9375000596046448,\n",
      "    validation_equal_error_rate=0.9375000596046448,\n",
      "}\n",
      "\n",
      "\n",
      " --- Starting Epoch 231 of 250 ---\n",
      "\n",
      "Training:\n"
     ]
    },
    {
     "name": "stderr",
     "output_type": "stream",
     "text": [
      "100%|██████████| 5/5 [07:05<00:00, 85.03s/it] \n"
     ]
    },
    {
     "name": "stdout",
     "output_type": "stream",
     "text": [
      "Average Loss: 2.4402342944964768\n",
      "Multiclass accuracy: 0.9250000715255737\n",
      "TrainingLogEntry(\n",
      "    epoch=231,\n",
      "    training_loss=2.4402342944964768,\n",
      "    loss_statistics={'texture_loss': {'crossent_loss_sum': 6.338313057277743e-05, 'center_loss_sum': 1.096532137251526e-05}, 'minutia_loss': {'crossent_loss_sum': 0.0006226802069837876, 'center_loss_sum': 1.6852248799652684e-05}, 'minutia_map_loss': 0.00012874141931070726},\n",
      "    training_accuracy=0.9250000715255737,\n",
      "    validation_equal_error_rate=0.9250000715255737,\n",
      "}\n",
      "\n",
      "\n",
      " --- Starting Epoch 232 of 250 ---\n",
      "\n",
      "Training:\n"
     ]
    },
    {
     "name": "stderr",
     "output_type": "stream",
     "text": [
      "100%|██████████| 5/5 [01:06<00:00, 13.27s/it]\n"
     ]
    },
    {
     "name": "stdout",
     "output_type": "stream",
     "text": [
      "Average Loss: 2.6001553953439\n",
      "Multiclass accuracy: 0.9125000238418579\n",
      "TrainingLogEntry(\n",
      "    epoch=232,\n",
      "    training_loss=2.6001553953439,\n",
      "    loss_statistics={'texture_loss': {'crossent_loss_sum': 9.216222257077038e-05, 'center_loss_sum': 1.5164885137762342e-05}, 'minutia_loss': {'crossent_loss_sum': 0.0006382287694857671, 'center_loss_sum': 1.5862352102176173e-05}, 'minutia_map_loss': 0.00013149226557688563},\n",
      "    training_accuracy=0.9125000238418579,\n",
      "    validation_equal_error_rate=0.9125000238418579,\n",
      "}\n",
      "\n",
      "\n",
      " --- Starting Epoch 233 of 250 ---\n",
      "\n",
      "Training:\n"
     ]
    },
    {
     "name": "stderr",
     "output_type": "stream",
     "text": [
      "100%|██████████| 5/5 [07:14<00:00, 86.82s/it] \n"
     ]
    },
    {
     "name": "stdout",
     "output_type": "stream",
     "text": [
      "Average Loss: 2.536927388086915\n",
      "Multiclass accuracy: 0.9750000834465027\n",
      "TrainingLogEntry(\n",
      "    epoch=233,\n",
      "    training_loss=2.536927388086915,\n",
      "    loss_statistics={'texture_loss': {'crossent_loss_sum': 0.0001225640956577056, 'center_loss_sum': 2.0582757920759625e-05}, 'minutia_loss': {'crossent_loss_sum': 0.0005815003250466018, 'center_loss_sum': 1.3138755234823527e-05}, 'minutia_map_loss': 0.00012865103101815845},\n",
      "    training_accuracy=0.9750000834465027,\n",
      "    validation_equal_error_rate=0.9750000834465027,\n",
      "}\n",
      "\n",
      "\n",
      " --- Starting Epoch 234 of 250 ---\n",
      "\n",
      "Training:\n"
     ]
    },
    {
     "name": "stderr",
     "output_type": "stream",
     "text": [
      "100%|██████████| 5/5 [07:07<00:00, 85.56s/it] \n"
     ]
    },
    {
     "name": "stdout",
     "output_type": "stream",
     "text": [
      "Average Loss: 2.4184405865892766\n",
      "Multiclass accuracy: 0.9375000596046448\n",
      "TrainingLogEntry(\n",
      "    epoch=234,\n",
      "    training_loss=2.4184405865892766,\n",
      "    loss_statistics={'texture_loss': {'crossent_loss_sum': 6.899932581607415e-05, 'center_loss_sum': 1.541144143709022e-05}, 'minutia_loss': {'crossent_loss_sum': 0.0005967367440462112, 'center_loss_sum': 1.4180848096578342e-05}, 'minutia_map_loss': 0.00012615282785744688},\n",
      "    training_accuracy=0.9375000596046448,\n",
      "    validation_equal_error_rate=0.9375000596046448,\n",
      "}\n",
      "\n",
      "\n",
      " --- Starting Epoch 235 of 250 ---\n",
      "\n",
      "Training:\n"
     ]
    },
    {
     "name": "stderr",
     "output_type": "stream",
     "text": [
      "100%|██████████| 5/5 [05:24<00:00, 64.94s/it]\n"
     ]
    },
    {
     "name": "stdout",
     "output_type": "stream",
     "text": [
      "Average Loss: 2.3065656911581756\n",
      "Multiclass accuracy: 0.9375000596046448\n",
      "TrainingLogEntry(\n",
      "    epoch=235,\n",
      "    training_loss=2.3065656911581756,\n",
      "    loss_statistics={'texture_loss': {'crossent_loss_sum': 9.17596510938696e-05, 'center_loss_sum': 1.789821236318833e-05}, 'minutia_loss': {'crossent_loss_sum': 0.000532215285945583, 'center_loss_sum': 1.6606439760810622e-05}, 'minutia_map_loss': 0.00012076556720342991},\n",
      "    training_accuracy=0.9375000596046448,\n",
      "    validation_equal_error_rate=0.9375000596046448,\n",
      "}\n",
      "\n",
      "\n",
      " --- Starting Epoch 236 of 250 ---\n",
      "\n",
      "Training:\n"
     ]
    },
    {
     "name": "stderr",
     "output_type": "stream",
     "text": [
      "100%|██████████| 5/5 [02:55<00:00, 35.05s/it]\n"
     ]
    },
    {
     "name": "stdout",
     "output_type": "stream",
     "text": [
      "Average Loss: 2.58502561237663\n",
      "Multiclass accuracy: 0.8499999642372131\n",
      "TrainingLogEntry(\n",
      "    epoch=236,\n",
      "    training_loss=2.58502561237663,\n",
      "    loss_statistics={'texture_loss': {'crossent_loss_sum': 0.00011707010769074963, 'center_loss_sum': 1.5706441650587706e-05}, 'minutia_loss': {'crossent_loss_sum': 0.0005930225535105634, 'center_loss_sum': 1.422620118064906e-05}, 'minutia_map_loss': 0.00012859890106013946},\n",
      "    training_accuracy=0.8499999642372131,\n",
      "    validation_equal_error_rate=0.8499999642372131,\n",
      "}\n",
      "\n",
      "\n",
      " --- Starting Epoch 237 of 250 ---\n",
      "\n",
      "Training:\n"
     ]
    },
    {
     "name": "stderr",
     "output_type": "stream",
     "text": [
      "100%|██████████| 5/5 [07:02<00:00, 84.56s/it] \n"
     ]
    },
    {
     "name": "stdout",
     "output_type": "stream",
     "text": [
      "Average Loss: 2.6196718287467955\n",
      "Multiclass accuracy: 0.9125000238418579\n",
      "TrainingLogEntry(\n",
      "    epoch=237,\n",
      "    training_loss=2.6196718287467955,\n",
      "    loss_statistics={'texture_loss': {'crossent_loss_sum': 8.687068792906674e-05, 'center_loss_sum': 1.7228207232201483e-05}, 'minutia_loss': {'crossent_loss_sum': 0.0006225335805173864, 'center_loss_sum': 1.6937373992912273e-05}, 'minutia_map_loss': 0.0001319889262079555},\n",
      "    training_accuracy=0.9125000238418579,\n",
      "    validation_equal_error_rate=0.9125000238418579,\n",
      "}\n",
      "\n",
      "\n",
      " --- Starting Epoch 238 of 250 ---\n",
      "\n",
      "Training:\n"
     ]
    },
    {
     "name": "stderr",
     "output_type": "stream",
     "text": [
      "100%|██████████| 5/5 [07:40<00:00, 92.20s/it] \n"
     ]
    },
    {
     "name": "stdout",
     "output_type": "stream",
     "text": [
      "Average Loss: 2.4090737244114275\n",
      "Multiclass accuracy: 0.9499999284744263\n",
      "TrainingLogEntry(\n",
      "    epoch=238,\n",
      "    training_loss=2.4090737244114275,\n",
      "    loss_statistics={'texture_loss': {'crossent_loss_sum': 6.957594738738176e-05, 'center_loss_sum': 1.2856572519670776e-05}, 'minutia_loss': {'crossent_loss_sum': 0.0005823714222679746, 'center_loss_sum': 1.6045975102547636e-05}, 'minutia_map_loss': 0.00012003896390137441},\n",
      "    training_accuracy=0.9499999284744263,\n",
      "    validation_equal_error_rate=0.9499999284744263,\n",
      "}\n",
      "\n",
      "\n",
      " --- Starting Epoch 239 of 250 ---\n",
      "\n",
      "Training:\n"
     ]
    },
    {
     "name": "stderr",
     "output_type": "stream",
     "text": [
      "100%|██████████| 5/5 [01:11<00:00, 14.32s/it]\n"
     ]
    },
    {
     "name": "stdout",
     "output_type": "stream",
     "text": [
      "Average Loss: 2.5770118220895526\n",
      "Multiclass accuracy: 0.9250000715255737\n",
      "TrainingLogEntry(\n",
      "    epoch=239,\n",
      "    training_loss=2.5770118220895526,\n",
      "    loss_statistics={'texture_loss': {'crossent_loss_sum': 0.00012146962323674449, 'center_loss_sum': 1.2770106784368633e-05}, 'minutia_loss': {'crossent_loss_sum': 0.000583172893082654, 'center_loss_sum': 1.239793882680633e-05}, 'minutia_map_loss': 0.0001223758803976197},\n",
      "    training_accuracy=0.9250000715255737,\n",
      "    validation_equal_error_rate=0.9250000715255737,\n",
      "}\n",
      "\n",
      "\n",
      " --- Starting Epoch 240 of 250 ---\n",
      "\n",
      "Training:\n"
     ]
    },
    {
     "name": "stderr",
     "output_type": "stream",
     "text": [
      "100%|██████████| 5/5 [07:16<00:00, 87.28s/it] \n"
     ]
    },
    {
     "name": "stdout",
     "output_type": "stream",
     "text": [
      "Average Loss: 2.460663180835545\n",
      "Multiclass accuracy: 0.9500000476837158\n",
      "TrainingLogEntry(\n",
      "    epoch=240,\n",
      "    training_loss=2.460663180835545,\n",
      "    loss_statistics={'texture_loss': {'crossent_loss_sum': 8.990496004882612e-05, 'center_loss_sum': 1.288827263603085e-05}, 'minutia_loss': {'crossent_loss_sum': 0.000566440844222119, 'center_loss_sum': 1.3712301458183088e-05}, 'minutia_map_loss': 0.00012648229709042138},\n",
      "    training_accuracy=0.9500000476837158,\n",
      "    validation_equal_error_rate=0.9500000476837158,\n",
      "}\n",
      "\n",
      "\n",
      " --- Starting Epoch 241 of 250 ---\n",
      "\n",
      "Training:\n"
     ]
    },
    {
     "name": "stderr",
     "output_type": "stream",
     "text": [
      "100%|██████████| 5/5 [04:02<00:00, 48.52s/it]\n"
     ]
    },
    {
     "name": "stdout",
     "output_type": "stream",
     "text": [
      "Average Loss: 2.3358103976398703\n",
      "Multiclass accuracy: 0.9250000715255737\n",
      "TrainingLogEntry(\n",
      "    epoch=241,\n",
      "    training_loss=2.3358103976398703,\n",
      "    loss_statistics={'texture_loss': {'crossent_loss_sum': 7.18671701731482e-05, 'center_loss_sum': 1.3600090879420336e-05}, 'minutia_loss': {'crossent_loss_sum': 0.0005476748834105686, 'center_loss_sum': 1.56848820618778e-05}, 'minutia_map_loss': 0.00011550883145720078},\n",
      "    training_accuracy=0.9250000715255737,\n",
      "    validation_equal_error_rate=0.9250000715255737,\n",
      "}\n",
      "\n",
      "\n",
      " --- Starting Epoch 242 of 250 ---\n",
      "\n",
      "Training:\n"
     ]
    },
    {
     "name": "stderr",
     "output_type": "stream",
     "text": [
      "100%|██████████| 5/5 [03:52<00:00, 46.50s/it]\n"
     ]
    },
    {
     "name": "stdout",
     "output_type": "stream",
     "text": [
      "Average Loss: 2.428394229225814\n",
      "Multiclass accuracy: 0.9125000238418579\n",
      "TrainingLogEntry(\n",
      "    epoch=242,\n",
      "    training_loss=2.428394229225814,\n",
      "    loss_statistics={'texture_loss': {'crossent_loss_sum': 7.843382093900194e-05, 'center_loss_sum': 1.1908838253778715e-05}, 'minutia_loss': {'crossent_loss_sum': 0.0005701635964214802, 'center_loss_sum': 1.7925176507560536e-05}, 'minutia_map_loss': 0.0001120614764295169},\n",
      "    training_accuracy=0.9125000238418579,\n",
      "    validation_equal_error_rate=0.9125000238418579,\n",
      "}\n",
      "\n",
      "\n",
      " --- Starting Epoch 243 of 250 ---\n",
      "\n",
      "Training:\n"
     ]
    },
    {
     "name": "stderr",
     "output_type": "stream",
     "text": [
      "100%|██████████| 5/5 [06:51<00:00, 82.35s/it]\n"
     ]
    },
    {
     "name": "stdout",
     "output_type": "stream",
     "text": [
      "Average Loss: 2.5559148005023595\n",
      "Multiclass accuracy: 0.949999988079071\n",
      "TrainingLogEntry(\n",
      "    epoch=243,\n",
      "    training_loss=2.5559148005023595,\n",
      "    loss_statistics={'texture_loss': {'crossent_loss_sum': 8.764894380007383e-05, 'center_loss_sum': 9.000769193848798e-06}, 'minutia_loss': {'crossent_loss_sum': 0.000601697670672224, 'center_loss_sum': 1.7116689050830706e-05}, 'minutia_map_loss': 0.00011222855657232935},\n",
      "    training_accuracy=0.949999988079071,\n",
      "    validation_equal_error_rate=0.949999988079071,\n",
      "}\n",
      "\n",
      "\n",
      " --- Starting Epoch 244 of 250 ---\n",
      "\n",
      "Training:\n"
     ]
    },
    {
     "name": "stderr",
     "output_type": "stream",
     "text": [
      "100%|██████████| 5/5 [01:11<00:00, 14.24s/it]\n"
     ]
    },
    {
     "name": "stdout",
     "output_type": "stream",
     "text": [
      "Average Loss: 2.4053188704326747\n",
      "Multiclass accuracy: 0.9375\n",
      "TrainingLogEntry(\n",
      "    epoch=244,\n",
      "    training_loss=2.4053188704326747,\n",
      "    loss_statistics={'texture_loss': {'crossent_loss_sum': 9.297405167953256e-05, 'center_loss_sum': 1.3470939917432278e-05}, 'minutia_loss': {'crossent_loss_sum': 0.0005380066246101537, 'center_loss_sum': 1.2749679309805645e-05}, 'minutia_map_loss': 0.00011770814807231047},\n",
      "    training_accuracy=0.9375,\n",
      "    validation_equal_error_rate=0.9375,\n",
      "}\n",
      "\n",
      "\n",
      " --- Starting Epoch 245 of 250 ---\n",
      "\n",
      "Training:\n"
     ]
    },
    {
     "name": "stderr",
     "output_type": "stream",
     "text": [
      "100%|██████████| 5/5 [07:06<00:00, 85.37s/it] \n"
     ]
    },
    {
     "name": "stdout",
     "output_type": "stream",
     "text": [
      "Average Loss: 2.481936542540789\n",
      "Multiclass accuracy: 0.9500000476837158\n",
      "TrainingLogEntry(\n",
      "    epoch=245,\n",
      "    training_loss=2.481936542540789,\n",
      "    loss_statistics={'texture_loss': {'crossent_loss_sum': 0.00010559380245514404, 'center_loss_sum': 1.0399610425035158e-05}, 'minutia_loss': {'crossent_loss_sum': 0.0005531064287210122, 'center_loss_sum': 1.5956763990032368e-05}, 'minutia_map_loss': 0.00011043587312675438},\n",
      "    training_accuracy=0.9500000476837158,\n",
      "    validation_equal_error_rate=0.9500000476837158,\n",
      "}\n",
      "\n",
      "\n",
      " --- Starting Epoch 246 of 250 ---\n",
      "\n",
      "Training:\n"
     ]
    },
    {
     "name": "stderr",
     "output_type": "stream",
     "text": [
      "100%|██████████| 5/5 [06:42<00:00, 80.55s/it] \n"
     ]
    },
    {
     "name": "stdout",
     "output_type": "stream",
     "text": [
      "Average Loss: 2.273681836649775\n",
      "Multiclass accuracy: 0.9750000238418579\n",
      "TrainingLogEntry(\n",
      "    epoch=246,\n",
      "    training_loss=2.273681836649775,\n",
      "    loss_statistics={'texture_loss': {'crossent_loss_sum': 6.819432601332665e-05, 'center_loss_sum': 6.854894323920717e-06}, 'minutia_loss': {'crossent_loss_sum': 0.000517940597266567, 'center_loss_sum': 1.5280422355447497e-05}, 'minutia_map_loss': 0.00011675584545758152},\n",
      "    training_accuracy=0.9750000238418579,\n",
      "    validation_equal_error_rate=0.9750000238418579,\n",
      "}\n",
      "\n",
      "\n",
      " --- Starting Epoch 247 of 250 ---\n",
      "\n",
      "Training:\n"
     ]
    },
    {
     "name": "stderr",
     "output_type": "stream",
     "text": [
      "100%|██████████| 5/5 [05:32<00:00, 66.46s/it]\n"
     ]
    },
    {
     "name": "stdout",
     "output_type": "stream",
     "text": [
      "Average Loss: 2.2894261585548525\n",
      "Multiclass accuracy: 0.925000011920929\n",
      "TrainingLogEntry(\n",
      "    epoch=247,\n",
      "    training_loss=2.2894261585548525,\n",
      "    loss_statistics={'texture_loss': {'crossent_loss_sum': 8.540424296093471e-05, 'center_loss_sum': 1.3819265505535349e-05}, 'minutia_loss': {'crossent_loss_sum': 0.0004999103582449976, 'center_loss_sum': 1.4870008453726768e-05}, 'minutia_map_loss': 0.00011233689628664385},\n",
      "    training_accuracy=0.925000011920929,\n",
      "    validation_equal_error_rate=0.925000011920929,\n",
      "}\n",
      "\n",
      "\n",
      " --- Starting Epoch 248 of 250 ---\n",
      "\n",
      "Training:\n"
     ]
    },
    {
     "name": "stderr",
     "output_type": "stream",
     "text": [
      "100%|██████████| 5/5 [02:15<00:00, 27.15s/it]\n"
     ]
    },
    {
     "name": "stdout",
     "output_type": "stream",
     "text": [
      "Average Loss: 2.5405250219628215\n",
      "Multiclass accuracy: 0.925000011920929\n",
      "TrainingLogEntry(\n",
      "    epoch=248,\n",
      "    training_loss=2.5405250219628215,\n",
      "    loss_statistics={'texture_loss': {'crossent_loss_sum': 0.0001073888126723092, 'center_loss_sum': 8.119357105419792e-06}, 'minutia_loss': {'crossent_loss_sum': 0.0005533355504575402, 'center_loss_sum': 1.6447501445207934e-05}, 'minutia_map_loss': 0.00011664217031052844},\n",
      "    training_accuracy=0.925000011920929,\n",
      "    validation_equal_error_rate=0.925000011920929,\n",
      "}\n",
      "\n",
      "\n",
      " --- Starting Epoch 249 of 250 ---\n",
      "\n",
      "Training:\n"
     ]
    },
    {
     "name": "stderr",
     "output_type": "stream",
     "text": [
      "100%|██████████| 5/5 [06:40<00:00, 80.15s/it]\n"
     ]
    },
    {
     "name": "stdout",
     "output_type": "stream",
     "text": [
      "Average Loss: 2.363038478754461\n",
      "Multiclass accuracy: 0.9250000715255737\n",
      "TrainingLogEntry(\n",
      "    epoch=249,\n",
      "    training_loss=2.363038478754461,\n",
      "    loss_statistics={'texture_loss': {'crossent_loss_sum': 7.806306508318263e-05, 'center_loss_sum': 1.5250181816705507e-05}, 'minutia_loss': {'crossent_loss_sum': 0.0005191720310767093, 'center_loss_sum': 1.6194583389477515e-05}, 'minutia_map_loss': 0.00011348047025791887},\n",
      "    training_accuracy=0.9250000715255737,\n",
      "    validation_equal_error_rate=0.9250000715255737,\n",
      "}\n",
      "\n",
      "\n",
      " --- Starting Epoch 250 of 250 ---\n",
      "\n",
      "Training:\n"
     ]
    },
    {
     "name": "stderr",
     "output_type": "stream",
     "text": [
      "100%|██████████| 5/5 [01:09<00:00, 13.96s/it]\n"
     ]
    },
    {
     "name": "stdout",
     "output_type": "stream",
     "text": [
      "Average Loss: 2.3148404164612293\n",
      "Multiclass accuracy: 0.9249999523162842\n",
      "TrainingLogEntry(\n",
      "    epoch=250,\n",
      "    training_loss=2.3148404164612293,\n",
      "    loss_statistics={'texture_loss': {'crossent_loss_sum': 6.748555321246386e-05, 'center_loss_sum': 1.115081668831408e-05}, 'minutia_loss': {'crossent_loss_sum': 0.000517459861934185, 'center_loss_sum': 1.503275753930211e-05}, 'minutia_map_loss': 0.00011225865916348994},\n",
      "    training_accuracy=0.9249999523162842,\n",
      "    validation_equal_error_rate=0.9249999523162842,\n",
      "}\n"
     ]
    }
   ],
   "source": [
    "import os\n",
    "\n",
    "import torch \n",
    "\n",
    "from flx.data.dataset import *\n",
    "from flx.data.image_loader import SFingeLoader\n",
    "from flx.data.minutia_map_loader import SFingeMinutiaMapLoader\n",
    "from flx.data.label_index import LabelIndex\n",
    "from flx.data.transformed_image_loader import TransformedImageLoader\n",
    "from flx.image_processing.binarization import LazilyAllocatedBinarizer\n",
    "from flx.data.image_helpers import pad_and_resize_to_deepprint_input_size\n",
    "\n",
    "# NOTE: If this does not work, enter the absolute paths manually here! \n",
    "DATASET_DIR: str = os.path.abspath(\"fvc_dataset/fvc2002_DB3_B capacitive/converted\")\n",
    "MODEL_OUTDIR: str = os.path.abspath(\"fvc2002_model\")\n",
    "\n",
    "# We will use the SFingeLoader to load the images from the dataset\n",
    "image_loader = TransformedImageLoader(\n",
    "        images=SFingeLoader(DATASET_DIR),\n",
    "        poses=None,\n",
    "        transforms=[\n",
    "            LazilyAllocatedBinarizer(5.0),\n",
    "            pad_and_resize_to_deepprint_input_size,\n",
    "        ],\n",
    "    )\n",
    "print(training_ids.num_subjects)\n",
    "\n",
    "image_dataset = Dataset(image_loader, training_ids)\n",
    "print(image_dataset)\n",
    "# For pytorch, we need to map the subjects to integer labels from [0 ... num_subjects-1]\n",
    "label_dataset = Dataset(LabelIndex(training_ids), training_ids)\n",
    "\n",
    "minutia_maps_dataset = Dataset(SFingeMinutiaMapLoader(DATASET_DIR), training_ids)\n",
    "\n",
    "extractor.fit(\n",
    "    fingerprints=image_dataset,\n",
    "    minutia_maps=minutia_maps_dataset,\n",
    "    labels=label_dataset,\n",
    "    validation_fingerprints=None,\n",
    "    validation_benchmark=None,\n",
    "    num_epochs=250,\n",
    "    out_dir=MODEL_OUTDIR\n",
    ")"
   ]
  },
  {
   "cell_type": "code",
   "execution_count": null,
   "id": "6c1a7b8d",
   "metadata": {},
   "outputs": [],
   "source": []
  }
 ],
 "metadata": {
  "kernelspec": {
   "display_name": "biometrics",
   "language": "python",
   "name": "python3"
  },
  "language_info": {
   "codemirror_mode": {
    "name": "ipython",
    "version": 3
   },
   "file_extension": ".py",
   "mimetype": "text/x-python",
   "name": "python",
   "nbconvert_exporter": "python",
   "pygments_lexer": "ipython3",
   "version": "3.10.13"
  }
 },
 "nbformat": 4,
 "nbformat_minor": 5
}
